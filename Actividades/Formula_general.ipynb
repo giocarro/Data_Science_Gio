{
  "nbformat": 4,
  "nbformat_minor": 0,
  "metadata": {
    "colab": {
      "provenance": [],
      "authorship_tag": "ABX9TyNK336kIab9/S9auREOMR2N",
      "include_colab_link": true
    },
    "kernelspec": {
      "name": "python3",
      "display_name": "Python 3"
    },
    "language_info": {
      "name": "python"
    }
  },
  "cells": [
    {
      "cell_type": "markdown",
      "metadata": {
        "id": "view-in-github",
        "colab_type": "text"
      },
      "source": [
        "<a href=\"https://colab.research.google.com/github/giocarro/Data_Science_Gio/blob/main/Actividades/Formula_general.ipynb\" target=\"_parent\"><img src=\"https://colab.research.google.com/assets/colab-badge.svg\" alt=\"Open In Colab\"/></a>"
      ]
    },
    {
      "cell_type": "code",
      "execution_count": null,
      "metadata": {
        "id": "54nQMbnzdHbJ"
      },
      "outputs": [],
      "source": []
    },
    {
      "cell_type": "code",
      "source": [
        "from math import sqrt\n",
        "\n",
        "def chicharronera(a,b,c):\n",
        "  # Calcula el discriminante\n",
        "  d = (b**2) - (4*a*c)\n",
        "\n",
        "  if d>=0:\n",
        "  # Soluciones\n",
        "    sol1 = (-b-sqrt(d))/(2*a)\n",
        "    sol2 = (-b+sqrt(d))/(2*a)\n",
        "    return sol1,sol2\n",
        "  else:\n",
        "    return \"Soluciones imaginarias\"\n",
        "\n",
        "chicharronera(3,2,1)"
      ],
      "metadata": {
        "colab": {
          "base_uri": "https://localhost:8080/",
          "height": 35
        },
        "id": "0y2YbtApddY5",
        "outputId": "232819b1-ccab-4dea-c3f0-d3024b9d15f6"
      },
      "execution_count": null,
      "outputs": [
        {
          "output_type": "execute_result",
          "data": {
            "text/plain": [
              "'Soluciones imaginarias'"
            ],
            "application/vnd.google.colaboratory.intrinsic+json": {
              "type": "string"
            }
          },
          "metadata": {},
          "execution_count": 26
        }
      ]
    },
    {
      "cell_type": "code",
      "source": [],
      "metadata": {
        "id": "_It6-QXPe-Vk"
      },
      "execution_count": null,
      "outputs": []
    }
  ]
}