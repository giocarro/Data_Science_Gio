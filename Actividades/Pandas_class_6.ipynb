{
  "nbformat": 4,
  "nbformat_minor": 0,
  "metadata": {
    "colab": {
      "provenance": [],
      "include_colab_link": true
    },
    "kernelspec": {
      "name": "python3",
      "display_name": "Python 3"
    },
    "language_info": {
      "name": "python"
    }
  },
  "cells": [
    {
      "cell_type": "markdown",
      "metadata": {
        "id": "view-in-github",
        "colab_type": "text"
      },
      "source": [
        "<a href=\"https://colab.research.google.com/github/giocarro/Data_Science_Gio/blob/main/Actividades/Pandas_class_6.ipynb\" target=\"_parent\"><img src=\"https://colab.research.google.com/assets/colab-badge.svg\" alt=\"Open In Colab\"/></a>"
      ]
    },
    {
      "cell_type": "markdown",
      "source": [
        "# DIPLOMADO CIENCIA MATEMÁTICA DE DATOS\n",
        "\n",
        "## MODULO: Dimensionality Reduction\n",
        "\n",
        "### 06/06/2023"
      ],
      "metadata": {
        "id": "L4JVzFUREORc"
      }
    },
    {
      "cell_type": "markdown",
      "source": [
        "## Libraries & Functions"
      ],
      "metadata": {
        "id": "J64I-64NEjYC"
      }
    },
    {
      "cell_type": "code",
      "source": [
        "import pandas as pd\n",
        "import numpy as np\n",
        "import plotly.express as px\n",
        "from sklearn.datasets import load_breast_cancer\n",
        "from sklearn.model_selection import train_test_split, GridSearchCV\n",
        "from sklearn.preprocessing import StandardScaler\n",
        "from sklearn.linear_model import LogisticRegression\n",
        "from sklearn.neighbors import KNeighborsClassifier\n",
        "from sklearn.svm import SVC\n",
        "from sklearn.naive_bayes import GaussianNB\n",
        "from sklearn.tree import DecisionTreeClassifier\n",
        "from sklearn.ensemble import RandomForestClassifier\n",
        "from sklearn.metrics import accuracy_score, precision_score, recall_score, f1_score, classification_report, confusion_matrix\n",
        "from sklearn.decomposition import PCA"
      ],
      "metadata": {
        "id": "5jMnS3K7EKBv"
      },
      "execution_count": null,
      "outputs": []
    },
    {
      "cell_type": "code",
      "source": [
        "def plot_confusion_matrix(cm, labels):\n",
        "    fig_cm = px.imshow(cm, labels=dict(x=\"Predicted\", y=\"Actual\", color=\"Count\"),\n",
        "                       x=labels, y=labels, color_continuous_scale='Viridis', text_auto = True,\n",
        "                       title=\"Confusion Matrix\")\n",
        "    fig_cm.update_layout(coloraxis_showscale=False)\n",
        "    fig_cm.show()"
      ],
      "metadata": {
        "id": "69LBEDuTFHaG"
      },
      "execution_count": null,
      "outputs": []
    },
    {
      "cell_type": "markdown",
      "source": [
        "## Data Loading"
      ],
      "metadata": {
        "id": "UOT01B6zEmmQ"
      }
    },
    {
      "cell_type": "code",
      "source": [
        "breast_cancer = load_breast_cancer()\n",
        "df = pd.DataFrame(data=breast_cancer.data, columns=breast_cancer.feature_names)\n",
        "df['target'] = breast_cancer.target\n",
        "df.head()"
      ],
      "metadata": {
        "colab": {
          "base_uri": "https://localhost:8080/",
          "height": 334
        },
        "id": "_i7kmfnJEdJB",
        "outputId": "97b17194-78dc-4eae-8374-c2abd1a85906"
      },
      "execution_count": null,
      "outputs": [
        {
          "output_type": "execute_result",
          "data": {
            "text/plain": [
              "   mean radius  mean texture  mean perimeter  mean area  mean smoothness  \\\n",
              "0        17.99         10.38          122.80     1001.0          0.11840   \n",
              "1        20.57         17.77          132.90     1326.0          0.08474   \n",
              "2        19.69         21.25          130.00     1203.0          0.10960   \n",
              "3        11.42         20.38           77.58      386.1          0.14250   \n",
              "4        20.29         14.34          135.10     1297.0          0.10030   \n",
              "\n",
              "   mean compactness  mean concavity  mean concave points  mean symmetry  \\\n",
              "0           0.27760          0.3001              0.14710         0.2419   \n",
              "1           0.07864          0.0869              0.07017         0.1812   \n",
              "2           0.15990          0.1974              0.12790         0.2069   \n",
              "3           0.28390          0.2414              0.10520         0.2597   \n",
              "4           0.13280          0.1980              0.10430         0.1809   \n",
              "\n",
              "   mean fractal dimension  ...  worst texture  worst perimeter  worst area  \\\n",
              "0                 0.07871  ...          17.33           184.60      2019.0   \n",
              "1                 0.05667  ...          23.41           158.80      1956.0   \n",
              "2                 0.05999  ...          25.53           152.50      1709.0   \n",
              "3                 0.09744  ...          26.50            98.87       567.7   \n",
              "4                 0.05883  ...          16.67           152.20      1575.0   \n",
              "\n",
              "   worst smoothness  worst compactness  worst concavity  worst concave points  \\\n",
              "0            0.1622             0.6656           0.7119                0.2654   \n",
              "1            0.1238             0.1866           0.2416                0.1860   \n",
              "2            0.1444             0.4245           0.4504                0.2430   \n",
              "3            0.2098             0.8663           0.6869                0.2575   \n",
              "4            0.1374             0.2050           0.4000                0.1625   \n",
              "\n",
              "   worst symmetry  worst fractal dimension  target  \n",
              "0          0.4601                  0.11890       0  \n",
              "1          0.2750                  0.08902       0  \n",
              "2          0.3613                  0.08758       0  \n",
              "3          0.6638                  0.17300       0  \n",
              "4          0.2364                  0.07678       0  \n",
              "\n",
              "[5 rows x 31 columns]"
            ],
            "text/html": [
              "\n",
              "  <div id=\"df-1877a239-2edf-489d-ad14-75dcf9477240\">\n",
              "    <div class=\"colab-df-container\">\n",
              "      <div>\n",
              "<style scoped>\n",
              "    .dataframe tbody tr th:only-of-type {\n",
              "        vertical-align: middle;\n",
              "    }\n",
              "\n",
              "    .dataframe tbody tr th {\n",
              "        vertical-align: top;\n",
              "    }\n",
              "\n",
              "    .dataframe thead th {\n",
              "        text-align: right;\n",
              "    }\n",
              "</style>\n",
              "<table border=\"1\" class=\"dataframe\">\n",
              "  <thead>\n",
              "    <tr style=\"text-align: right;\">\n",
              "      <th></th>\n",
              "      <th>mean radius</th>\n",
              "      <th>mean texture</th>\n",
              "      <th>mean perimeter</th>\n",
              "      <th>mean area</th>\n",
              "      <th>mean smoothness</th>\n",
              "      <th>mean compactness</th>\n",
              "      <th>mean concavity</th>\n",
              "      <th>mean concave points</th>\n",
              "      <th>mean symmetry</th>\n",
              "      <th>mean fractal dimension</th>\n",
              "      <th>...</th>\n",
              "      <th>worst texture</th>\n",
              "      <th>worst perimeter</th>\n",
              "      <th>worst area</th>\n",
              "      <th>worst smoothness</th>\n",
              "      <th>worst compactness</th>\n",
              "      <th>worst concavity</th>\n",
              "      <th>worst concave points</th>\n",
              "      <th>worst symmetry</th>\n",
              "      <th>worst fractal dimension</th>\n",
              "      <th>target</th>\n",
              "    </tr>\n",
              "  </thead>\n",
              "  <tbody>\n",
              "    <tr>\n",
              "      <th>0</th>\n",
              "      <td>17.99</td>\n",
              "      <td>10.38</td>\n",
              "      <td>122.80</td>\n",
              "      <td>1001.0</td>\n",
              "      <td>0.11840</td>\n",
              "      <td>0.27760</td>\n",
              "      <td>0.3001</td>\n",
              "      <td>0.14710</td>\n",
              "      <td>0.2419</td>\n",
              "      <td>0.07871</td>\n",
              "      <td>...</td>\n",
              "      <td>17.33</td>\n",
              "      <td>184.60</td>\n",
              "      <td>2019.0</td>\n",
              "      <td>0.1622</td>\n",
              "      <td>0.6656</td>\n",
              "      <td>0.7119</td>\n",
              "      <td>0.2654</td>\n",
              "      <td>0.4601</td>\n",
              "      <td>0.11890</td>\n",
              "      <td>0</td>\n",
              "    </tr>\n",
              "    <tr>\n",
              "      <th>1</th>\n",
              "      <td>20.57</td>\n",
              "      <td>17.77</td>\n",
              "      <td>132.90</td>\n",
              "      <td>1326.0</td>\n",
              "      <td>0.08474</td>\n",
              "      <td>0.07864</td>\n",
              "      <td>0.0869</td>\n",
              "      <td>0.07017</td>\n",
              "      <td>0.1812</td>\n",
              "      <td>0.05667</td>\n",
              "      <td>...</td>\n",
              "      <td>23.41</td>\n",
              "      <td>158.80</td>\n",
              "      <td>1956.0</td>\n",
              "      <td>0.1238</td>\n",
              "      <td>0.1866</td>\n",
              "      <td>0.2416</td>\n",
              "      <td>0.1860</td>\n",
              "      <td>0.2750</td>\n",
              "      <td>0.08902</td>\n",
              "      <td>0</td>\n",
              "    </tr>\n",
              "    <tr>\n",
              "      <th>2</th>\n",
              "      <td>19.69</td>\n",
              "      <td>21.25</td>\n",
              "      <td>130.00</td>\n",
              "      <td>1203.0</td>\n",
              "      <td>0.10960</td>\n",
              "      <td>0.15990</td>\n",
              "      <td>0.1974</td>\n",
              "      <td>0.12790</td>\n",
              "      <td>0.2069</td>\n",
              "      <td>0.05999</td>\n",
              "      <td>...</td>\n",
              "      <td>25.53</td>\n",
              "      <td>152.50</td>\n",
              "      <td>1709.0</td>\n",
              "      <td>0.1444</td>\n",
              "      <td>0.4245</td>\n",
              "      <td>0.4504</td>\n",
              "      <td>0.2430</td>\n",
              "      <td>0.3613</td>\n",
              "      <td>0.08758</td>\n",
              "      <td>0</td>\n",
              "    </tr>\n",
              "    <tr>\n",
              "      <th>3</th>\n",
              "      <td>11.42</td>\n",
              "      <td>20.38</td>\n",
              "      <td>77.58</td>\n",
              "      <td>386.1</td>\n",
              "      <td>0.14250</td>\n",
              "      <td>0.28390</td>\n",
              "      <td>0.2414</td>\n",
              "      <td>0.10520</td>\n",
              "      <td>0.2597</td>\n",
              "      <td>0.09744</td>\n",
              "      <td>...</td>\n",
              "      <td>26.50</td>\n",
              "      <td>98.87</td>\n",
              "      <td>567.7</td>\n",
              "      <td>0.2098</td>\n",
              "      <td>0.8663</td>\n",
              "      <td>0.6869</td>\n",
              "      <td>0.2575</td>\n",
              "      <td>0.6638</td>\n",
              "      <td>0.17300</td>\n",
              "      <td>0</td>\n",
              "    </tr>\n",
              "    <tr>\n",
              "      <th>4</th>\n",
              "      <td>20.29</td>\n",
              "      <td>14.34</td>\n",
              "      <td>135.10</td>\n",
              "      <td>1297.0</td>\n",
              "      <td>0.10030</td>\n",
              "      <td>0.13280</td>\n",
              "      <td>0.1980</td>\n",
              "      <td>0.10430</td>\n",
              "      <td>0.1809</td>\n",
              "      <td>0.05883</td>\n",
              "      <td>...</td>\n",
              "      <td>16.67</td>\n",
              "      <td>152.20</td>\n",
              "      <td>1575.0</td>\n",
              "      <td>0.1374</td>\n",
              "      <td>0.2050</td>\n",
              "      <td>0.4000</td>\n",
              "      <td>0.1625</td>\n",
              "      <td>0.2364</td>\n",
              "      <td>0.07678</td>\n",
              "      <td>0</td>\n",
              "    </tr>\n",
              "  </tbody>\n",
              "</table>\n",
              "<p>5 rows × 31 columns</p>\n",
              "</div>\n",
              "      <button class=\"colab-df-convert\" onclick=\"convertToInteractive('df-1877a239-2edf-489d-ad14-75dcf9477240')\"\n",
              "              title=\"Convert this dataframe to an interactive table.\"\n",
              "              style=\"display:none;\">\n",
              "        \n",
              "  <svg xmlns=\"http://www.w3.org/2000/svg\" height=\"24px\"viewBox=\"0 0 24 24\"\n",
              "       width=\"24px\">\n",
              "    <path d=\"M0 0h24v24H0V0z\" fill=\"none\"/>\n",
              "    <path d=\"M18.56 5.44l.94 2.06.94-2.06 2.06-.94-2.06-.94-.94-2.06-.94 2.06-2.06.94zm-11 1L8.5 8.5l.94-2.06 2.06-.94-2.06-.94L8.5 2.5l-.94 2.06-2.06.94zm10 10l.94 2.06.94-2.06 2.06-.94-2.06-.94-.94-2.06-.94 2.06-2.06.94z\"/><path d=\"M17.41 7.96l-1.37-1.37c-.4-.4-.92-.59-1.43-.59-.52 0-1.04.2-1.43.59L10.3 9.45l-7.72 7.72c-.78.78-.78 2.05 0 2.83L4 21.41c.39.39.9.59 1.41.59.51 0 1.02-.2 1.41-.59l7.78-7.78 2.81-2.81c.8-.78.8-2.07 0-2.86zM5.41 20L4 18.59l7.72-7.72 1.47 1.35L5.41 20z\"/>\n",
              "  </svg>\n",
              "      </button>\n",
              "      \n",
              "  <style>\n",
              "    .colab-df-container {\n",
              "      display:flex;\n",
              "      flex-wrap:wrap;\n",
              "      gap: 12px;\n",
              "    }\n",
              "\n",
              "    .colab-df-convert {\n",
              "      background-color: #E8F0FE;\n",
              "      border: none;\n",
              "      border-radius: 50%;\n",
              "      cursor: pointer;\n",
              "      display: none;\n",
              "      fill: #1967D2;\n",
              "      height: 32px;\n",
              "      padding: 0 0 0 0;\n",
              "      width: 32px;\n",
              "    }\n",
              "\n",
              "    .colab-df-convert:hover {\n",
              "      background-color: #E2EBFA;\n",
              "      box-shadow: 0px 1px 2px rgba(60, 64, 67, 0.3), 0px 1px 3px 1px rgba(60, 64, 67, 0.15);\n",
              "      fill: #174EA6;\n",
              "    }\n",
              "\n",
              "    [theme=dark] .colab-df-convert {\n",
              "      background-color: #3B4455;\n",
              "      fill: #D2E3FC;\n",
              "    }\n",
              "\n",
              "    [theme=dark] .colab-df-convert:hover {\n",
              "      background-color: #434B5C;\n",
              "      box-shadow: 0px 1px 3px 1px rgba(0, 0, 0, 0.15);\n",
              "      filter: drop-shadow(0px 1px 2px rgba(0, 0, 0, 0.3));\n",
              "      fill: #FFFFFF;\n",
              "    }\n",
              "  </style>\n",
              "\n",
              "      <script>\n",
              "        const buttonEl =\n",
              "          document.querySelector('#df-1877a239-2edf-489d-ad14-75dcf9477240 button.colab-df-convert');\n",
              "        buttonEl.style.display =\n",
              "          google.colab.kernel.accessAllowed ? 'block' : 'none';\n",
              "\n",
              "        async function convertToInteractive(key) {\n",
              "          const element = document.querySelector('#df-1877a239-2edf-489d-ad14-75dcf9477240');\n",
              "          const dataTable =\n",
              "            await google.colab.kernel.invokeFunction('convertToInteractive',\n",
              "                                                     [key], {});\n",
              "          if (!dataTable) return;\n",
              "\n",
              "          const docLinkHtml = 'Like what you see? Visit the ' +\n",
              "            '<a target=\"_blank\" href=https://colab.research.google.com/notebooks/data_table.ipynb>data table notebook</a>'\n",
              "            + ' to learn more about interactive tables.';\n",
              "          element.innerHTML = '';\n",
              "          dataTable['output_type'] = 'display_data';\n",
              "          await google.colab.output.renderOutput(dataTable, element);\n",
              "          const docLink = document.createElement('div');\n",
              "          docLink.innerHTML = docLinkHtml;\n",
              "          element.appendChild(docLink);\n",
              "        }\n",
              "      </script>\n",
              "    </div>\n",
              "  </div>\n",
              "  "
            ]
          },
          "metadata": {},
          "execution_count": 2
        }
      ]
    },
    {
      "cell_type": "code",
      "source": [
        "df.info()"
      ],
      "metadata": {
        "colab": {
          "base_uri": "https://localhost:8080/"
        },
        "id": "9i6tYXU0A9Zd",
        "outputId": "6c38f70a-0c90-44ed-eaa9-fa0e1ee885f0"
      },
      "execution_count": null,
      "outputs": [
        {
          "output_type": "stream",
          "name": "stdout",
          "text": [
            "<class 'pandas.core.frame.DataFrame'>\n",
            "RangeIndex: 569 entries, 0 to 568\n",
            "Data columns (total 31 columns):\n",
            " #   Column                   Non-Null Count  Dtype  \n",
            "---  ------                   --------------  -----  \n",
            " 0   mean radius              569 non-null    float64\n",
            " 1   mean texture             569 non-null    float64\n",
            " 2   mean perimeter           569 non-null    float64\n",
            " 3   mean area                569 non-null    float64\n",
            " 4   mean smoothness          569 non-null    float64\n",
            " 5   mean compactness         569 non-null    float64\n",
            " 6   mean concavity           569 non-null    float64\n",
            " 7   mean concave points      569 non-null    float64\n",
            " 8   mean symmetry            569 non-null    float64\n",
            " 9   mean fractal dimension   569 non-null    float64\n",
            " 10  radius error             569 non-null    float64\n",
            " 11  texture error            569 non-null    float64\n",
            " 12  perimeter error          569 non-null    float64\n",
            " 13  area error               569 non-null    float64\n",
            " 14  smoothness error         569 non-null    float64\n",
            " 15  compactness error        569 non-null    float64\n",
            " 16  concavity error          569 non-null    float64\n",
            " 17  concave points error     569 non-null    float64\n",
            " 18  symmetry error           569 non-null    float64\n",
            " 19  fractal dimension error  569 non-null    float64\n",
            " 20  worst radius             569 non-null    float64\n",
            " 21  worst texture            569 non-null    float64\n",
            " 22  worst perimeter          569 non-null    float64\n",
            " 23  worst area               569 non-null    float64\n",
            " 24  worst smoothness         569 non-null    float64\n",
            " 25  worst compactness        569 non-null    float64\n",
            " 26  worst concavity          569 non-null    float64\n",
            " 27  worst concave points     569 non-null    float64\n",
            " 28  worst symmetry           569 non-null    float64\n",
            " 29  worst fractal dimension  569 non-null    float64\n",
            " 30  target                   569 non-null    int64  \n",
            "dtypes: float64(30), int64(1)\n",
            "memory usage: 137.9 KB\n"
          ]
        }
      ]
    },
    {
      "cell_type": "markdown",
      "source": [
        "## Principal Component Analysis (PCA)"
      ],
      "metadata": {
        "id": "Pw9hREM1YYP8"
      }
    },
    {
      "cell_type": "markdown",
      "source": [
        "PCA is a dimensionality reduction technique used to transform a dataset from a high-dimensional space into a lower-dimensional space while retaining most of the original information. It accomplishes this by identifying the principal components, which are new orthogonal variables that capture the maximum variance in the data.\n",
        "\n",
        "**Steps of PCA:**\n",
        "\n",
        "1. **Standardization:** Before applying PCA, it is important to standardize the features to have zero mean and unit variance. This ensures that all features contribute equally to the analysis. The standardized value for a feature x is calculated as follows:\n",
        "\n",
        "   ![Standardization Formula](https://latex.codecogs.com/png.image?\\dpi{150}&space;\\bg_white&space;z&space;=&space;\\frac{x&space;-&space;\\mu}{\\sigma})\n",
        "\n",
        "   where z is the standardized value, x is the original value, μ is the mean of the feature, and σ is the standard deviation of the feature.\n",
        "\n",
        "2. **Covariance Matrix:** Compute the covariance matrix of the standardized data. The covariance matrix measures the relationships between pairs of features and provides insights into the data's variance structure. The covariance between two features x and y is calculated as follows:\n",
        "\n",
        "   ![Covariance Formula](https://latex.codecogs.com/png.image?\\dpi{150}&space;\\bg_white&space;Cov(x,&space;y)&space;=&space;\\frac{1}{n-1}\\sum_{i=1}^{n}(x_i&space;-&space;\\bar{x})(y_i&space;-&space;\\bar{y}))\n",
        "\n",
        "   where Cov(x, y) is the covariance between x and y, n is the number of samples, xi and yi are the standardized values of x and y, and 𝑥̅ and 𝑦̅ are the means of x and y, respectively.\n",
        "\n",
        "3. **Eigenvalue Decomposition:** Perform eigenvalue decomposition on the covariance matrix to obtain the eigenvectors and eigenvalues. The eigenvectors represent the principal components, and the corresponding eigenvalues indicate the amount of variance explained by each principal component. The eigenvalue decomposition equation is as follows:\n",
        "\n",
        "   ![Eigenvalue Decomposition Formula](https://latex.codecogs.com/png.image?\\dpi{150}&space;\\bg_white&space;\\mathbf{C}&space;\\mathbf{v}&space;=&space;\\lambda&space;\\mathbf{v})\n",
        "\n",
        "   where C is the covariance matrix, v is the eigenvector, λ is the eigenvalue.\n",
        "\n",
        "4. **Selecting Principal Components:** Sort the eigenvalues in descending order and select the top k eigenvectors corresponding to the highest eigenvalues. These eigenvectors constitute the principal components that capture the most significant variation in the data.\n",
        "\n",
        "5. **Projection:** Project the original data onto the selected principal components to obtain the transformed dataset in the lower-dimensional space. The transformed value for a sample x is calculated as follows:\n",
        "\n",
        "   ![Projection Formula](https://latex.codecogs.com/png.image?\\dpi{150}&space;\\bg_white&space;\\mathbf{y}&space;=&space;\\mathbf{x}&space;\\mathbf{W})\n",
        "\n",
        "   where y is the transformed value, x is the original value, and W is the matrix formed by concatenating the selected eigenvectors.\n",
        "\n",
        "Certainly! Here's the section on interpreting PCA, repeated for your convenience:\n",
        "\n",
        "**Interpreting PCA:**\n",
        "\n",
        "PCA provides several insights into the data:\n",
        "\n",
        "- The eigenvalues indicate the amount of variance explained by each principal component. Larger eigenvalues correspond to principal components that capture more variation in the data.\n",
        "\n",
        "- The eigenvectors (principal components) are orthogonal to each other. They represent new axes in the transformed space, where each axis captures a different aspect of the data's variance.\n",
        "\n",
        "- The cumulative explained variance can be calculated by summing the eigenvalues. It helps determine the number of principal components needed to retain a desired amount of information. The cumulative explained variance up to the k-th principal component can be calculated as follows:\n",
        "Explained Variance_cumulative(k) = (∑_{i=1}^{k} λ_i) / (∑_{j=1}^{p} λ_j)\n",
        "where Explained Variance_cumulative(k) is the cumulative explained variance up to the k-th principal component, λ_i is the eigenvalue of the i-th principal component, and p is the total number of principal components.\n",
        "\n",
        "- The principal components can be interpreted in terms of feature importance. The higher the absolute value of the component's coefficients, the more it contributes to the variance in the data. Positive coefficients indicate a positive correlation with the component, while negative coefficients indicate a negative correlation.\n",
        "\n",
        "- PCA can also be visualized by plotting the transformed data in the reduced-dimensional space. Each point represents a sample, and the axes correspond to the principal components. By examining the distribution of samples, patterns, clusters, or separability in the transformed space can be observed.\n",
        "\n",
        "By understanding and interpreting the eigenvalues, eigenvectors, cumulative explained variance, feature importance, and visualizations, we can gain valuable insights into the underlying structure and patterns in the data through PCA.\n",
        "\n",
        "**Applications of PCA:**\n",
        "\n",
        "- *Dimensionality Reduction:* PCA is primarily used for dimensionality reduction, where high-dimensional datasets are transformed into lower-dimensional representations while preserving most of the information.\n",
        "\n",
        "- *Data Visualization:* PCA can be used to visualize high-dimensional data in two or three dimensions by projecting it onto the principal components. This allows for better understanding and interpretation of the data.\n",
        "\n",
        "- *Noise Reduction:* PCA can help in denoising data by removing noise-related principal components that contribute little to the overall variance. By discarding the components with lower eigenvalues, noise can be reduced in the reconstructed data.\n",
        "\n",
        "- *Feature Extraction:* PCA can be used as a feature extraction technique to derive new features that capture the most important aspects of the data. The transformed principal components can be used as features in subsequent analysis tasks.\n",
        "\n",
        "By applying PCA, we can gain insights into the data's variance structure, reduce dimensionality, visualize high-dimensional data, remove noise, and extract meaningful features."
      ],
      "metadata": {
        "id": "5mtwS3WMZ4Bj"
      }
    },
    {
      "cell_type": "code",
      "source": [
        "X = breast_cancer.data  # Features\n",
        "y = breast_cancer.target  # Labels"
      ],
      "metadata": {
        "id": "jQI3VYmeTwa6"
      },
      "execution_count": null,
      "outputs": []
    },
    {
      "cell_type": "code",
      "source": [
        "X"
      ],
      "metadata": {
        "colab": {
          "base_uri": "https://localhost:8080/"
        },
        "id": "H2hi-aKLpd_m",
        "outputId": "1e28770d-1adb-489f-99c7-088a05cefb7d"
      },
      "execution_count": null,
      "outputs": [
        {
          "output_type": "execute_result",
          "data": {
            "text/plain": [
              "array([[1.799e+01, 1.038e+01, 1.228e+02, ..., 2.654e-01, 4.601e-01,\n",
              "        1.189e-01],\n",
              "       [2.057e+01, 1.777e+01, 1.329e+02, ..., 1.860e-01, 2.750e-01,\n",
              "        8.902e-02],\n",
              "       [1.969e+01, 2.125e+01, 1.300e+02, ..., 2.430e-01, 3.613e-01,\n",
              "        8.758e-02],\n",
              "       ...,\n",
              "       [1.660e+01, 2.808e+01, 1.083e+02, ..., 1.418e-01, 2.218e-01,\n",
              "        7.820e-02],\n",
              "       [2.060e+01, 2.933e+01, 1.401e+02, ..., 2.650e-01, 4.087e-01,\n",
              "        1.240e-01],\n",
              "       [7.760e+00, 2.454e+01, 4.792e+01, ..., 0.000e+00, 2.871e-01,\n",
              "        7.039e-02]])"
            ]
          },
          "metadata": {},
          "execution_count": 5
        }
      ]
    },
    {
      "cell_type": "code",
      "source": [
        "y"
      ],
      "metadata": {
        "colab": {
          "base_uri": "https://localhost:8080/"
        },
        "id": "vCIrDQr7piO9",
        "outputId": "42260630-6e72-4e85-a44c-d8d8e9d6659d"
      },
      "execution_count": null,
      "outputs": [
        {
          "output_type": "execute_result",
          "data": {
            "text/plain": [
              "array([0, 0, 0, 0, 0, 0, 0, 0, 0, 0, 0, 0, 0, 0, 0, 0, 0, 0, 0, 1, 1, 1,\n",
              "       0, 0, 0, 0, 0, 0, 0, 0, 0, 0, 0, 0, 0, 0, 0, 1, 0, 0, 0, 0, 0, 0,\n",
              "       0, 0, 1, 0, 1, 1, 1, 1, 1, 0, 0, 1, 0, 0, 1, 1, 1, 1, 0, 1, 0, 0,\n",
              "       1, 1, 1, 1, 0, 1, 0, 0, 1, 0, 1, 0, 0, 1, 1, 1, 0, 0, 1, 0, 0, 0,\n",
              "       1, 1, 1, 0, 1, 1, 0, 0, 1, 1, 1, 0, 0, 1, 1, 1, 1, 0, 1, 1, 0, 1,\n",
              "       1, 1, 1, 1, 1, 1, 1, 0, 0, 0, 1, 0, 0, 1, 1, 1, 0, 0, 1, 0, 1, 0,\n",
              "       0, 1, 0, 0, 1, 1, 0, 1, 1, 0, 1, 1, 1, 1, 0, 1, 1, 1, 1, 1, 1, 1,\n",
              "       1, 1, 0, 1, 1, 1, 1, 0, 0, 1, 0, 1, 1, 0, 0, 1, 1, 0, 0, 1, 1, 1,\n",
              "       1, 0, 1, 1, 0, 0, 0, 1, 0, 1, 0, 1, 1, 1, 0, 1, 1, 0, 0, 1, 0, 0,\n",
              "       0, 0, 1, 0, 0, 0, 1, 0, 1, 0, 1, 1, 0, 1, 0, 0, 0, 0, 1, 1, 0, 0,\n",
              "       1, 1, 1, 0, 1, 1, 1, 1, 1, 0, 0, 1, 1, 0, 1, 1, 0, 0, 1, 0, 1, 1,\n",
              "       1, 1, 0, 1, 1, 1, 1, 1, 0, 1, 0, 0, 0, 0, 0, 0, 0, 0, 0, 0, 0, 0,\n",
              "       0, 0, 1, 1, 1, 1, 1, 1, 0, 1, 0, 1, 1, 0, 1, 1, 0, 1, 0, 0, 1, 1,\n",
              "       1, 1, 1, 1, 1, 1, 1, 1, 1, 1, 1, 0, 1, 1, 0, 1, 0, 1, 1, 1, 1, 1,\n",
              "       1, 1, 1, 1, 1, 1, 1, 1, 1, 0, 1, 1, 1, 0, 1, 0, 1, 1, 1, 1, 0, 0,\n",
              "       0, 1, 1, 1, 1, 0, 1, 0, 1, 0, 1, 1, 1, 0, 1, 1, 1, 1, 1, 1, 1, 0,\n",
              "       0, 0, 1, 1, 1, 1, 1, 1, 1, 1, 1, 1, 1, 0, 0, 1, 0, 0, 0, 1, 0, 0,\n",
              "       1, 1, 1, 1, 1, 0, 1, 1, 1, 1, 1, 0, 1, 1, 1, 0, 1, 1, 0, 0, 1, 1,\n",
              "       1, 1, 1, 1, 0, 1, 1, 1, 1, 1, 1, 1, 0, 1, 1, 1, 1, 1, 0, 1, 1, 0,\n",
              "       1, 1, 1, 1, 1, 1, 1, 1, 1, 1, 1, 1, 0, 1, 0, 0, 1, 0, 1, 1, 1, 1,\n",
              "       1, 0, 1, 1, 0, 1, 0, 1, 1, 0, 1, 0, 1, 1, 1, 1, 1, 1, 1, 1, 0, 0,\n",
              "       1, 1, 1, 1, 1, 1, 0, 1, 1, 1, 1, 1, 1, 1, 1, 1, 1, 0, 1, 1, 1, 1,\n",
              "       1, 1, 1, 0, 1, 0, 1, 1, 0, 1, 1, 1, 1, 1, 0, 0, 1, 0, 1, 0, 1, 1,\n",
              "       1, 1, 1, 0, 1, 1, 0, 1, 0, 1, 0, 0, 1, 1, 1, 0, 1, 1, 1, 1, 1, 1,\n",
              "       1, 1, 1, 1, 1, 0, 1, 0, 0, 1, 1, 1, 1, 1, 1, 1, 1, 1, 1, 1, 1, 1,\n",
              "       1, 1, 1, 1, 1, 1, 1, 1, 1, 1, 1, 1, 0, 0, 0, 0, 0, 0, 1])"
            ]
          },
          "metadata": {},
          "execution_count": 6
        }
      ]
    },
    {
      "cell_type": "code",
      "source": [
        "scaler = StandardScaler()\n",
        "X_scaled = scaler.fit_transform(X)"
      ],
      "metadata": {
        "id": "uVBrW3oacAa_"
      },
      "execution_count": null,
      "outputs": []
    },
    {
      "cell_type": "markdown",
      "source": [
        "In PCA, the `explained_variance_ratio_` and `components_` attributes provide important insights into the transformed data and the contribution of each principal component. Here's how you can use and interpret these attributes:\n",
        "\n",
        "#### Explained Variance Ratio (`explained_variance_ratio_`):\n",
        "\n",
        "The `explained_variance_ratio_` attribute of the PCA object represents the proportion of the variance explained by each principal component.\n",
        "\n",
        "- Each value in `explained_variance_ratio_` corresponds to a principal component and indicates the percentage of the total variance explained by that component.\n",
        "- You can use this attribute to determine the relative importance of each principal component in capturing the variability in the data.\n",
        "- The sum of all values in `explained_variance_ratio_` equals 1, meaning it accounts for all the variance in the data.\n",
        "- Higher values in `explained_variance_ratio_` indicate that the corresponding principal components capture more information from the original data.\n",
        "\n",
        "#### Principal Components' Coefficients (`components_`):\n",
        "\n",
        "The `components_` attribute of the PCA object represents the coefficients or weights of the original features in the transformed PCA space.\n",
        "\n",
        "- It is a matrix where each row corresponds to a principal component, and each column represents a feature in the original dataset.\n",
        "- The values in `components_` indicate the contribution or influence of each feature on the corresponding principal component.\n",
        "- Positive and negative values in `components_` represent the direction and magnitude of the feature's influence on the principal component.\n",
        "- Features with higher absolute values in `components_` have a stronger impact on the corresponding principal component.\n",
        "- You can use this attribute to understand which original features contribute the most to each principal component and identify patterns or relationships between features and components.\n",
        "\n",
        "To interpret `explained_variance_ratio_` and `components_`, you can follow these steps:\n",
        "\n",
        "1. Check `explained_variance_ratio_` to understand the proportion of variance explained by each principal component. Higher values indicate more significant contributions.\n",
        "2. Examine the individual values in `explained_variance_ratio_` to identify the most important principal components. You may consider selecting components with high cumulative variance, such as those above a certain threshold.\n",
        "3. Use `components_` to inspect the coefficients or weights of the original features in each principal component. Look for features with high absolute values, as they have a stronger influence on the component.\n",
        "4. Analyze the relationships between the original features and the principal components. Features with similar signs and magnitudes in different components may indicate common patterns or correlations.\n",
        "5. Consider the cumulative contribution of the selected principal components. You can sum the `explained_variance_ratio_` values to determine the total proportion of variance explained by the chosen components.\n",
        "\n",
        "By understanding the `explained_variance_ratio_` and `components_`, you can gain insights into the transformed data and make informed decisions about the importance of each principal component and the relationships between features and components.\n"
      ],
      "metadata": {
        "id": "gyxvuBdJft0m"
      }
    },
    {
      "cell_type": "markdown",
      "source": [
        "### PCA with 2 components"
      ],
      "metadata": {
        "id": "Iitu91UXcIXT"
      }
    },
    {
      "cell_type": "code",
      "source": [
        "pca_2d = PCA(n_components=2)\n",
        "X_pca_2d = pca_2d.fit_transform(X_scaled)\n",
        "pca_df_2d = pd.DataFrame(data=X_pca_2d, columns=['PC1', 'PC2'])\n",
        "pca_df_2d['diagnosis'] = y\n",
        "pca_df_2d.head()"
      ],
      "metadata": {
        "colab": {
          "base_uri": "https://localhost:8080/",
          "height": 206
        },
        "id": "2BnQrtF8cDOE",
        "outputId": "c76ab51a-4639-4897-f1db-c3b24884d247"
      },
      "execution_count": null,
      "outputs": [
        {
          "output_type": "execute_result",
          "data": {
            "text/plain": [
              "        PC1        PC2  diagnosis\n",
              "0  9.192837   1.948583          0\n",
              "1  2.387802  -3.768172          0\n",
              "2  5.733896  -1.075174          0\n",
              "3  7.122953  10.275589          0\n",
              "4  3.935302  -1.948072          0"
            ],
            "text/html": [
              "\n",
              "  <div id=\"df-8dda4d8c-52b8-4126-b7f1-a57e84a728a6\">\n",
              "    <div class=\"colab-df-container\">\n",
              "      <div>\n",
              "<style scoped>\n",
              "    .dataframe tbody tr th:only-of-type {\n",
              "        vertical-align: middle;\n",
              "    }\n",
              "\n",
              "    .dataframe tbody tr th {\n",
              "        vertical-align: top;\n",
              "    }\n",
              "\n",
              "    .dataframe thead th {\n",
              "        text-align: right;\n",
              "    }\n",
              "</style>\n",
              "<table border=\"1\" class=\"dataframe\">\n",
              "  <thead>\n",
              "    <tr style=\"text-align: right;\">\n",
              "      <th></th>\n",
              "      <th>PC1</th>\n",
              "      <th>PC2</th>\n",
              "      <th>diagnosis</th>\n",
              "    </tr>\n",
              "  </thead>\n",
              "  <tbody>\n",
              "    <tr>\n",
              "      <th>0</th>\n",
              "      <td>9.192837</td>\n",
              "      <td>1.948583</td>\n",
              "      <td>0</td>\n",
              "    </tr>\n",
              "    <tr>\n",
              "      <th>1</th>\n",
              "      <td>2.387802</td>\n",
              "      <td>-3.768172</td>\n",
              "      <td>0</td>\n",
              "    </tr>\n",
              "    <tr>\n",
              "      <th>2</th>\n",
              "      <td>5.733896</td>\n",
              "      <td>-1.075174</td>\n",
              "      <td>0</td>\n",
              "    </tr>\n",
              "    <tr>\n",
              "      <th>3</th>\n",
              "      <td>7.122953</td>\n",
              "      <td>10.275589</td>\n",
              "      <td>0</td>\n",
              "    </tr>\n",
              "    <tr>\n",
              "      <th>4</th>\n",
              "      <td>3.935302</td>\n",
              "      <td>-1.948072</td>\n",
              "      <td>0</td>\n",
              "    </tr>\n",
              "  </tbody>\n",
              "</table>\n",
              "</div>\n",
              "      <button class=\"colab-df-convert\" onclick=\"convertToInteractive('df-8dda4d8c-52b8-4126-b7f1-a57e84a728a6')\"\n",
              "              title=\"Convert this dataframe to an interactive table.\"\n",
              "              style=\"display:none;\">\n",
              "        \n",
              "  <svg xmlns=\"http://www.w3.org/2000/svg\" height=\"24px\"viewBox=\"0 0 24 24\"\n",
              "       width=\"24px\">\n",
              "    <path d=\"M0 0h24v24H0V0z\" fill=\"none\"/>\n",
              "    <path d=\"M18.56 5.44l.94 2.06.94-2.06 2.06-.94-2.06-.94-.94-2.06-.94 2.06-2.06.94zm-11 1L8.5 8.5l.94-2.06 2.06-.94-2.06-.94L8.5 2.5l-.94 2.06-2.06.94zm10 10l.94 2.06.94-2.06 2.06-.94-2.06-.94-.94-2.06-.94 2.06-2.06.94z\"/><path d=\"M17.41 7.96l-1.37-1.37c-.4-.4-.92-.59-1.43-.59-.52 0-1.04.2-1.43.59L10.3 9.45l-7.72 7.72c-.78.78-.78 2.05 0 2.83L4 21.41c.39.39.9.59 1.41.59.51 0 1.02-.2 1.41-.59l7.78-7.78 2.81-2.81c.8-.78.8-2.07 0-2.86zM5.41 20L4 18.59l7.72-7.72 1.47 1.35L5.41 20z\"/>\n",
              "  </svg>\n",
              "      </button>\n",
              "      \n",
              "  <style>\n",
              "    .colab-df-container {\n",
              "      display:flex;\n",
              "      flex-wrap:wrap;\n",
              "      gap: 12px;\n",
              "    }\n",
              "\n",
              "    .colab-df-convert {\n",
              "      background-color: #E8F0FE;\n",
              "      border: none;\n",
              "      border-radius: 50%;\n",
              "      cursor: pointer;\n",
              "      display: none;\n",
              "      fill: #1967D2;\n",
              "      height: 32px;\n",
              "      padding: 0 0 0 0;\n",
              "      width: 32px;\n",
              "    }\n",
              "\n",
              "    .colab-df-convert:hover {\n",
              "      background-color: #E2EBFA;\n",
              "      box-shadow: 0px 1px 2px rgba(60, 64, 67, 0.3), 0px 1px 3px 1px rgba(60, 64, 67, 0.15);\n",
              "      fill: #174EA6;\n",
              "    }\n",
              "\n",
              "    [theme=dark] .colab-df-convert {\n",
              "      background-color: #3B4455;\n",
              "      fill: #D2E3FC;\n",
              "    }\n",
              "\n",
              "    [theme=dark] .colab-df-convert:hover {\n",
              "      background-color: #434B5C;\n",
              "      box-shadow: 0px 1px 3px 1px rgba(0, 0, 0, 0.15);\n",
              "      filter: drop-shadow(0px 1px 2px rgba(0, 0, 0, 0.3));\n",
              "      fill: #FFFFFF;\n",
              "    }\n",
              "  </style>\n",
              "\n",
              "      <script>\n",
              "        const buttonEl =\n",
              "          document.querySelector('#df-8dda4d8c-52b8-4126-b7f1-a57e84a728a6 button.colab-df-convert');\n",
              "        buttonEl.style.display =\n",
              "          google.colab.kernel.accessAllowed ? 'block' : 'none';\n",
              "\n",
              "        async function convertToInteractive(key) {\n",
              "          const element = document.querySelector('#df-8dda4d8c-52b8-4126-b7f1-a57e84a728a6');\n",
              "          const dataTable =\n",
              "            await google.colab.kernel.invokeFunction('convertToInteractive',\n",
              "                                                     [key], {});\n",
              "          if (!dataTable) return;\n",
              "\n",
              "          const docLinkHtml = 'Like what you see? Visit the ' +\n",
              "            '<a target=\"_blank\" href=https://colab.research.google.com/notebooks/data_table.ipynb>data table notebook</a>'\n",
              "            + ' to learn more about interactive tables.';\n",
              "          element.innerHTML = '';\n",
              "          dataTable['output_type'] = 'display_data';\n",
              "          await google.colab.output.renderOutput(dataTable, element);\n",
              "          const docLink = document.createElement('div');\n",
              "          docLink.innerHTML = docLinkHtml;\n",
              "          element.appendChild(docLink);\n",
              "        }\n",
              "      </script>\n",
              "    </div>\n",
              "  </div>\n",
              "  "
            ]
          },
          "metadata": {},
          "execution_count": 8
        }
      ]
    },
    {
      "cell_type": "code",
      "source": [
        "fig_2d = px.scatter(pca_df_2d, x='PC1', y='PC2', color='diagnosis', template = 'plotly_white', title = 'PCA - 2 Components')\n",
        "fig_2d.show()"
      ],
      "metadata": {
        "colab": {
          "base_uri": "https://localhost:8080/",
          "height": 542
        },
        "id": "fyG4P6Yccy9h",
        "outputId": "3a03fc2c-ff54-442c-9bdf-56cf7eaab10d"
      },
      "execution_count": null,
      "outputs": [
        {
          "output_type": "display_data",
          "data": {
            "text/html": [
              "<html>\n",
              "<head><meta charset=\"utf-8\" /></head>\n",
              "<body>\n",
              "    <div>            <script src=\"https://cdnjs.cloudflare.com/ajax/libs/mathjax/2.7.5/MathJax.js?config=TeX-AMS-MML_SVG\"></script><script type=\"text/javascript\">if (window.MathJax && window.MathJax.Hub && window.MathJax.Hub.Config) {window.MathJax.Hub.Config({SVG: {font: \"STIX-Web\"}});}</script>                <script type=\"text/javascript\">window.PlotlyConfig = {MathJaxConfig: 'local'};</script>\n",
              "        <script src=\"https://cdn.plot.ly/plotly-2.18.2.min.js\"></script>                <div id=\"5cf9b6b2-3ff5-4f25-9f13-cfdc7c01c654\" class=\"plotly-graph-div\" style=\"height:525px; width:100%;\"></div>            <script type=\"text/javascript\">                                    window.PLOTLYENV=window.PLOTLYENV || {};                                    if (document.getElementById(\"5cf9b6b2-3ff5-4f25-9f13-cfdc7c01c654\")) {                    Plotly.newPlot(                        \"5cf9b6b2-3ff5-4f25-9f13-cfdc7c01c654\",                        [{\"hovertemplate\":\"PC1=%{x}<br>PC2=%{y}<br>diagnosis=%{marker.color}<extra></extra>\",\"legendgroup\":\"\",\"marker\":{\"color\":[0,0,0,0,0,0,0,0,0,0,0,0,0,0,0,0,0,0,0,1,1,1,0,0,0,0,0,0,0,0,0,0,0,0,0,0,0,1,0,0,0,0,0,0,0,0,1,0,1,1,1,1,1,0,0,1,0,0,1,1,1,1,0,1,0,0,1,1,1,1,0,1,0,0,1,0,1,0,0,1,1,1,0,0,1,0,0,0,1,1,1,0,1,1,0,0,1,1,1,0,0,1,1,1,1,0,1,1,0,1,1,1,1,1,1,1,1,0,0,0,1,0,0,1,1,1,0,0,1,0,1,0,0,1,0,0,1,1,0,1,1,0,1,1,1,1,0,1,1,1,1,1,1,1,1,1,0,1,1,1,1,0,0,1,0,1,1,0,0,1,1,0,0,1,1,1,1,0,1,1,0,0,0,1,0,1,0,1,1,1,0,1,1,0,0,1,0,0,0,0,1,0,0,0,1,0,1,0,1,1,0,1,0,0,0,0,1,1,0,0,1,1,1,0,1,1,1,1,1,0,0,1,1,0,1,1,0,0,1,0,1,1,1,1,0,1,1,1,1,1,0,1,0,0,0,0,0,0,0,0,0,0,0,0,0,0,1,1,1,1,1,1,0,1,0,1,1,0,1,1,0,1,0,0,1,1,1,1,1,1,1,1,1,1,1,1,1,0,1,1,0,1,0,1,1,1,1,1,1,1,1,1,1,1,1,1,1,0,1,1,1,0,1,0,1,1,1,1,0,0,0,1,1,1,1,0,1,0,1,0,1,1,1,0,1,1,1,1,1,1,1,0,0,0,1,1,1,1,1,1,1,1,1,1,1,0,0,1,0,0,0,1,0,0,1,1,1,1,1,0,1,1,1,1,1,0,1,1,1,0,1,1,0,0,1,1,1,1,1,1,0,1,1,1,1,1,1,1,0,1,1,1,1,1,0,1,1,0,1,1,1,1,1,1,1,1,1,1,1,1,0,1,0,0,1,0,1,1,1,1,1,0,1,1,0,1,0,1,1,0,1,0,1,1,1,1,1,1,1,1,0,0,1,1,1,1,1,1,0,1,1,1,1,1,1,1,1,1,1,0,1,1,1,1,1,1,1,0,1,0,1,1,0,1,1,1,1,1,0,0,1,0,1,0,1,1,1,1,1,0,1,1,0,1,0,1,0,0,1,1,1,0,1,1,1,1,1,1,1,1,1,1,1,0,1,0,0,1,1,1,1,1,1,1,1,1,1,1,1,1,1,1,1,1,1,1,1,1,1,1,1,1,0,0,0,0,0,0,1],\"coloraxis\":\"coloraxis\",\"symbol\":\"circle\"},\"mode\":\"markers\",\"name\":\"\",\"orientation\":\"v\",\"showlegend\":false,\"x\":[9.192836826213911,2.3878017958024436,5.7338962797317565,7.122953197708799,3.935302073678212,2.380247150345888,2.23888330805238,2.143298500377813,3.1749242930836084,6.351746789526697,-0.8104137708454762,2.651100477242924,8.185034458148442,0.3421259139902053,4.342379194648163,4.07565617534588,0.2300550157100429,4.418010915983102,4.948703550565254,-1.237063356954968,-1.578161234812538,-3.5573363735497203,4.733210788210382,4.2085242090498,4.949632073983685,7.098562854912863,3.5102626039727136,3.064053886063409,4.007264143655854,1.7153097265431607,6.05944551350487,2.902236105000056,4.5547826888153065,4.990602722476015,2.985340788971128,2.7663691577776617,1.2961987650207523,-3.7493133959385485,-0.9980689008796728,0.7652641153965134,-2.1509534707303937,-0.09333138656748098,9.08799967726173,0.9904537655030808,-0.29354655092806825,5.380940406937094,-4.581936672186408,1.7000068868373703,-2.1364452772844476,-1.5674789972080494,-3.542905557464034,-3.1578140501811633,-3.4504885435158714,3.302550951378286,-0.6746192855718767,-2.8581584400467643,4.648738872436857,2.176862882229036,-3.7214589928322703,-4.13596294378991,-2.385835663134877,-2.578883251969097,4.759112153866581,-2.3141322493707057,1.6916079231690346,1.8123054050065976,-2.785924756666419,-3.518648339647547,4.33000264908303,-3.2612794727727596,2.70459617263041,-0.3078557704773116,5.503705315293725,-0.3617091926934376,-2.629976638563126,1.4281675928959097,-0.8345178814913575,6.230896511903123,11.668714648329034,-2.0215776584357887,-1.6383849373651391,1.16746161107288,10.769242819274709,5.0348110854822625,-2.174464309546203,3.288235384718742,0.607607945178116,3.5835636260634747,-0.9341581043940289,1.2596046473492084,-1.5882639721789895,0.2524975675268447,-2.8474315866954756,-1.9649501129382045,2.775865569003062,4.396227954702555,-2.592082827805418,-3.904338150153023,-2.8182312131422322,0.6162808698255907,-0.4328602208167825,-4.555028840448546,-3.448183541217341,-2.1159602640303237,-2.6913522049623313,3.213916765176902,-0.7492713563494999,-3.159006037414728,13.05612185866334,-2.2286798134422274,-2.492831035611631,-0.10335042641350282,3.591294118690202,-1.3489486828723685,-2.5101176755589076,-2.046029572452056,-2.0970691694484143,3.110527693352407,4.956725570002239,0.8510142626641729,-2.9659992066223975,3.334133198020468,12.894612133968518,-0.7707436775322614,-2.202515523782115,-3.1434122456029163,-0.6388804999705119,1.9191334226486383,1.4088683633929686,4.643691316586987,-1.8774673636142059,1.4320694267971854,1.3526270253942043,-0.7091148317234304,2.171416018303721,-1.976840355318759,-2.6007895040208013,-3.2580073594688663,3.7820264555802754,-1.9920347221450458,-5.015008689976168,1.3450204377377155,-2.45596881068826,-1.8372816695172283,-4.3464897122284425,-0.7328129161443837,2.399997843154262,0.3930986639314821,-0.4123278127954056,-3.049924940451636,-1.4425637316075084,0.08318610261298992,7.093306714187062,-3.7434045429961706,-0.9691728143624069,-2.4187199081228385,4.100787726595155,-0.7516030055350119,-3.6546465282535907,-4.680211576012595,-0.597781766614141,3.3873307646416997,6.149886189965974,-1.325031347042727,5.494152797674986,-2.9974032071318915,-4.386732721106651,1.2136346121482624,5.06966108147527,-1.9777014396332848,-2.5148764188898824,-0.9474878917479254,2.81936834346576,-3.483986298019639,-4.658729577966015,-5.351618114936876,1.170897778904902,2.956301867144592,-4.9757020621599155,-4.064025658739954,9.512669844166023,9.007165526292535,0.7588784847611033,-2.6593596153535146,-0.3900189810591384,-3.88906552718656,0.36487615184061645,-2.8358909181566068,-3.310283620739997,-3.35730440255516,6.523116620292491,-1.7177351761080335,-5.565735898980367,1.779661489232597,2.611484893160524,-2.819038509611753,2.4984388777242983,1.2770271752991647,3.4731973428505514,1.2566751119854191,-1.473431369215999,1.6494606959343447,9.036589480304961,4.554590064788,-0.7811899668984466,-0.22309260678392784,-3.4548953860959197,0.44654439641728416,0.31443822596124554,-2.0591919425452825,4.808969244732245,-2.998710528238393,12.285019759540706,3.3721965906439046,2.5087663116230607,1.3180684765430197,-0.38875629875536555,-2.756932991257027,4.943581014506954,4.298077329827605,-2.3735018019752916,-0.9671903116028717,-2.975798787941148,1.803247020466631,-2.4783595123721676,-0.8260392924373156,-3.894697328339809,-0.3895780902170423,-1.457321356798287,2.7555680011540207,3.257254673478951,-4.01914024056444,-3.676413293167857,3.3163241134462695,-4.036607361757631,-2.3342333502301575,8.403847113457601,2.647568633083709,-0.6817688659204277,3.3502957906349065,-2.2277205188197646,-4.477584655730676,1.322621418839022,-1.8500898601409375,3.795565641825016,-2.2813180992391855,-3.2287701182772754,1.0259007876490414,-2.5825558372820008,-2.4858832255063072,7.143842039052277,-3.0324811407726964,7.085010648787847,1.314099003598781,3.7116495147796003,0.4604790908476445,6.392649920535178,5.255544949778341,8.733861502955415,3.6913178802283886,3.3782508726953093,-0.8402096538371915,3.284372619973492,-1.9087689281364852,1.614781925355835,6.619726346836448,-1.464675933458795,-2.012152428518673,-2.2843402520709106,-0.739743085645562,-4.5065625106815395,-3.1587543014074138,7.676149471669731,-3.6391359671587122,0.337345492643557,-1.2765833791510548,-4.346014054230525,0.017430791487194574,-3.492426037286958,-1.8665488536840609,4.960268117827763,-2.4707226852223934,3.785060102923581,2.63725577727226,-1.3726850236663612,-4.138882573259329,-0.6869402913905811,-4.312129582742779,0.403309421377774,-3.0036057953212922,3.134008205438861,-0.4178368668814691,-1.4202231350822707,-2.8705883477857315,-3.3658457040713925,-3.3150001548363406,-4.769710159700323,-2.3858827584203155,-2.787096009430783,-3.3938417715187117,6.59023594334424,-1.4553305178967386,7.182933102086113,-3.578835403447316,-3.0570326418736085,-3.0744358315607903,-3.8535397332560057,-5.39025639377364,-4.65768233449486,-4.027542388108177,-3.3478219416101975,-3.2998420114681446,-2.136404142351031,-4.038017141736995,-3.7654145532587124,-4.871239383481289,-4.747248516354655,1.8953162763187477,1.5729311406093376,-4.026620252659016,-1.2948661700950161,1.8348404671476268,-1.8103805588915236,7.236485314391983,-3.1456501885210093,-2.8872680582399637,-3.149653983820996,-4.6283794830501455,2.250510374099347,2.107801227877142,1.7859499803197558,-0.5276966174020569,-3.2135009805011445,-4.386422966517957,-3.810017869830595,3.3196739715198973,-2.3932759643304906,4.680166262400798,-3.067695140604629,7.3532185750273005,0.2953131832478452,-1.9389694969464388,-2.0771789214310212,4.975162358415175,-2.1769168795844354,-2.4315514550084467,-3.367965778878126,-1.2065977905127283,-3.3260792487089375,-1.9287954022355123,-4.04183508995443,6.182283741691664,10.934298158426804,2.118496931927441,-3.0121949701583772,-0.9826485812693233,0.3578938625180781,-3.193917865505758,-2.993233301243792,-3.1939141504689443,-4.591961853505495,-2.4859161544123096,-2.398665346211449,-0.7796151997480593,-3.1399884257528266,2.735011771675506,6.227025988689493,-2.223775745579425,5.3071400220012,7.248001061273627,4.207220618955483,-2.499636374111984,3.6350149466831008,3.5192482750135956,-2.6149483072401827,-0.09610811657674435,2.0448569345668925,-3.0667495275576804,-1.6035864433860332,3.7659321541057666,-0.9255666032080074,-3.288349594100598,-1.5548521496520975,-0.3987799175816092,-2.3005678213335146,-0.542901364168512,-2.0588194558296458,-3.4245180552308487,-0.472406551853016,4.703500731699468,-3.6433802386142426,-3.5946893435894047,4.149097342448927,7.672141552625874,-2.0103794137575846,-2.92083349483654,-0.5007378002661389,-1.9114985749228377,-3.7850992277954854,-2.7083939682135476,6.289673469534574,-3.430770691238551,-2.001388466389091,-2.4732930942874836,-3.6472577463941986,-2.346186850942231,-1.1429969265478934,-1.350857303332155,2.763370786290295,-1.9693236050363383,-2.9311870554398616,-2.9263743861507594,-3.9961882774107766,0.15513805946872306,-0.9340908103739569,-1.929621730255083,-2.6223386017035737,6.003616591373699,-2.9218778045745926,-3.341944803949704,-2.0149150334117327,1.988462105551742,-1.6696039306006907,-0.3711781135184274,-1.8489599298367352,-4.703042202111253,-1.2831871507860817,-2.314246819304855,-4.65908517641102,-3.943473381734774,4.949858461550827,-0.9158035193315371,4.5491111466275465,4.442342818131092,-2.194984301020768,0.6644409146912954,-2.2408760536432966,-2.1251804369199183,-2.6153174112222426,-3.2109679756619154,-0.3067503987071924,2.4723569167740362,-3.4547183721131205,-3.900526848057652,0.9817275418953554,-1.2572515710230605,3.245413648902957,-1.5572194125373535,-1.2492580966982851,4.331653344536093,-1.0774513298931323,2.511753102260425,-2.2170923054480607,-1.173830646779169,-2.836301444333445,-1.8570858988751808,-1.3286143729582334,-2.8027713567765575,-3.1745687967638707,-4.087077360931435,3.475493748130722,16.319233231031937,-2.56011501801708,-2.9688887959171684,-2.757430451019799,1.3703398754408176,-0.4176644925527565,-3.838398622981047,5.930964859584132,0.6454786474871036,-2.683846400978927,-2.0416640521052645,-1.399296350111757,-3.5364152954177914,-1.9905294465909387,-1.9981853671292906,-0.5206581123169093,-3.172370488247941,-2.202710189057113,3.8244330429412003,-2.9854846903264924,-2.481055107277709,-1.2721114612783746,-2.2351568880783876,-0.05618310431174472,2.31739060628069,-2.28433126085206,4.754614870668573,-1.7263109176881106,-0.7417817670632133,-2.894310661012098,-1.6545218459207138,3.1035197039278333,-4.0642705977649625,-2.7933306574626915,-1.4749199376089668,-0.22939463704340005,-2.553258407613506,3.7157051034635007,5.094841843796583,-0.6006161135560766,2.7903998294337558,-1.4087712143994275,7.259178840793269,1.2988665487853228,1.0766932756338754,-1.2497605247725558,-1.2569284056191976,-1.1665352144776138,4.09414255724045,-1.8876392413592433,-2.767435702845951,2.2269944892061293,-1.1315768907452532,-0.7337724522411857,-2.3336707368115324,2.6972237543991517,3.3790146677221786,-0.1998705801418349,-1.176025913235554,-1.2926365392817907,8.630755859096002,-4.429456371066059,-0.6198387404459736,-3.2523157686118234,-3.3529270535365314,-0.859802986002873,-3.1566219686826877,0.3465281132088584,-2.4614066509249013,-1.5301007215872728,-1.7735850660608699,-2.6804416239660807,4.0284352610743355,-2.1363512285985604,5.165410948305051,0.5359319494273471,0.34312338294321115,-4.197079986345972,-1.142831864596523,-1.6654751532167846,1.0117124957300827,-1.3009297119683667,-2.373428725009864,-1.6658710117957276,-1.9276781923713548,-4.2372166179410025,-2.67787072084207,-3.836497851795872,-2.551440295949936,-4.694923445156732,-2.0250371641276352,-2.895948205518965,-3.502201040544031,-2.153903667396316,-2.0550840679909825,-3.8772895793975333,-4.0638621147278435,-0.0986673326886689,-1.0893761900699592,-0.48177096484771503,-4.870309518086844,5.917612589142773,8.74133807726779,6.439315483954137,3.7933823700326124,1.2561792761501478,10.374794059769926,-5.475243302543948],\"xaxis\":\"x\",\"y\":[1.9485830705585183,-3.768171742040932,-1.0751737966441868,10.275589121990777,-1.9480715677522025,3.9499288955738843,-2.6900312772303865,2.3402440068281063,3.3918129518920535,7.727174066510319,-2.659275497545467,0.06656792618410909,2.7009764924321398,-0.9682792608554877,4.8610833123131325,2.9770611803526155,-1.5647577252389713,1.4186703334868958,-4.114333524999031,-0.18821495386977277,0.5728081925912225,1.6629499035869475,3.304963728035789,-5.128366513910335,-1.5437522881070218,2.018610336873351,2.171625115311898,-1.876552347787483,0.537242160474609,-1.5237050230035116,-0.7571774508099857,4.005295512284772,0.3375361541040371,-1.132588905740676,0.7584232423644525,-0.35435594246598734,0.9131962762327575,-1.4134731175224091,-3.3512929234302375,0.8862439528448448,-1.9239916158501231,2.26075200629194,2.018673098895796,0.9849300204094368,-0.13709909081246807,-0.13487697775878357,1.4842203177983389,2.3522717936056208,0.09582960953973133,-1.2084332138160465,-1.2824955782974627,-1.688958595554542,-0.49821871405950346,-1.1309378046918523,-2.1164097168203204,0.1527231363989262,-2.3103325703673137,0.9721160460440221,-1.7876416504815664,2.4037924855804116,2.7576581298845433,3.1386719228085913,3.011680506020464,3.267989678963091,1.540676557056798,0.7227401913323528,2.310648712320541,-0.6583094692127943,9.202525686491255,-0.9378381201803963,-4.437141769602121,7.387812177246247,0.9383254148221788,0.11973908629703989,-0.6973093687012861,-1.9671014121799786,1.965604864314547,0.9200695423495532,4.748617202882317,-0.2548998339498756,1.7159491139195753,2.5145158498617164,-2.2579828981941787,0.7744091566155679,0.49687798468581135,-1.6682370620308233,0.1622145247225363,-2.20666183895958,0.9277014808177564,1.0155770701962872,-1.6196568282699983,-0.5313515470841436,-2.8936475986747228,-0.9651569880783613,0.5580005265393965,-2.123507712194678,0.21363393001990866,1.1900666338987276,0.36788398131672206,0.6389116687776931,-1.3920442986355372,3.528786018066646,-1.4246224557510876,1.8493736049022886,1.420061739946772,4.046756222961817,1.7976385170089557,-1.0357494267877234,0.9815132262293705,0.6674106364504756,2.598686268049873,2.2801435367609844,3.926333155586322,3.5562251005564547,3.251319503714073,0.30488486671321724,3.6670958833961556,1.56938955607894,2.3848462187961887,-2.3067353672216933,0.3715064821091581,-1.325557354138867,2.316622464281086,-0.06410921985413558,-0.7356052303485302,-1.8774090266165353,-0.9113660287144811,-3.5380823685761635,1.3049294062132017,-1.4820171691959774,1.4232306440103564,-1.0496039489862756,-1.15414147180811,-1.5682323235930307,-2.8262607260059562,-0.41938744681086526,-0.4823354676156058,-0.4183214057728974,0.8603815976046988,1.32935517214789,0.5746999792205041,-1.2747709560671763,0.8984552923748099,-0.09102676551229914,-0.8935722663180959,3.7021823830120146,4.837988819894022,1.0830680630805498,-0.38963131719576016,-2.237784522246112,0.3058704495502177,7.150359799964048,12.573194229917217,0.25050152677343746,0.9449443024118912,0.005552412956809965,-0.3788038203182883,-3.070648658819218,-0.6746487418513052,-1.1038572476581001,1.7856508752379288,-2.911037107357199,-2.017652754657669,1.4692940245407806,-4.165829305482613,-2.738861051716899,0.006872281312829351,-2.039038957557746,-1.785152334213594,-1.8427794207376045,0.11425229881210068,-1.684753546430282,1.2651031323886923,1.6196919824968392,-0.22291481515004077,1.0267578588067583,7.014486578914482,0.7064218519449796,-3.386204867252158,-1.2461661742306378,-5.603484192483354,0.5810310772557395,-1.608532575777863,0.5399358009774067,-0.9892423527852077,0.8160717106162966,-3.57446122584126,-0.3987296938686886,0.15574119507416134,-1.1037324236796826,8.011169611174562,-0.543165527083756,-0.47784757905349284,2.776587169517183,1.561421709146601,-0.9701105670473799,2.2784828519830778,-2.4432589643515548,-2.2778489104237285,0.38239326439768045,0.11689025634026083,-2.102291070773313,-0.6551728248684664,3.0866391558019433,0.6528492587457002,-0.701821490266899,1.3069387228081601,-2.787707740743252,2.0775607280933817,-2.4727877878597186,-3.029102967580599,-0.39677802817424,-7.543410168970948,2.587825427791109,2.6146484773865017,2.154479500922732,2.2767978945223,1.086834685437753,-2.8483244579558002,-4.666275179099108,-0.7334025638766921,0.43843818162201975,1.8109737758748141,0.16646095720160578,-1.4185764468542617,-1.2502474732309719,0.5385707445839999,-0.6144154702758706,-0.201726757069743,3.4657736037455518,-0.12520049202701164,-1.3542473808694078,-1.2916290600265932,-3.9391522589541674,1.1625461079673076,-1.348979732258114,-4.153904776516687,-3.9511729515953324,-1.1359911305823742,-2.1545700263444947,-1.2149996867888868,-1.7411293623385757,4.789476583783325,-1.5841281495324873,-1.0262326419674006,2.077685979598868,-1.1720734787447793,2.3612619440547844,0.7292131142323726,0.46059640264401386,-2.0748422322702598,-0.6494687997966545,0.5282231716046648,-1.775425831239895,-2.8074771105476284,0.39416628845941265,-1.8230941634465936,3.8945309898191445,3.2798773744909644,1.0656460675079,-3.371227891783728,-3.5000850321470502,-0.9906732013196031,-3.1219458054503404,-2.4745733478421994,-6.003276417367501,1.6866318141240677,-1.1034865582256705,0.009493639161039936,3.1525206052503196,-3.16927258779617,0.41030179499338204,-3.075306304118037,1.5895870637395648,-3.1443734575240745,0.8490529832022676,-0.32197805689778036,-3.459343291075345,-2.634082400731153,-0.9020642098204921,-1.3411230472428117,-0.13802626462848278,-1.9019074163375795,0.5771549958457336,0.005805461305110438,-1.3765082401919635,1.6950096245263655,-1.978486133065521,3.723434002939538,0.3541602274323298,4.273459558746374,-0.8085765712489197,1.3939781132975047,-0.26864450937621753,-0.8076006153999394,-1.4421762293358902,-0.5429618594621582,-0.8241155710008895,-2.5330340030690253,0.7539639573176596,-1.4848624498120808,0.5919428678065625,0.055146060394651725,0.8915829917953016,-0.1792133862471214,-0.30605843548040745,-1.5247264224951276,0.5562555046563762,-3.0653874336366167,-2.54290704342329,-0.06856304779915097,-3.138709394288961,-0.00439284873081268,-0.24069805439384023,4.398200493452995,-2.3392147872122497,-1.7984019754886942,-2.392238002991052,6.509099306802737,-1.4022064622217598,3.4708086393357935,-4.32152296436648,0.396207302226624,-0.035701796942756873,-0.7425265421077281,-0.4647316243953929,-1.771248396583873,-1.835618361773891,-0.34853594030613566,1.1219739439596286,-0.26922163596793935,1.2658716234350904,1.1034431418427677,-0.7611037296439246,-0.9099185548990617,-1.5770528423085426,0.9900307779430211,-0.9685929543054855,1.135837568292703,-5.2426231422502925,0.2269350360887864,2.5449881123636633,1.8065194889461296,-1.332572179672386,0.9589112594878003,3.4472038664789664,-0.5629288976980826,-1.3170443381133485,0.4751715816135593,1.4614697974909863,-1.356917456639388,5.108005449860078,-3.7032540804462077,0.2966290697754146,0.24375997573305191,0.797252393813885,2.1278386319881193,-1.8491520732480322,1.631392205702072,0.5793394423390847,-2.7611270972284925,-1.1889394045111363,-0.250744790330685,-2.1243434274370983,-1.4880221620047291,-3.9451682304826714,-1.3901096910523423,-0.3571607107647245,-6.723414983612424,-3.6554691293844317,1.176242881871435,-2.0185356269103485,-1.9564409102905975,-3.858607120178375,-1.1024744594285845,-0.12984758272537292,6.426819839400438,-2.18209569962358,0.29259622228087134,5.985295347952224,2.3024814304199737,0.20131133623012332,0.9798577294270633,2.161212691848461,-0.9320775841773424,-1.3170679102409644,0.3204351457591717,-2.4455184118621256,3.7028294384917446,-0.1959557550602666,0.7868599164241614,2.605087216466626,0.767488844367396,-0.860484150481175,0.42968956041944706,-1.7004724751201568,0.10673146463644613,-0.6513938799618669,-0.3261463675004285,-0.21966574173304254,2.036547397358075,-0.9926100350967537,-0.2933264635318179,-0.33504702637052164,-1.2413651251121267,0.6827413168376089,-1.9621714939494825,0.36957390204808654,-1.0786335091605397,-0.1758485086825204,-0.4948562292382032,0.37733225720557784,0.9598560900424216,-0.438008228366771,-2.105945590925803,0.8924666899109566,2.5021016177726256,-0.09102922238610227,-0.009212681099781156,-0.022224730287695102,0.7784521312330295,2.3160480537786294,0.8623188526595017,0.11361265865730039,2.541229648964358,-0.4323024306143499,2.5509093101250366,0.40203147715415616,-0.7822987563007984,-2.0300162870793974,3.0060641288947463,2.479013128740388,-0.8160005052531641,-0.9924388980101249,-1.8053532377158867,0.4368608557050309,-0.45458951134872416,-1.1947969118572779,-1.83206043261055,-2.23514270422111,2.1849988330355865,-1.4998247519762042,-2.1364615480928904,0.7307759698207159,-2.2104299470479667,1.067691515129782,-1.7783586320712301,-1.037927106266093,-1.5888387893749651,-4.049332418352217,1.8036181630698591,-2.528807583226192,0.029891288193569957,-0.47483950479951237,-1.018125806290091,-1.5713931188836332,0.7770956605853163,-1.666301634105899,-2.075733619373564,-0.4847100792749131,-1.672884391100719,-7.775852804385283,-2.494045447468845,-0.06884713563197334,-1.793918768243203,2.110011348853354,0.11651969693976871,0.8991786485325718,1.2282966822032348,3.4260114207578782,1.443555528807382,-0.9032559295846423,-1.7722262455066944,-1.2468541534360995,1.899462550609152,-0.20637113651546823,-0.973367810829032,-2.0890522981748587,1.2860393187802714,2.3052363163550393,-0.6733392442215684,-2.363958760518455,0.5098338484026554,-1.2987044935626004,-0.22738339296829224,4.3891343348517475,-2.4668407564339856,-1.4894235602781971,0.9981778354328301,-2.4520349661381404,-0.9779443191327102,-4.555664122473374,-1.2361532113110862,-0.5609542218225364,-1.0778881332563446,-1.5910942012698335,1.5159034180847826,-0.7639004851773489,-1.0586862194918119,-2.019207833971066,-0.8384546628719521,3.3855607718294953,1.505770592294037,-5.495735719379424,7.729852801842056,8.294775448807632,1.5956838546978984,4.117186681754293,-1.6656937356729,2.8029272495515567,1.6721917387208949,-2.161048795087287,1.941634759115745,-1.4110019654121406,-1.9436971834089778,0.7901466073201533,-1.9437099455763243,-2.3334289448552368,1.076360003229884,1.011370177754059,4.964224702212881,-3.459451914886655,-0.7860360355067044,0.6363492700983211,1.2859251612120872,2.673300597735547,0.09684852264687738,-0.8715426237453577,1.54122527547732,0.6008479694073605,0.4052177892293531,0.8042100124249794,-1.484708900422566,-2.9414300981058075,1.518580638785131,-2.3822032313448567,0.38071514563923553,3.534481051764336,2.367392283293407,5.599458470192502,2.389618124561165,1.0923896494614334,-1.821415301744386,-1.681576238046422,-0.21396273994529125,-1.13773991594773,0.18427249700029974,2.3157928229245814,0.49624992866040696,0.2283299573122628,-0.7674779439823888,1.2612419004545798,-1.4516357642594002,1.800832492477527,-0.8300688182975047,1.6164592679216823,1.084254744291501,0.12216843512748926,-0.2135598382834739,1.2928478982051956,-0.1780196909891384,-2.131106107602756,3.482636659117179,-0.5738546721869112,-3.5768174439686473,-3.58404786387595,-1.9022967130762811,1.6720101052213199,-0.67063679072161],\"yaxis\":\"y\",\"type\":\"scatter\"}],                        {\"template\":{\"data\":{\"barpolar\":[{\"marker\":{\"line\":{\"color\":\"white\",\"width\":0.5},\"pattern\":{\"fillmode\":\"overlay\",\"size\":10,\"solidity\":0.2}},\"type\":\"barpolar\"}],\"bar\":[{\"error_x\":{\"color\":\"#2a3f5f\"},\"error_y\":{\"color\":\"#2a3f5f\"},\"marker\":{\"line\":{\"color\":\"white\",\"width\":0.5},\"pattern\":{\"fillmode\":\"overlay\",\"size\":10,\"solidity\":0.2}},\"type\":\"bar\"}],\"carpet\":[{\"aaxis\":{\"endlinecolor\":\"#2a3f5f\",\"gridcolor\":\"#C8D4E3\",\"linecolor\":\"#C8D4E3\",\"minorgridcolor\":\"#C8D4E3\",\"startlinecolor\":\"#2a3f5f\"},\"baxis\":{\"endlinecolor\":\"#2a3f5f\",\"gridcolor\":\"#C8D4E3\",\"linecolor\":\"#C8D4E3\",\"minorgridcolor\":\"#C8D4E3\",\"startlinecolor\":\"#2a3f5f\"},\"type\":\"carpet\"}],\"choropleth\":[{\"colorbar\":{\"outlinewidth\":0,\"ticks\":\"\"},\"type\":\"choropleth\"}],\"contourcarpet\":[{\"colorbar\":{\"outlinewidth\":0,\"ticks\":\"\"},\"type\":\"contourcarpet\"}],\"contour\":[{\"colorbar\":{\"outlinewidth\":0,\"ticks\":\"\"},\"colorscale\":[[0.0,\"#0d0887\"],[0.1111111111111111,\"#46039f\"],[0.2222222222222222,\"#7201a8\"],[0.3333333333333333,\"#9c179e\"],[0.4444444444444444,\"#bd3786\"],[0.5555555555555556,\"#d8576b\"],[0.6666666666666666,\"#ed7953\"],[0.7777777777777778,\"#fb9f3a\"],[0.8888888888888888,\"#fdca26\"],[1.0,\"#f0f921\"]],\"type\":\"contour\"}],\"heatmapgl\":[{\"colorbar\":{\"outlinewidth\":0,\"ticks\":\"\"},\"colorscale\":[[0.0,\"#0d0887\"],[0.1111111111111111,\"#46039f\"],[0.2222222222222222,\"#7201a8\"],[0.3333333333333333,\"#9c179e\"],[0.4444444444444444,\"#bd3786\"],[0.5555555555555556,\"#d8576b\"],[0.6666666666666666,\"#ed7953\"],[0.7777777777777778,\"#fb9f3a\"],[0.8888888888888888,\"#fdca26\"],[1.0,\"#f0f921\"]],\"type\":\"heatmapgl\"}],\"heatmap\":[{\"colorbar\":{\"outlinewidth\":0,\"ticks\":\"\"},\"colorscale\":[[0.0,\"#0d0887\"],[0.1111111111111111,\"#46039f\"],[0.2222222222222222,\"#7201a8\"],[0.3333333333333333,\"#9c179e\"],[0.4444444444444444,\"#bd3786\"],[0.5555555555555556,\"#d8576b\"],[0.6666666666666666,\"#ed7953\"],[0.7777777777777778,\"#fb9f3a\"],[0.8888888888888888,\"#fdca26\"],[1.0,\"#f0f921\"]],\"type\":\"heatmap\"}],\"histogram2dcontour\":[{\"colorbar\":{\"outlinewidth\":0,\"ticks\":\"\"},\"colorscale\":[[0.0,\"#0d0887\"],[0.1111111111111111,\"#46039f\"],[0.2222222222222222,\"#7201a8\"],[0.3333333333333333,\"#9c179e\"],[0.4444444444444444,\"#bd3786\"],[0.5555555555555556,\"#d8576b\"],[0.6666666666666666,\"#ed7953\"],[0.7777777777777778,\"#fb9f3a\"],[0.8888888888888888,\"#fdca26\"],[1.0,\"#f0f921\"]],\"type\":\"histogram2dcontour\"}],\"histogram2d\":[{\"colorbar\":{\"outlinewidth\":0,\"ticks\":\"\"},\"colorscale\":[[0.0,\"#0d0887\"],[0.1111111111111111,\"#46039f\"],[0.2222222222222222,\"#7201a8\"],[0.3333333333333333,\"#9c179e\"],[0.4444444444444444,\"#bd3786\"],[0.5555555555555556,\"#d8576b\"],[0.6666666666666666,\"#ed7953\"],[0.7777777777777778,\"#fb9f3a\"],[0.8888888888888888,\"#fdca26\"],[1.0,\"#f0f921\"]],\"type\":\"histogram2d\"}],\"histogram\":[{\"marker\":{\"pattern\":{\"fillmode\":\"overlay\",\"size\":10,\"solidity\":0.2}},\"type\":\"histogram\"}],\"mesh3d\":[{\"colorbar\":{\"outlinewidth\":0,\"ticks\":\"\"},\"type\":\"mesh3d\"}],\"parcoords\":[{\"line\":{\"colorbar\":{\"outlinewidth\":0,\"ticks\":\"\"}},\"type\":\"parcoords\"}],\"pie\":[{\"automargin\":true,\"type\":\"pie\"}],\"scatter3d\":[{\"line\":{\"colorbar\":{\"outlinewidth\":0,\"ticks\":\"\"}},\"marker\":{\"colorbar\":{\"outlinewidth\":0,\"ticks\":\"\"}},\"type\":\"scatter3d\"}],\"scattercarpet\":[{\"marker\":{\"colorbar\":{\"outlinewidth\":0,\"ticks\":\"\"}},\"type\":\"scattercarpet\"}],\"scattergeo\":[{\"marker\":{\"colorbar\":{\"outlinewidth\":0,\"ticks\":\"\"}},\"type\":\"scattergeo\"}],\"scattergl\":[{\"marker\":{\"colorbar\":{\"outlinewidth\":0,\"ticks\":\"\"}},\"type\":\"scattergl\"}],\"scattermapbox\":[{\"marker\":{\"colorbar\":{\"outlinewidth\":0,\"ticks\":\"\"}},\"type\":\"scattermapbox\"}],\"scatterpolargl\":[{\"marker\":{\"colorbar\":{\"outlinewidth\":0,\"ticks\":\"\"}},\"type\":\"scatterpolargl\"}],\"scatterpolar\":[{\"marker\":{\"colorbar\":{\"outlinewidth\":0,\"ticks\":\"\"}},\"type\":\"scatterpolar\"}],\"scatter\":[{\"fillpattern\":{\"fillmode\":\"overlay\",\"size\":10,\"solidity\":0.2},\"type\":\"scatter\"}],\"scatterternary\":[{\"marker\":{\"colorbar\":{\"outlinewidth\":0,\"ticks\":\"\"}},\"type\":\"scatterternary\"}],\"surface\":[{\"colorbar\":{\"outlinewidth\":0,\"ticks\":\"\"},\"colorscale\":[[0.0,\"#0d0887\"],[0.1111111111111111,\"#46039f\"],[0.2222222222222222,\"#7201a8\"],[0.3333333333333333,\"#9c179e\"],[0.4444444444444444,\"#bd3786\"],[0.5555555555555556,\"#d8576b\"],[0.6666666666666666,\"#ed7953\"],[0.7777777777777778,\"#fb9f3a\"],[0.8888888888888888,\"#fdca26\"],[1.0,\"#f0f921\"]],\"type\":\"surface\"}],\"table\":[{\"cells\":{\"fill\":{\"color\":\"#EBF0F8\"},\"line\":{\"color\":\"white\"}},\"header\":{\"fill\":{\"color\":\"#C8D4E3\"},\"line\":{\"color\":\"white\"}},\"type\":\"table\"}]},\"layout\":{\"annotationdefaults\":{\"arrowcolor\":\"#2a3f5f\",\"arrowhead\":0,\"arrowwidth\":1},\"autotypenumbers\":\"strict\",\"coloraxis\":{\"colorbar\":{\"outlinewidth\":0,\"ticks\":\"\"}},\"colorscale\":{\"diverging\":[[0,\"#8e0152\"],[0.1,\"#c51b7d\"],[0.2,\"#de77ae\"],[0.3,\"#f1b6da\"],[0.4,\"#fde0ef\"],[0.5,\"#f7f7f7\"],[0.6,\"#e6f5d0\"],[0.7,\"#b8e186\"],[0.8,\"#7fbc41\"],[0.9,\"#4d9221\"],[1,\"#276419\"]],\"sequential\":[[0.0,\"#0d0887\"],[0.1111111111111111,\"#46039f\"],[0.2222222222222222,\"#7201a8\"],[0.3333333333333333,\"#9c179e\"],[0.4444444444444444,\"#bd3786\"],[0.5555555555555556,\"#d8576b\"],[0.6666666666666666,\"#ed7953\"],[0.7777777777777778,\"#fb9f3a\"],[0.8888888888888888,\"#fdca26\"],[1.0,\"#f0f921\"]],\"sequentialminus\":[[0.0,\"#0d0887\"],[0.1111111111111111,\"#46039f\"],[0.2222222222222222,\"#7201a8\"],[0.3333333333333333,\"#9c179e\"],[0.4444444444444444,\"#bd3786\"],[0.5555555555555556,\"#d8576b\"],[0.6666666666666666,\"#ed7953\"],[0.7777777777777778,\"#fb9f3a\"],[0.8888888888888888,\"#fdca26\"],[1.0,\"#f0f921\"]]},\"colorway\":[\"#636efa\",\"#EF553B\",\"#00cc96\",\"#ab63fa\",\"#FFA15A\",\"#19d3f3\",\"#FF6692\",\"#B6E880\",\"#FF97FF\",\"#FECB52\"],\"font\":{\"color\":\"#2a3f5f\"},\"geo\":{\"bgcolor\":\"white\",\"lakecolor\":\"white\",\"landcolor\":\"white\",\"showlakes\":true,\"showland\":true,\"subunitcolor\":\"#C8D4E3\"},\"hoverlabel\":{\"align\":\"left\"},\"hovermode\":\"closest\",\"mapbox\":{\"style\":\"light\"},\"paper_bgcolor\":\"white\",\"plot_bgcolor\":\"white\",\"polar\":{\"angularaxis\":{\"gridcolor\":\"#EBF0F8\",\"linecolor\":\"#EBF0F8\",\"ticks\":\"\"},\"bgcolor\":\"white\",\"radialaxis\":{\"gridcolor\":\"#EBF0F8\",\"linecolor\":\"#EBF0F8\",\"ticks\":\"\"}},\"scene\":{\"xaxis\":{\"backgroundcolor\":\"white\",\"gridcolor\":\"#DFE8F3\",\"gridwidth\":2,\"linecolor\":\"#EBF0F8\",\"showbackground\":true,\"ticks\":\"\",\"zerolinecolor\":\"#EBF0F8\"},\"yaxis\":{\"backgroundcolor\":\"white\",\"gridcolor\":\"#DFE8F3\",\"gridwidth\":2,\"linecolor\":\"#EBF0F8\",\"showbackground\":true,\"ticks\":\"\",\"zerolinecolor\":\"#EBF0F8\"},\"zaxis\":{\"backgroundcolor\":\"white\",\"gridcolor\":\"#DFE8F3\",\"gridwidth\":2,\"linecolor\":\"#EBF0F8\",\"showbackground\":true,\"ticks\":\"\",\"zerolinecolor\":\"#EBF0F8\"}},\"shapedefaults\":{\"line\":{\"color\":\"#2a3f5f\"}},\"ternary\":{\"aaxis\":{\"gridcolor\":\"#DFE8F3\",\"linecolor\":\"#A2B1C6\",\"ticks\":\"\"},\"baxis\":{\"gridcolor\":\"#DFE8F3\",\"linecolor\":\"#A2B1C6\",\"ticks\":\"\"},\"bgcolor\":\"white\",\"caxis\":{\"gridcolor\":\"#DFE8F3\",\"linecolor\":\"#A2B1C6\",\"ticks\":\"\"}},\"title\":{\"x\":0.05},\"xaxis\":{\"automargin\":true,\"gridcolor\":\"#EBF0F8\",\"linecolor\":\"#EBF0F8\",\"ticks\":\"\",\"title\":{\"standoff\":15},\"zerolinecolor\":\"#EBF0F8\",\"zerolinewidth\":2},\"yaxis\":{\"automargin\":true,\"gridcolor\":\"#EBF0F8\",\"linecolor\":\"#EBF0F8\",\"ticks\":\"\",\"title\":{\"standoff\":15},\"zerolinecolor\":\"#EBF0F8\",\"zerolinewidth\":2}}},\"xaxis\":{\"anchor\":\"y\",\"domain\":[0.0,1.0],\"title\":{\"text\":\"PC1\"}},\"yaxis\":{\"anchor\":\"x\",\"domain\":[0.0,1.0],\"title\":{\"text\":\"PC2\"}},\"coloraxis\":{\"colorbar\":{\"title\":{\"text\":\"diagnosis\"}},\"colorscale\":[[0.0,\"#0d0887\"],[0.1111111111111111,\"#46039f\"],[0.2222222222222222,\"#7201a8\"],[0.3333333333333333,\"#9c179e\"],[0.4444444444444444,\"#bd3786\"],[0.5555555555555556,\"#d8576b\"],[0.6666666666666666,\"#ed7953\"],[0.7777777777777778,\"#fb9f3a\"],[0.8888888888888888,\"#fdca26\"],[1.0,\"#f0f921\"]]},\"legend\":{\"tracegroupgap\":0},\"title\":{\"text\":\"PCA - 2 Components\"}},                        {\"responsive\": true}                    ).then(function(){\n",
              "                            \n",
              "var gd = document.getElementById('5cf9b6b2-3ff5-4f25-9f13-cfdc7c01c654');\n",
              "var x = new MutationObserver(function (mutations, observer) {{\n",
              "        var display = window.getComputedStyle(gd).display;\n",
              "        if (!display || display === 'none') {{\n",
              "            console.log([gd, 'removed!']);\n",
              "            Plotly.purge(gd);\n",
              "            observer.disconnect();\n",
              "        }}\n",
              "}});\n",
              "\n",
              "// Listen for the removal of the full notebook cells\n",
              "var notebookContainer = gd.closest('#notebook-container');\n",
              "if (notebookContainer) {{\n",
              "    x.observe(notebookContainer, {childList: true});\n",
              "}}\n",
              "\n",
              "// Listen for the clearing of the current output cell\n",
              "var outputEl = gd.closest('.output');\n",
              "if (outputEl) {{\n",
              "    x.observe(outputEl, {childList: true});\n",
              "}}\n",
              "\n",
              "                        })                };                            </script>        </div>\n",
              "</body>\n",
              "</html>"
            ]
          },
          "metadata": {}
        }
      ]
    },
    {
      "cell_type": "code",
      "source": [
        "explained_variance_2d = pca_2d.explained_variance_ratio_\n",
        "print(\"Explained Variance Ratio (2D):\", explained_variance_2d)"
      ],
      "metadata": {
        "colab": {
          "base_uri": "https://localhost:8080/"
        },
        "id": "jP_lHpF2dDfi",
        "outputId": "08928078-dbf0-4707-e4e0-449e1d78d7af"
      },
      "execution_count": null,
      "outputs": [
        {
          "output_type": "stream",
          "name": "stdout",
          "text": [
            "Explained Variance Ratio (2D): [0.44272026 0.18971182]\n"
          ]
        }
      ]
    },
    {
      "cell_type": "code",
      "source": [
        "components = pd.DataFrame(abs(pca_2d.components_), columns=breast_cancer.feature_names)\n",
        "components"
      ],
      "metadata": {
        "colab": {
          "base_uri": "https://localhost:8080/",
          "height": 240
        },
        "id": "efc8pYvzdXqP",
        "outputId": "8aeb1baf-020e-46cb-a6c7-fc2fd59d3b64"
      },
      "execution_count": null,
      "outputs": [
        {
          "output_type": "execute_result",
          "data": {
            "text/plain": [
              "   mean radius  mean texture  mean perimeter  mean area  mean smoothness  \\\n",
              "0     0.218902      0.103725        0.227537   0.220995         0.142590   \n",
              "1     0.233857      0.059706        0.215181   0.231077         0.186113   \n",
              "\n",
              "   mean compactness  mean concavity  mean concave points  mean symmetry  \\\n",
              "0          0.239285        0.258400             0.260854       0.138167   \n",
              "1          0.151892        0.060165             0.034768       0.190349   \n",
              "\n",
              "   mean fractal dimension  ...  worst radius  worst texture  worst perimeter  \\\n",
              "0                0.064363  ...      0.227997       0.104469         0.236640   \n",
              "1                0.366575  ...      0.219866       0.045467         0.199878   \n",
              "\n",
              "   worst area  worst smoothness  worst compactness  worst concavity  \\\n",
              "0    0.224871          0.127953           0.210096         0.228768   \n",
              "1    0.219352          0.172304           0.143593         0.097964   \n",
              "\n",
              "   worst concave points  worst symmetry  worst fractal dimension  \n",
              "0              0.250886        0.122905                 0.131784  \n",
              "1              0.008257        0.141883                 0.275339  \n",
              "\n",
              "[2 rows x 30 columns]"
            ],
            "text/html": [
              "\n",
              "  <div id=\"df-95c5c4fa-c248-4e8d-8e9b-7ace33c4938d\">\n",
              "    <div class=\"colab-df-container\">\n",
              "      <div>\n",
              "<style scoped>\n",
              "    .dataframe tbody tr th:only-of-type {\n",
              "        vertical-align: middle;\n",
              "    }\n",
              "\n",
              "    .dataframe tbody tr th {\n",
              "        vertical-align: top;\n",
              "    }\n",
              "\n",
              "    .dataframe thead th {\n",
              "        text-align: right;\n",
              "    }\n",
              "</style>\n",
              "<table border=\"1\" class=\"dataframe\">\n",
              "  <thead>\n",
              "    <tr style=\"text-align: right;\">\n",
              "      <th></th>\n",
              "      <th>mean radius</th>\n",
              "      <th>mean texture</th>\n",
              "      <th>mean perimeter</th>\n",
              "      <th>mean area</th>\n",
              "      <th>mean smoothness</th>\n",
              "      <th>mean compactness</th>\n",
              "      <th>mean concavity</th>\n",
              "      <th>mean concave points</th>\n",
              "      <th>mean symmetry</th>\n",
              "      <th>mean fractal dimension</th>\n",
              "      <th>...</th>\n",
              "      <th>worst radius</th>\n",
              "      <th>worst texture</th>\n",
              "      <th>worst perimeter</th>\n",
              "      <th>worst area</th>\n",
              "      <th>worst smoothness</th>\n",
              "      <th>worst compactness</th>\n",
              "      <th>worst concavity</th>\n",
              "      <th>worst concave points</th>\n",
              "      <th>worst symmetry</th>\n",
              "      <th>worst fractal dimension</th>\n",
              "    </tr>\n",
              "  </thead>\n",
              "  <tbody>\n",
              "    <tr>\n",
              "      <th>0</th>\n",
              "      <td>0.218902</td>\n",
              "      <td>0.103725</td>\n",
              "      <td>0.227537</td>\n",
              "      <td>0.220995</td>\n",
              "      <td>0.142590</td>\n",
              "      <td>0.239285</td>\n",
              "      <td>0.258400</td>\n",
              "      <td>0.260854</td>\n",
              "      <td>0.138167</td>\n",
              "      <td>0.064363</td>\n",
              "      <td>...</td>\n",
              "      <td>0.227997</td>\n",
              "      <td>0.104469</td>\n",
              "      <td>0.236640</td>\n",
              "      <td>0.224871</td>\n",
              "      <td>0.127953</td>\n",
              "      <td>0.210096</td>\n",
              "      <td>0.228768</td>\n",
              "      <td>0.250886</td>\n",
              "      <td>0.122905</td>\n",
              "      <td>0.131784</td>\n",
              "    </tr>\n",
              "    <tr>\n",
              "      <th>1</th>\n",
              "      <td>0.233857</td>\n",
              "      <td>0.059706</td>\n",
              "      <td>0.215181</td>\n",
              "      <td>0.231077</td>\n",
              "      <td>0.186113</td>\n",
              "      <td>0.151892</td>\n",
              "      <td>0.060165</td>\n",
              "      <td>0.034768</td>\n",
              "      <td>0.190349</td>\n",
              "      <td>0.366575</td>\n",
              "      <td>...</td>\n",
              "      <td>0.219866</td>\n",
              "      <td>0.045467</td>\n",
              "      <td>0.199878</td>\n",
              "      <td>0.219352</td>\n",
              "      <td>0.172304</td>\n",
              "      <td>0.143593</td>\n",
              "      <td>0.097964</td>\n",
              "      <td>0.008257</td>\n",
              "      <td>0.141883</td>\n",
              "      <td>0.275339</td>\n",
              "    </tr>\n",
              "  </tbody>\n",
              "</table>\n",
              "<p>2 rows × 30 columns</p>\n",
              "</div>\n",
              "      <button class=\"colab-df-convert\" onclick=\"convertToInteractive('df-95c5c4fa-c248-4e8d-8e9b-7ace33c4938d')\"\n",
              "              title=\"Convert this dataframe to an interactive table.\"\n",
              "              style=\"display:none;\">\n",
              "        \n",
              "  <svg xmlns=\"http://www.w3.org/2000/svg\" height=\"24px\"viewBox=\"0 0 24 24\"\n",
              "       width=\"24px\">\n",
              "    <path d=\"M0 0h24v24H0V0z\" fill=\"none\"/>\n",
              "    <path d=\"M18.56 5.44l.94 2.06.94-2.06 2.06-.94-2.06-.94-.94-2.06-.94 2.06-2.06.94zm-11 1L8.5 8.5l.94-2.06 2.06-.94-2.06-.94L8.5 2.5l-.94 2.06-2.06.94zm10 10l.94 2.06.94-2.06 2.06-.94-2.06-.94-.94-2.06-.94 2.06-2.06.94z\"/><path d=\"M17.41 7.96l-1.37-1.37c-.4-.4-.92-.59-1.43-.59-.52 0-1.04.2-1.43.59L10.3 9.45l-7.72 7.72c-.78.78-.78 2.05 0 2.83L4 21.41c.39.39.9.59 1.41.59.51 0 1.02-.2 1.41-.59l7.78-7.78 2.81-2.81c.8-.78.8-2.07 0-2.86zM5.41 20L4 18.59l7.72-7.72 1.47 1.35L5.41 20z\"/>\n",
              "  </svg>\n",
              "      </button>\n",
              "      \n",
              "  <style>\n",
              "    .colab-df-container {\n",
              "      display:flex;\n",
              "      flex-wrap:wrap;\n",
              "      gap: 12px;\n",
              "    }\n",
              "\n",
              "    .colab-df-convert {\n",
              "      background-color: #E8F0FE;\n",
              "      border: none;\n",
              "      border-radius: 50%;\n",
              "      cursor: pointer;\n",
              "      display: none;\n",
              "      fill: #1967D2;\n",
              "      height: 32px;\n",
              "      padding: 0 0 0 0;\n",
              "      width: 32px;\n",
              "    }\n",
              "\n",
              "    .colab-df-convert:hover {\n",
              "      background-color: #E2EBFA;\n",
              "      box-shadow: 0px 1px 2px rgba(60, 64, 67, 0.3), 0px 1px 3px 1px rgba(60, 64, 67, 0.15);\n",
              "      fill: #174EA6;\n",
              "    }\n",
              "\n",
              "    [theme=dark] .colab-df-convert {\n",
              "      background-color: #3B4455;\n",
              "      fill: #D2E3FC;\n",
              "    }\n",
              "\n",
              "    [theme=dark] .colab-df-convert:hover {\n",
              "      background-color: #434B5C;\n",
              "      box-shadow: 0px 1px 3px 1px rgba(0, 0, 0, 0.15);\n",
              "      filter: drop-shadow(0px 1px 2px rgba(0, 0, 0, 0.3));\n",
              "      fill: #FFFFFF;\n",
              "    }\n",
              "  </style>\n",
              "\n",
              "      <script>\n",
              "        const buttonEl =\n",
              "          document.querySelector('#df-95c5c4fa-c248-4e8d-8e9b-7ace33c4938d button.colab-df-convert');\n",
              "        buttonEl.style.display =\n",
              "          google.colab.kernel.accessAllowed ? 'block' : 'none';\n",
              "\n",
              "        async function convertToInteractive(key) {\n",
              "          const element = document.querySelector('#df-95c5c4fa-c248-4e8d-8e9b-7ace33c4938d');\n",
              "          const dataTable =\n",
              "            await google.colab.kernel.invokeFunction('convertToInteractive',\n",
              "                                                     [key], {});\n",
              "          if (!dataTable) return;\n",
              "\n",
              "          const docLinkHtml = 'Like what you see? Visit the ' +\n",
              "            '<a target=\"_blank\" href=https://colab.research.google.com/notebooks/data_table.ipynb>data table notebook</a>'\n",
              "            + ' to learn more about interactive tables.';\n",
              "          element.innerHTML = '';\n",
              "          dataTable['output_type'] = 'display_data';\n",
              "          await google.colab.output.renderOutput(dataTable, element);\n",
              "          const docLink = document.createElement('div');\n",
              "          docLink.innerHTML = docLinkHtml;\n",
              "          element.appendChild(docLink);\n",
              "        }\n",
              "      </script>\n",
              "    </div>\n",
              "  </div>\n",
              "  "
            ]
          },
          "metadata": {},
          "execution_count": 11
        }
      ]
    },
    {
      "cell_type": "markdown",
      "source": [
        "#### Classification"
      ],
      "metadata": {
        "id": "gyCUYhc3Cy3D"
      }
    },
    {
      "cell_type": "code",
      "source": [
        "X_train, X_test, y_train, y_test = train_test_split(df.iloc[:, :-1], df['target'], test_size=0.2, random_state=7)"
      ],
      "metadata": {
        "id": "Xh3kn54cEy3i"
      },
      "execution_count": null,
      "outputs": []
    },
    {
      "cell_type": "code",
      "source": [
        "scaler = StandardScaler()\n",
        "X_train_scaled = scaler.fit_transform(X_train)\n",
        "X_test_scaled = scaler.transform(X_test)"
      ],
      "metadata": {
        "id": "Z41LhUzmE5nF"
      },
      "execution_count": null,
      "outputs": []
    },
    {
      "cell_type": "code",
      "source": [
        "pca = PCA(n_components=2)\n",
        "X_train_pca_2d = pca.fit_transform(X_train_scaled)\n",
        "X_test_pca_2d = pca.transform(X_test_scaled)"
      ],
      "metadata": {
        "id": "Y5B0i35SA-JT"
      },
      "execution_count": null,
      "outputs": []
    },
    {
      "cell_type": "markdown",
      "source": [
        "##### Logistic Regression"
      ],
      "metadata": {
        "id": "Ix6ZIAzEC4oH"
      }
    },
    {
      "cell_type": "code",
      "source": [
        "lr_pca_2d = LogisticRegression()\n",
        "lr_pca_2d.fit(X_train_pca_2d, y_train)\n",
        "lr_pca_2d_pred = lr_pca_2d.predict(X_test_pca_2d)"
      ],
      "metadata": {
        "id": "QGZfA3UdDI4y"
      },
      "execution_count": null,
      "outputs": []
    },
    {
      "cell_type": "code",
      "source": [
        "lr_pca_2d_accuracy = accuracy_score(y_test, lr_pca_2d_pred)\n",
        "lr_pca_2d_precision = precision_score(y_test, lr_pca_2d_pred)\n",
        "lr_pca_2d_recall = recall_score(y_test, lr_pca_2d_pred)\n",
        "lr_pca_2d_f1 = f1_score(y_test, lr_pca_2d_pred)\n",
        "lr_pca_2d_report = classification_report(y_test, lr_pca_2d_pred)\n",
        "print(\"Logistic Regression PCA 2D Classification Report:\")\n",
        "print(lr_pca_2d_report)"
      ],
      "metadata": {
        "colab": {
          "base_uri": "https://localhost:8080/"
        },
        "id": "ck6v7I8fBPPs",
        "outputId": "110face0-2790-4507-c5b6-2b06740e91ed"
      },
      "execution_count": null,
      "outputs": [
        {
          "output_type": "stream",
          "name": "stdout",
          "text": [
            "Logistic Regression PCA 2D Classification Report:\n",
            "              precision    recall  f1-score   support\n",
            "\n",
            "           0       0.97      0.93      0.95        40\n",
            "           1       0.96      0.99      0.97        74\n",
            "\n",
            "    accuracy                           0.96       114\n",
            "   macro avg       0.97      0.96      0.96       114\n",
            "weighted avg       0.97      0.96      0.96       114\n",
            "\n"
          ]
        }
      ]
    },
    {
      "cell_type": "code",
      "source": [
        "lr_pca_2d_cm = confusion_matrix(y_test, lr_pca_2d_pred)\n",
        "plot_confusion_matrix(lr_pca_2d_cm, ['Benign', 'Malignant'])"
      ],
      "metadata": {
        "colab": {
          "base_uri": "https://localhost:8080/",
          "height": 542
        },
        "id": "anF32sykBsUv",
        "outputId": "fcefa861-ead5-4409-eb5d-cb1a39cf37de"
      },
      "execution_count": null,
      "outputs": [
        {
          "output_type": "display_data",
          "data": {
            "text/html": [
              "<html>\n",
              "<head><meta charset=\"utf-8\" /></head>\n",
              "<body>\n",
              "    <div>            <script src=\"https://cdnjs.cloudflare.com/ajax/libs/mathjax/2.7.5/MathJax.js?config=TeX-AMS-MML_SVG\"></script><script type=\"text/javascript\">if (window.MathJax && window.MathJax.Hub && window.MathJax.Hub.Config) {window.MathJax.Hub.Config({SVG: {font: \"STIX-Web\"}});}</script>                <script type=\"text/javascript\">window.PlotlyConfig = {MathJaxConfig: 'local'};</script>\n",
              "        <script src=\"https://cdn.plot.ly/plotly-2.18.2.min.js\"></script>                <div id=\"d203ec07-1901-44c0-9323-e847a07fa789\" class=\"plotly-graph-div\" style=\"height:525px; width:100%;\"></div>            <script type=\"text/javascript\">                                    window.PLOTLYENV=window.PLOTLYENV || {};                                    if (document.getElementById(\"d203ec07-1901-44c0-9323-e847a07fa789\")) {                    Plotly.newPlot(                        \"d203ec07-1901-44c0-9323-e847a07fa789\",                        [{\"coloraxis\":\"coloraxis\",\"name\":\"0\",\"texttemplate\":\"%{z}\",\"x\":[\"Benign\",\"Malignant\"],\"y\":[\"Benign\",\"Malignant\"],\"z\":[[37,3],[1,73]],\"type\":\"heatmap\",\"xaxis\":\"x\",\"yaxis\":\"y\",\"hovertemplate\":\"Predicted: %{x}<br>Actual: %{y}<br>Count: %{z}<extra></extra>\"}],                        {\"template\":{\"data\":{\"histogram2dcontour\":[{\"type\":\"histogram2dcontour\",\"colorbar\":{\"outlinewidth\":0,\"ticks\":\"\"},\"colorscale\":[[0.0,\"#0d0887\"],[0.1111111111111111,\"#46039f\"],[0.2222222222222222,\"#7201a8\"],[0.3333333333333333,\"#9c179e\"],[0.4444444444444444,\"#bd3786\"],[0.5555555555555556,\"#d8576b\"],[0.6666666666666666,\"#ed7953\"],[0.7777777777777778,\"#fb9f3a\"],[0.8888888888888888,\"#fdca26\"],[1.0,\"#f0f921\"]]}],\"choropleth\":[{\"type\":\"choropleth\",\"colorbar\":{\"outlinewidth\":0,\"ticks\":\"\"}}],\"histogram2d\":[{\"type\":\"histogram2d\",\"colorbar\":{\"outlinewidth\":0,\"ticks\":\"\"},\"colorscale\":[[0.0,\"#0d0887\"],[0.1111111111111111,\"#46039f\"],[0.2222222222222222,\"#7201a8\"],[0.3333333333333333,\"#9c179e\"],[0.4444444444444444,\"#bd3786\"],[0.5555555555555556,\"#d8576b\"],[0.6666666666666666,\"#ed7953\"],[0.7777777777777778,\"#fb9f3a\"],[0.8888888888888888,\"#fdca26\"],[1.0,\"#f0f921\"]]}],\"heatmap\":[{\"type\":\"heatmap\",\"colorbar\":{\"outlinewidth\":0,\"ticks\":\"\"},\"colorscale\":[[0.0,\"#0d0887\"],[0.1111111111111111,\"#46039f\"],[0.2222222222222222,\"#7201a8\"],[0.3333333333333333,\"#9c179e\"],[0.4444444444444444,\"#bd3786\"],[0.5555555555555556,\"#d8576b\"],[0.6666666666666666,\"#ed7953\"],[0.7777777777777778,\"#fb9f3a\"],[0.8888888888888888,\"#fdca26\"],[1.0,\"#f0f921\"]]}],\"heatmapgl\":[{\"type\":\"heatmapgl\",\"colorbar\":{\"outlinewidth\":0,\"ticks\":\"\"},\"colorscale\":[[0.0,\"#0d0887\"],[0.1111111111111111,\"#46039f\"],[0.2222222222222222,\"#7201a8\"],[0.3333333333333333,\"#9c179e\"],[0.4444444444444444,\"#bd3786\"],[0.5555555555555556,\"#d8576b\"],[0.6666666666666666,\"#ed7953\"],[0.7777777777777778,\"#fb9f3a\"],[0.8888888888888888,\"#fdca26\"],[1.0,\"#f0f921\"]]}],\"contourcarpet\":[{\"type\":\"contourcarpet\",\"colorbar\":{\"outlinewidth\":0,\"ticks\":\"\"}}],\"contour\":[{\"type\":\"contour\",\"colorbar\":{\"outlinewidth\":0,\"ticks\":\"\"},\"colorscale\":[[0.0,\"#0d0887\"],[0.1111111111111111,\"#46039f\"],[0.2222222222222222,\"#7201a8\"],[0.3333333333333333,\"#9c179e\"],[0.4444444444444444,\"#bd3786\"],[0.5555555555555556,\"#d8576b\"],[0.6666666666666666,\"#ed7953\"],[0.7777777777777778,\"#fb9f3a\"],[0.8888888888888888,\"#fdca26\"],[1.0,\"#f0f921\"]]}],\"surface\":[{\"type\":\"surface\",\"colorbar\":{\"outlinewidth\":0,\"ticks\":\"\"},\"colorscale\":[[0.0,\"#0d0887\"],[0.1111111111111111,\"#46039f\"],[0.2222222222222222,\"#7201a8\"],[0.3333333333333333,\"#9c179e\"],[0.4444444444444444,\"#bd3786\"],[0.5555555555555556,\"#d8576b\"],[0.6666666666666666,\"#ed7953\"],[0.7777777777777778,\"#fb9f3a\"],[0.8888888888888888,\"#fdca26\"],[1.0,\"#f0f921\"]]}],\"mesh3d\":[{\"type\":\"mesh3d\",\"colorbar\":{\"outlinewidth\":0,\"ticks\":\"\"}}],\"scatter\":[{\"fillpattern\":{\"fillmode\":\"overlay\",\"size\":10,\"solidity\":0.2},\"type\":\"scatter\"}],\"parcoords\":[{\"type\":\"parcoords\",\"line\":{\"colorbar\":{\"outlinewidth\":0,\"ticks\":\"\"}}}],\"scatterpolargl\":[{\"type\":\"scatterpolargl\",\"marker\":{\"colorbar\":{\"outlinewidth\":0,\"ticks\":\"\"}}}],\"bar\":[{\"error_x\":{\"color\":\"#2a3f5f\"},\"error_y\":{\"color\":\"#2a3f5f\"},\"marker\":{\"line\":{\"color\":\"#E5ECF6\",\"width\":0.5},\"pattern\":{\"fillmode\":\"overlay\",\"size\":10,\"solidity\":0.2}},\"type\":\"bar\"}],\"scattergeo\":[{\"type\":\"scattergeo\",\"marker\":{\"colorbar\":{\"outlinewidth\":0,\"ticks\":\"\"}}}],\"scatterpolar\":[{\"type\":\"scatterpolar\",\"marker\":{\"colorbar\":{\"outlinewidth\":0,\"ticks\":\"\"}}}],\"histogram\":[{\"marker\":{\"pattern\":{\"fillmode\":\"overlay\",\"size\":10,\"solidity\":0.2}},\"type\":\"histogram\"}],\"scattergl\":[{\"type\":\"scattergl\",\"marker\":{\"colorbar\":{\"outlinewidth\":0,\"ticks\":\"\"}}}],\"scatter3d\":[{\"type\":\"scatter3d\",\"line\":{\"colorbar\":{\"outlinewidth\":0,\"ticks\":\"\"}},\"marker\":{\"colorbar\":{\"outlinewidth\":0,\"ticks\":\"\"}}}],\"scattermapbox\":[{\"type\":\"scattermapbox\",\"marker\":{\"colorbar\":{\"outlinewidth\":0,\"ticks\":\"\"}}}],\"scatterternary\":[{\"type\":\"scatterternary\",\"marker\":{\"colorbar\":{\"outlinewidth\":0,\"ticks\":\"\"}}}],\"scattercarpet\":[{\"type\":\"scattercarpet\",\"marker\":{\"colorbar\":{\"outlinewidth\":0,\"ticks\":\"\"}}}],\"carpet\":[{\"aaxis\":{\"endlinecolor\":\"#2a3f5f\",\"gridcolor\":\"white\",\"linecolor\":\"white\",\"minorgridcolor\":\"white\",\"startlinecolor\":\"#2a3f5f\"},\"baxis\":{\"endlinecolor\":\"#2a3f5f\",\"gridcolor\":\"white\",\"linecolor\":\"white\",\"minorgridcolor\":\"white\",\"startlinecolor\":\"#2a3f5f\"},\"type\":\"carpet\"}],\"table\":[{\"cells\":{\"fill\":{\"color\":\"#EBF0F8\"},\"line\":{\"color\":\"white\"}},\"header\":{\"fill\":{\"color\":\"#C8D4E3\"},\"line\":{\"color\":\"white\"}},\"type\":\"table\"}],\"barpolar\":[{\"marker\":{\"line\":{\"color\":\"#E5ECF6\",\"width\":0.5},\"pattern\":{\"fillmode\":\"overlay\",\"size\":10,\"solidity\":0.2}},\"type\":\"barpolar\"}],\"pie\":[{\"automargin\":true,\"type\":\"pie\"}]},\"layout\":{\"autotypenumbers\":\"strict\",\"colorway\":[\"#636efa\",\"#EF553B\",\"#00cc96\",\"#ab63fa\",\"#FFA15A\",\"#19d3f3\",\"#FF6692\",\"#B6E880\",\"#FF97FF\",\"#FECB52\"],\"font\":{\"color\":\"#2a3f5f\"},\"hovermode\":\"closest\",\"hoverlabel\":{\"align\":\"left\"},\"paper_bgcolor\":\"white\",\"plot_bgcolor\":\"#E5ECF6\",\"polar\":{\"bgcolor\":\"#E5ECF6\",\"angularaxis\":{\"gridcolor\":\"white\",\"linecolor\":\"white\",\"ticks\":\"\"},\"radialaxis\":{\"gridcolor\":\"white\",\"linecolor\":\"white\",\"ticks\":\"\"}},\"ternary\":{\"bgcolor\":\"#E5ECF6\",\"aaxis\":{\"gridcolor\":\"white\",\"linecolor\":\"white\",\"ticks\":\"\"},\"baxis\":{\"gridcolor\":\"white\",\"linecolor\":\"white\",\"ticks\":\"\"},\"caxis\":{\"gridcolor\":\"white\",\"linecolor\":\"white\",\"ticks\":\"\"}},\"coloraxis\":{\"colorbar\":{\"outlinewidth\":0,\"ticks\":\"\"}},\"colorscale\":{\"sequential\":[[0.0,\"#0d0887\"],[0.1111111111111111,\"#46039f\"],[0.2222222222222222,\"#7201a8\"],[0.3333333333333333,\"#9c179e\"],[0.4444444444444444,\"#bd3786\"],[0.5555555555555556,\"#d8576b\"],[0.6666666666666666,\"#ed7953\"],[0.7777777777777778,\"#fb9f3a\"],[0.8888888888888888,\"#fdca26\"],[1.0,\"#f0f921\"]],\"sequentialminus\":[[0.0,\"#0d0887\"],[0.1111111111111111,\"#46039f\"],[0.2222222222222222,\"#7201a8\"],[0.3333333333333333,\"#9c179e\"],[0.4444444444444444,\"#bd3786\"],[0.5555555555555556,\"#d8576b\"],[0.6666666666666666,\"#ed7953\"],[0.7777777777777778,\"#fb9f3a\"],[0.8888888888888888,\"#fdca26\"],[1.0,\"#f0f921\"]],\"diverging\":[[0,\"#8e0152\"],[0.1,\"#c51b7d\"],[0.2,\"#de77ae\"],[0.3,\"#f1b6da\"],[0.4,\"#fde0ef\"],[0.5,\"#f7f7f7\"],[0.6,\"#e6f5d0\"],[0.7,\"#b8e186\"],[0.8,\"#7fbc41\"],[0.9,\"#4d9221\"],[1,\"#276419\"]]},\"xaxis\":{\"gridcolor\":\"white\",\"linecolor\":\"white\",\"ticks\":\"\",\"title\":{\"standoff\":15},\"zerolinecolor\":\"white\",\"automargin\":true,\"zerolinewidth\":2},\"yaxis\":{\"gridcolor\":\"white\",\"linecolor\":\"white\",\"ticks\":\"\",\"title\":{\"standoff\":15},\"zerolinecolor\":\"white\",\"automargin\":true,\"zerolinewidth\":2},\"scene\":{\"xaxis\":{\"backgroundcolor\":\"#E5ECF6\",\"gridcolor\":\"white\",\"linecolor\":\"white\",\"showbackground\":true,\"ticks\":\"\",\"zerolinecolor\":\"white\",\"gridwidth\":2},\"yaxis\":{\"backgroundcolor\":\"#E5ECF6\",\"gridcolor\":\"white\",\"linecolor\":\"white\",\"showbackground\":true,\"ticks\":\"\",\"zerolinecolor\":\"white\",\"gridwidth\":2},\"zaxis\":{\"backgroundcolor\":\"#E5ECF6\",\"gridcolor\":\"white\",\"linecolor\":\"white\",\"showbackground\":true,\"ticks\":\"\",\"zerolinecolor\":\"white\",\"gridwidth\":2}},\"shapedefaults\":{\"line\":{\"color\":\"#2a3f5f\"}},\"annotationdefaults\":{\"arrowcolor\":\"#2a3f5f\",\"arrowhead\":0,\"arrowwidth\":1},\"geo\":{\"bgcolor\":\"white\",\"landcolor\":\"#E5ECF6\",\"subunitcolor\":\"white\",\"showland\":true,\"showlakes\":true,\"lakecolor\":\"white\"},\"title\":{\"x\":0.05},\"mapbox\":{\"style\":\"light\"}}},\"xaxis\":{\"anchor\":\"y\",\"domain\":[0.0,1.0],\"scaleanchor\":\"y\",\"constrain\":\"domain\",\"title\":{\"text\":\"Predicted\"}},\"yaxis\":{\"anchor\":\"x\",\"domain\":[0.0,1.0],\"autorange\":\"reversed\",\"constrain\":\"domain\",\"title\":{\"text\":\"Actual\"}},\"coloraxis\":{\"colorbar\":{\"title\":{\"text\":\"Count\"}},\"colorscale\":[[0.0,\"#440154\"],[0.1111111111111111,\"#482878\"],[0.2222222222222222,\"#3e4989\"],[0.3333333333333333,\"#31688e\"],[0.4444444444444444,\"#26828e\"],[0.5555555555555556,\"#1f9e89\"],[0.6666666666666666,\"#35b779\"],[0.7777777777777778,\"#6ece58\"],[0.8888888888888888,\"#b5de2b\"],[1.0,\"#fde725\"]],\"showscale\":false},\"title\":{\"text\":\"Confusion Matrix\"}},                        {\"responsive\": true}                    ).then(function(){\n",
              "                            \n",
              "var gd = document.getElementById('d203ec07-1901-44c0-9323-e847a07fa789');\n",
              "var x = new MutationObserver(function (mutations, observer) {{\n",
              "        var display = window.getComputedStyle(gd).display;\n",
              "        if (!display || display === 'none') {{\n",
              "            console.log([gd, 'removed!']);\n",
              "            Plotly.purge(gd);\n",
              "            observer.disconnect();\n",
              "        }}\n",
              "}});\n",
              "\n",
              "// Listen for the removal of the full notebook cells\n",
              "var notebookContainer = gd.closest('#notebook-container');\n",
              "if (notebookContainer) {{\n",
              "    x.observe(notebookContainer, {childList: true});\n",
              "}}\n",
              "\n",
              "// Listen for the clearing of the current output cell\n",
              "var outputEl = gd.closest('.output');\n",
              "if (outputEl) {{\n",
              "    x.observe(outputEl, {childList: true});\n",
              "}}\n",
              "\n",
              "                        })                };                            </script>        </div>\n",
              "</body>\n",
              "</html>"
            ]
          },
          "metadata": {}
        }
      ]
    },
    {
      "cell_type": "markdown",
      "source": [
        "##### KNN"
      ],
      "metadata": {
        "id": "AH3__zqBC9i0"
      }
    },
    {
      "cell_type": "code",
      "source": [
        "knn_pca_2d = KNeighborsClassifier()\n",
        "knn_pca_2d.fit(X_train_pca_2d, y_train)\n",
        "knn_pca_2d_pred = knn_pca_2d.predict(X_test_pca_2d)"
      ],
      "metadata": {
        "id": "6FWZaZPLDA4v"
      },
      "execution_count": null,
      "outputs": []
    },
    {
      "cell_type": "code",
      "source": [
        "knn_pca_2d_accuracy = accuracy_score(y_test, knn_pca_2d_pred)\n",
        "knn_pca_2d_precision = precision_score(y_test, knn_pca_2d_pred)\n",
        "knn_pca_2d_recall = recall_score(y_test, knn_pca_2d_pred)\n",
        "knn_pca_2d_f1 = f1_score(y_test, knn_pca_2d_pred)\n",
        "knn_pca_2d_report = classification_report(y_test, knn_pca_2d_pred)\n",
        "print(\"KNN PCA 2D Classification Report:\")\n",
        "print(knn_pca_2d_report)"
      ],
      "metadata": {
        "colab": {
          "base_uri": "https://localhost:8080/"
        },
        "id": "FKlZKz-CQBks",
        "outputId": "28bf219f-9c7e-4171-bed6-e29db7ee9970"
      },
      "execution_count": null,
      "outputs": [
        {
          "output_type": "stream",
          "name": "stdout",
          "text": [
            "KNN PCA 2D Classification Report:\n",
            "              precision    recall  f1-score   support\n",
            "\n",
            "           0       0.95      1.00      0.98        40\n",
            "           1       1.00      0.97      0.99        74\n",
            "\n",
            "    accuracy                           0.98       114\n",
            "   macro avg       0.98      0.99      0.98       114\n",
            "weighted avg       0.98      0.98      0.98       114\n",
            "\n"
          ]
        }
      ]
    },
    {
      "cell_type": "code",
      "source": [
        "knn_pca_2d_cm = confusion_matrix(y_test, knn_pca_2d_pred)\n",
        "plot_confusion_matrix(knn_pca_2d_cm, ['Benign', 'Malignant'])"
      ],
      "metadata": {
        "colab": {
          "base_uri": "https://localhost:8080/",
          "height": 542
        },
        "id": "nPYj6MiKQYSY",
        "outputId": "488ae95b-baaf-44ea-f35f-62700b8e611e"
      },
      "execution_count": null,
      "outputs": [
        {
          "output_type": "display_data",
          "data": {
            "text/html": [
              "<html>\n",
              "<head><meta charset=\"utf-8\" /></head>\n",
              "<body>\n",
              "    <div>            <script src=\"https://cdnjs.cloudflare.com/ajax/libs/mathjax/2.7.5/MathJax.js?config=TeX-AMS-MML_SVG\"></script><script type=\"text/javascript\">if (window.MathJax && window.MathJax.Hub && window.MathJax.Hub.Config) {window.MathJax.Hub.Config({SVG: {font: \"STIX-Web\"}});}</script>                <script type=\"text/javascript\">window.PlotlyConfig = {MathJaxConfig: 'local'};</script>\n",
              "        <script src=\"https://cdn.plot.ly/plotly-2.18.2.min.js\"></script>                <div id=\"9446a534-7d59-4e66-bebf-ce134919c612\" class=\"plotly-graph-div\" style=\"height:525px; width:100%;\"></div>            <script type=\"text/javascript\">                                    window.PLOTLYENV=window.PLOTLYENV || {};                                    if (document.getElementById(\"9446a534-7d59-4e66-bebf-ce134919c612\")) {                    Plotly.newPlot(                        \"9446a534-7d59-4e66-bebf-ce134919c612\",                        [{\"coloraxis\":\"coloraxis\",\"name\":\"0\",\"texttemplate\":\"%{z}\",\"x\":[\"Benign\",\"Malignant\"],\"y\":[\"Benign\",\"Malignant\"],\"z\":[[40,0],[2,72]],\"type\":\"heatmap\",\"xaxis\":\"x\",\"yaxis\":\"y\",\"hovertemplate\":\"Predicted: %{x}<br>Actual: %{y}<br>Count: %{z}<extra></extra>\"}],                        {\"template\":{\"data\":{\"histogram2dcontour\":[{\"type\":\"histogram2dcontour\",\"colorbar\":{\"outlinewidth\":0,\"ticks\":\"\"},\"colorscale\":[[0.0,\"#0d0887\"],[0.1111111111111111,\"#46039f\"],[0.2222222222222222,\"#7201a8\"],[0.3333333333333333,\"#9c179e\"],[0.4444444444444444,\"#bd3786\"],[0.5555555555555556,\"#d8576b\"],[0.6666666666666666,\"#ed7953\"],[0.7777777777777778,\"#fb9f3a\"],[0.8888888888888888,\"#fdca26\"],[1.0,\"#f0f921\"]]}],\"choropleth\":[{\"type\":\"choropleth\",\"colorbar\":{\"outlinewidth\":0,\"ticks\":\"\"}}],\"histogram2d\":[{\"type\":\"histogram2d\",\"colorbar\":{\"outlinewidth\":0,\"ticks\":\"\"},\"colorscale\":[[0.0,\"#0d0887\"],[0.1111111111111111,\"#46039f\"],[0.2222222222222222,\"#7201a8\"],[0.3333333333333333,\"#9c179e\"],[0.4444444444444444,\"#bd3786\"],[0.5555555555555556,\"#d8576b\"],[0.6666666666666666,\"#ed7953\"],[0.7777777777777778,\"#fb9f3a\"],[0.8888888888888888,\"#fdca26\"],[1.0,\"#f0f921\"]]}],\"heatmap\":[{\"type\":\"heatmap\",\"colorbar\":{\"outlinewidth\":0,\"ticks\":\"\"},\"colorscale\":[[0.0,\"#0d0887\"],[0.1111111111111111,\"#46039f\"],[0.2222222222222222,\"#7201a8\"],[0.3333333333333333,\"#9c179e\"],[0.4444444444444444,\"#bd3786\"],[0.5555555555555556,\"#d8576b\"],[0.6666666666666666,\"#ed7953\"],[0.7777777777777778,\"#fb9f3a\"],[0.8888888888888888,\"#fdca26\"],[1.0,\"#f0f921\"]]}],\"heatmapgl\":[{\"type\":\"heatmapgl\",\"colorbar\":{\"outlinewidth\":0,\"ticks\":\"\"},\"colorscale\":[[0.0,\"#0d0887\"],[0.1111111111111111,\"#46039f\"],[0.2222222222222222,\"#7201a8\"],[0.3333333333333333,\"#9c179e\"],[0.4444444444444444,\"#bd3786\"],[0.5555555555555556,\"#d8576b\"],[0.6666666666666666,\"#ed7953\"],[0.7777777777777778,\"#fb9f3a\"],[0.8888888888888888,\"#fdca26\"],[1.0,\"#f0f921\"]]}],\"contourcarpet\":[{\"type\":\"contourcarpet\",\"colorbar\":{\"outlinewidth\":0,\"ticks\":\"\"}}],\"contour\":[{\"type\":\"contour\",\"colorbar\":{\"outlinewidth\":0,\"ticks\":\"\"},\"colorscale\":[[0.0,\"#0d0887\"],[0.1111111111111111,\"#46039f\"],[0.2222222222222222,\"#7201a8\"],[0.3333333333333333,\"#9c179e\"],[0.4444444444444444,\"#bd3786\"],[0.5555555555555556,\"#d8576b\"],[0.6666666666666666,\"#ed7953\"],[0.7777777777777778,\"#fb9f3a\"],[0.8888888888888888,\"#fdca26\"],[1.0,\"#f0f921\"]]}],\"surface\":[{\"type\":\"surface\",\"colorbar\":{\"outlinewidth\":0,\"ticks\":\"\"},\"colorscale\":[[0.0,\"#0d0887\"],[0.1111111111111111,\"#46039f\"],[0.2222222222222222,\"#7201a8\"],[0.3333333333333333,\"#9c179e\"],[0.4444444444444444,\"#bd3786\"],[0.5555555555555556,\"#d8576b\"],[0.6666666666666666,\"#ed7953\"],[0.7777777777777778,\"#fb9f3a\"],[0.8888888888888888,\"#fdca26\"],[1.0,\"#f0f921\"]]}],\"mesh3d\":[{\"type\":\"mesh3d\",\"colorbar\":{\"outlinewidth\":0,\"ticks\":\"\"}}],\"scatter\":[{\"fillpattern\":{\"fillmode\":\"overlay\",\"size\":10,\"solidity\":0.2},\"type\":\"scatter\"}],\"parcoords\":[{\"type\":\"parcoords\",\"line\":{\"colorbar\":{\"outlinewidth\":0,\"ticks\":\"\"}}}],\"scatterpolargl\":[{\"type\":\"scatterpolargl\",\"marker\":{\"colorbar\":{\"outlinewidth\":0,\"ticks\":\"\"}}}],\"bar\":[{\"error_x\":{\"color\":\"#2a3f5f\"},\"error_y\":{\"color\":\"#2a3f5f\"},\"marker\":{\"line\":{\"color\":\"#E5ECF6\",\"width\":0.5},\"pattern\":{\"fillmode\":\"overlay\",\"size\":10,\"solidity\":0.2}},\"type\":\"bar\"}],\"scattergeo\":[{\"type\":\"scattergeo\",\"marker\":{\"colorbar\":{\"outlinewidth\":0,\"ticks\":\"\"}}}],\"scatterpolar\":[{\"type\":\"scatterpolar\",\"marker\":{\"colorbar\":{\"outlinewidth\":0,\"ticks\":\"\"}}}],\"histogram\":[{\"marker\":{\"pattern\":{\"fillmode\":\"overlay\",\"size\":10,\"solidity\":0.2}},\"type\":\"histogram\"}],\"scattergl\":[{\"type\":\"scattergl\",\"marker\":{\"colorbar\":{\"outlinewidth\":0,\"ticks\":\"\"}}}],\"scatter3d\":[{\"type\":\"scatter3d\",\"line\":{\"colorbar\":{\"outlinewidth\":0,\"ticks\":\"\"}},\"marker\":{\"colorbar\":{\"outlinewidth\":0,\"ticks\":\"\"}}}],\"scattermapbox\":[{\"type\":\"scattermapbox\",\"marker\":{\"colorbar\":{\"outlinewidth\":0,\"ticks\":\"\"}}}],\"scatterternary\":[{\"type\":\"scatterternary\",\"marker\":{\"colorbar\":{\"outlinewidth\":0,\"ticks\":\"\"}}}],\"scattercarpet\":[{\"type\":\"scattercarpet\",\"marker\":{\"colorbar\":{\"outlinewidth\":0,\"ticks\":\"\"}}}],\"carpet\":[{\"aaxis\":{\"endlinecolor\":\"#2a3f5f\",\"gridcolor\":\"white\",\"linecolor\":\"white\",\"minorgridcolor\":\"white\",\"startlinecolor\":\"#2a3f5f\"},\"baxis\":{\"endlinecolor\":\"#2a3f5f\",\"gridcolor\":\"white\",\"linecolor\":\"white\",\"minorgridcolor\":\"white\",\"startlinecolor\":\"#2a3f5f\"},\"type\":\"carpet\"}],\"table\":[{\"cells\":{\"fill\":{\"color\":\"#EBF0F8\"},\"line\":{\"color\":\"white\"}},\"header\":{\"fill\":{\"color\":\"#C8D4E3\"},\"line\":{\"color\":\"white\"}},\"type\":\"table\"}],\"barpolar\":[{\"marker\":{\"line\":{\"color\":\"#E5ECF6\",\"width\":0.5},\"pattern\":{\"fillmode\":\"overlay\",\"size\":10,\"solidity\":0.2}},\"type\":\"barpolar\"}],\"pie\":[{\"automargin\":true,\"type\":\"pie\"}]},\"layout\":{\"autotypenumbers\":\"strict\",\"colorway\":[\"#636efa\",\"#EF553B\",\"#00cc96\",\"#ab63fa\",\"#FFA15A\",\"#19d3f3\",\"#FF6692\",\"#B6E880\",\"#FF97FF\",\"#FECB52\"],\"font\":{\"color\":\"#2a3f5f\"},\"hovermode\":\"closest\",\"hoverlabel\":{\"align\":\"left\"},\"paper_bgcolor\":\"white\",\"plot_bgcolor\":\"#E5ECF6\",\"polar\":{\"bgcolor\":\"#E5ECF6\",\"angularaxis\":{\"gridcolor\":\"white\",\"linecolor\":\"white\",\"ticks\":\"\"},\"radialaxis\":{\"gridcolor\":\"white\",\"linecolor\":\"white\",\"ticks\":\"\"}},\"ternary\":{\"bgcolor\":\"#E5ECF6\",\"aaxis\":{\"gridcolor\":\"white\",\"linecolor\":\"white\",\"ticks\":\"\"},\"baxis\":{\"gridcolor\":\"white\",\"linecolor\":\"white\",\"ticks\":\"\"},\"caxis\":{\"gridcolor\":\"white\",\"linecolor\":\"white\",\"ticks\":\"\"}},\"coloraxis\":{\"colorbar\":{\"outlinewidth\":0,\"ticks\":\"\"}},\"colorscale\":{\"sequential\":[[0.0,\"#0d0887\"],[0.1111111111111111,\"#46039f\"],[0.2222222222222222,\"#7201a8\"],[0.3333333333333333,\"#9c179e\"],[0.4444444444444444,\"#bd3786\"],[0.5555555555555556,\"#d8576b\"],[0.6666666666666666,\"#ed7953\"],[0.7777777777777778,\"#fb9f3a\"],[0.8888888888888888,\"#fdca26\"],[1.0,\"#f0f921\"]],\"sequentialminus\":[[0.0,\"#0d0887\"],[0.1111111111111111,\"#46039f\"],[0.2222222222222222,\"#7201a8\"],[0.3333333333333333,\"#9c179e\"],[0.4444444444444444,\"#bd3786\"],[0.5555555555555556,\"#d8576b\"],[0.6666666666666666,\"#ed7953\"],[0.7777777777777778,\"#fb9f3a\"],[0.8888888888888888,\"#fdca26\"],[1.0,\"#f0f921\"]],\"diverging\":[[0,\"#8e0152\"],[0.1,\"#c51b7d\"],[0.2,\"#de77ae\"],[0.3,\"#f1b6da\"],[0.4,\"#fde0ef\"],[0.5,\"#f7f7f7\"],[0.6,\"#e6f5d0\"],[0.7,\"#b8e186\"],[0.8,\"#7fbc41\"],[0.9,\"#4d9221\"],[1,\"#276419\"]]},\"xaxis\":{\"gridcolor\":\"white\",\"linecolor\":\"white\",\"ticks\":\"\",\"title\":{\"standoff\":15},\"zerolinecolor\":\"white\",\"automargin\":true,\"zerolinewidth\":2},\"yaxis\":{\"gridcolor\":\"white\",\"linecolor\":\"white\",\"ticks\":\"\",\"title\":{\"standoff\":15},\"zerolinecolor\":\"white\",\"automargin\":true,\"zerolinewidth\":2},\"scene\":{\"xaxis\":{\"backgroundcolor\":\"#E5ECF6\",\"gridcolor\":\"white\",\"linecolor\":\"white\",\"showbackground\":true,\"ticks\":\"\",\"zerolinecolor\":\"white\",\"gridwidth\":2},\"yaxis\":{\"backgroundcolor\":\"#E5ECF6\",\"gridcolor\":\"white\",\"linecolor\":\"white\",\"showbackground\":true,\"ticks\":\"\",\"zerolinecolor\":\"white\",\"gridwidth\":2},\"zaxis\":{\"backgroundcolor\":\"#E5ECF6\",\"gridcolor\":\"white\",\"linecolor\":\"white\",\"showbackground\":true,\"ticks\":\"\",\"zerolinecolor\":\"white\",\"gridwidth\":2}},\"shapedefaults\":{\"line\":{\"color\":\"#2a3f5f\"}},\"annotationdefaults\":{\"arrowcolor\":\"#2a3f5f\",\"arrowhead\":0,\"arrowwidth\":1},\"geo\":{\"bgcolor\":\"white\",\"landcolor\":\"#E5ECF6\",\"subunitcolor\":\"white\",\"showland\":true,\"showlakes\":true,\"lakecolor\":\"white\"},\"title\":{\"x\":0.05},\"mapbox\":{\"style\":\"light\"}}},\"xaxis\":{\"anchor\":\"y\",\"domain\":[0.0,1.0],\"scaleanchor\":\"y\",\"constrain\":\"domain\",\"title\":{\"text\":\"Predicted\"}},\"yaxis\":{\"anchor\":\"x\",\"domain\":[0.0,1.0],\"autorange\":\"reversed\",\"constrain\":\"domain\",\"title\":{\"text\":\"Actual\"}},\"coloraxis\":{\"colorbar\":{\"title\":{\"text\":\"Count\"}},\"colorscale\":[[0.0,\"#440154\"],[0.1111111111111111,\"#482878\"],[0.2222222222222222,\"#3e4989\"],[0.3333333333333333,\"#31688e\"],[0.4444444444444444,\"#26828e\"],[0.5555555555555556,\"#1f9e89\"],[0.6666666666666666,\"#35b779\"],[0.7777777777777778,\"#6ece58\"],[0.8888888888888888,\"#b5de2b\"],[1.0,\"#fde725\"]],\"showscale\":false},\"title\":{\"text\":\"Confusion Matrix\"}},                        {\"responsive\": true}                    ).then(function(){\n",
              "                            \n",
              "var gd = document.getElementById('9446a534-7d59-4e66-bebf-ce134919c612');\n",
              "var x = new MutationObserver(function (mutations, observer) {{\n",
              "        var display = window.getComputedStyle(gd).display;\n",
              "        if (!display || display === 'none') {{\n",
              "            console.log([gd, 'removed!']);\n",
              "            Plotly.purge(gd);\n",
              "            observer.disconnect();\n",
              "        }}\n",
              "}});\n",
              "\n",
              "// Listen for the removal of the full notebook cells\n",
              "var notebookContainer = gd.closest('#notebook-container');\n",
              "if (notebookContainer) {{\n",
              "    x.observe(notebookContainer, {childList: true});\n",
              "}}\n",
              "\n",
              "// Listen for the clearing of the current output cell\n",
              "var outputEl = gd.closest('.output');\n",
              "if (outputEl) {{\n",
              "    x.observe(outputEl, {childList: true});\n",
              "}}\n",
              "\n",
              "                        })                };                            </script>        </div>\n",
              "</body>\n",
              "</html>"
            ]
          },
          "metadata": {}
        }
      ]
    },
    {
      "cell_type": "markdown",
      "source": [
        "##### SVM"
      ],
      "metadata": {
        "id": "4Kw8EAK-Qwu3"
      }
    },
    {
      "cell_type": "code",
      "source": [
        "svm_pca_2d = SVC()\n",
        "svm_pca_2d.fit(X_train_pca_2d, y_train)\n",
        "svm_pca_2d_pred = svm_pca_2d.predict(X_test_pca_2d)"
      ],
      "metadata": {
        "id": "KM6ETcrWQ55P"
      },
      "execution_count": null,
      "outputs": []
    },
    {
      "cell_type": "code",
      "source": [
        "svm_pca_2d_accuracy = accuracy_score(y_test, svm_pca_2d_pred)\n",
        "svm_pca_2d_precision = precision_score(y_test, svm_pca_2d_pred)\n",
        "svm_pca_2d_recall = recall_score(y_test, svm_pca_2d_pred)\n",
        "svm_pca_2d_f1 = f1_score(y_test, svm_pca_2d_pred)\n",
        "svm_pca_2d_report = classification_report(y_test, svm_pca_2d_pred)\n",
        "print(\"SVM PCA 2D Classification Report:\")\n",
        "print(svm_pca_2d_report)"
      ],
      "metadata": {
        "colab": {
          "base_uri": "https://localhost:8080/"
        },
        "id": "ygeeuSnuRHz0",
        "outputId": "cedede66-094b-42aa-d8f2-4572355f3db2"
      },
      "execution_count": null,
      "outputs": [
        {
          "output_type": "stream",
          "name": "stdout",
          "text": [
            "SVM PCA 2D Classification Report:\n",
            "              precision    recall  f1-score   support\n",
            "\n",
            "           0       0.95      0.88      0.91        40\n",
            "           1       0.94      0.97      0.95        74\n",
            "\n",
            "    accuracy                           0.94       114\n",
            "   macro avg       0.94      0.92      0.93       114\n",
            "weighted avg       0.94      0.94      0.94       114\n",
            "\n"
          ]
        }
      ]
    },
    {
      "cell_type": "code",
      "source": [
        "svm_pca_2d_cm = confusion_matrix(y_test, svm_pca_2d_pred)\n",
        "plot_confusion_matrix(svm_pca_2d_cm, ['Benign', 'Malignant'])"
      ],
      "metadata": {
        "colab": {
          "base_uri": "https://localhost:8080/",
          "height": 542
        },
        "id": "i_kHz_bsRaOw",
        "outputId": "aaefff57-a772-4b74-d5fa-01ccc10f5919"
      },
      "execution_count": null,
      "outputs": [
        {
          "output_type": "display_data",
          "data": {
            "text/html": [
              "<html>\n",
              "<head><meta charset=\"utf-8\" /></head>\n",
              "<body>\n",
              "    <div>            <script src=\"https://cdnjs.cloudflare.com/ajax/libs/mathjax/2.7.5/MathJax.js?config=TeX-AMS-MML_SVG\"></script><script type=\"text/javascript\">if (window.MathJax && window.MathJax.Hub && window.MathJax.Hub.Config) {window.MathJax.Hub.Config({SVG: {font: \"STIX-Web\"}});}</script>                <script type=\"text/javascript\">window.PlotlyConfig = {MathJaxConfig: 'local'};</script>\n",
              "        <script src=\"https://cdn.plot.ly/plotly-2.18.2.min.js\"></script>                <div id=\"be73a9a3-d064-48cc-848e-67b0a6573b7b\" class=\"plotly-graph-div\" style=\"height:525px; width:100%;\"></div>            <script type=\"text/javascript\">                                    window.PLOTLYENV=window.PLOTLYENV || {};                                    if (document.getElementById(\"be73a9a3-d064-48cc-848e-67b0a6573b7b\")) {                    Plotly.newPlot(                        \"be73a9a3-d064-48cc-848e-67b0a6573b7b\",                        [{\"coloraxis\":\"coloraxis\",\"name\":\"0\",\"texttemplate\":\"%{z}\",\"x\":[\"Benign\",\"Malignant\"],\"y\":[\"Benign\",\"Malignant\"],\"z\":[[35,5],[2,72]],\"type\":\"heatmap\",\"xaxis\":\"x\",\"yaxis\":\"y\",\"hovertemplate\":\"Predicted: %{x}<br>Actual: %{y}<br>Count: %{z}<extra></extra>\"}],                        {\"template\":{\"data\":{\"histogram2dcontour\":[{\"type\":\"histogram2dcontour\",\"colorbar\":{\"outlinewidth\":0,\"ticks\":\"\"},\"colorscale\":[[0.0,\"#0d0887\"],[0.1111111111111111,\"#46039f\"],[0.2222222222222222,\"#7201a8\"],[0.3333333333333333,\"#9c179e\"],[0.4444444444444444,\"#bd3786\"],[0.5555555555555556,\"#d8576b\"],[0.6666666666666666,\"#ed7953\"],[0.7777777777777778,\"#fb9f3a\"],[0.8888888888888888,\"#fdca26\"],[1.0,\"#f0f921\"]]}],\"choropleth\":[{\"type\":\"choropleth\",\"colorbar\":{\"outlinewidth\":0,\"ticks\":\"\"}}],\"histogram2d\":[{\"type\":\"histogram2d\",\"colorbar\":{\"outlinewidth\":0,\"ticks\":\"\"},\"colorscale\":[[0.0,\"#0d0887\"],[0.1111111111111111,\"#46039f\"],[0.2222222222222222,\"#7201a8\"],[0.3333333333333333,\"#9c179e\"],[0.4444444444444444,\"#bd3786\"],[0.5555555555555556,\"#d8576b\"],[0.6666666666666666,\"#ed7953\"],[0.7777777777777778,\"#fb9f3a\"],[0.8888888888888888,\"#fdca26\"],[1.0,\"#f0f921\"]]}],\"heatmap\":[{\"type\":\"heatmap\",\"colorbar\":{\"outlinewidth\":0,\"ticks\":\"\"},\"colorscale\":[[0.0,\"#0d0887\"],[0.1111111111111111,\"#46039f\"],[0.2222222222222222,\"#7201a8\"],[0.3333333333333333,\"#9c179e\"],[0.4444444444444444,\"#bd3786\"],[0.5555555555555556,\"#d8576b\"],[0.6666666666666666,\"#ed7953\"],[0.7777777777777778,\"#fb9f3a\"],[0.8888888888888888,\"#fdca26\"],[1.0,\"#f0f921\"]]}],\"heatmapgl\":[{\"type\":\"heatmapgl\",\"colorbar\":{\"outlinewidth\":0,\"ticks\":\"\"},\"colorscale\":[[0.0,\"#0d0887\"],[0.1111111111111111,\"#46039f\"],[0.2222222222222222,\"#7201a8\"],[0.3333333333333333,\"#9c179e\"],[0.4444444444444444,\"#bd3786\"],[0.5555555555555556,\"#d8576b\"],[0.6666666666666666,\"#ed7953\"],[0.7777777777777778,\"#fb9f3a\"],[0.8888888888888888,\"#fdca26\"],[1.0,\"#f0f921\"]]}],\"contourcarpet\":[{\"type\":\"contourcarpet\",\"colorbar\":{\"outlinewidth\":0,\"ticks\":\"\"}}],\"contour\":[{\"type\":\"contour\",\"colorbar\":{\"outlinewidth\":0,\"ticks\":\"\"},\"colorscale\":[[0.0,\"#0d0887\"],[0.1111111111111111,\"#46039f\"],[0.2222222222222222,\"#7201a8\"],[0.3333333333333333,\"#9c179e\"],[0.4444444444444444,\"#bd3786\"],[0.5555555555555556,\"#d8576b\"],[0.6666666666666666,\"#ed7953\"],[0.7777777777777778,\"#fb9f3a\"],[0.8888888888888888,\"#fdca26\"],[1.0,\"#f0f921\"]]}],\"surface\":[{\"type\":\"surface\",\"colorbar\":{\"outlinewidth\":0,\"ticks\":\"\"},\"colorscale\":[[0.0,\"#0d0887\"],[0.1111111111111111,\"#46039f\"],[0.2222222222222222,\"#7201a8\"],[0.3333333333333333,\"#9c179e\"],[0.4444444444444444,\"#bd3786\"],[0.5555555555555556,\"#d8576b\"],[0.6666666666666666,\"#ed7953\"],[0.7777777777777778,\"#fb9f3a\"],[0.8888888888888888,\"#fdca26\"],[1.0,\"#f0f921\"]]}],\"mesh3d\":[{\"type\":\"mesh3d\",\"colorbar\":{\"outlinewidth\":0,\"ticks\":\"\"}}],\"scatter\":[{\"fillpattern\":{\"fillmode\":\"overlay\",\"size\":10,\"solidity\":0.2},\"type\":\"scatter\"}],\"parcoords\":[{\"type\":\"parcoords\",\"line\":{\"colorbar\":{\"outlinewidth\":0,\"ticks\":\"\"}}}],\"scatterpolargl\":[{\"type\":\"scatterpolargl\",\"marker\":{\"colorbar\":{\"outlinewidth\":0,\"ticks\":\"\"}}}],\"bar\":[{\"error_x\":{\"color\":\"#2a3f5f\"},\"error_y\":{\"color\":\"#2a3f5f\"},\"marker\":{\"line\":{\"color\":\"#E5ECF6\",\"width\":0.5},\"pattern\":{\"fillmode\":\"overlay\",\"size\":10,\"solidity\":0.2}},\"type\":\"bar\"}],\"scattergeo\":[{\"type\":\"scattergeo\",\"marker\":{\"colorbar\":{\"outlinewidth\":0,\"ticks\":\"\"}}}],\"scatterpolar\":[{\"type\":\"scatterpolar\",\"marker\":{\"colorbar\":{\"outlinewidth\":0,\"ticks\":\"\"}}}],\"histogram\":[{\"marker\":{\"pattern\":{\"fillmode\":\"overlay\",\"size\":10,\"solidity\":0.2}},\"type\":\"histogram\"}],\"scattergl\":[{\"type\":\"scattergl\",\"marker\":{\"colorbar\":{\"outlinewidth\":0,\"ticks\":\"\"}}}],\"scatter3d\":[{\"type\":\"scatter3d\",\"line\":{\"colorbar\":{\"outlinewidth\":0,\"ticks\":\"\"}},\"marker\":{\"colorbar\":{\"outlinewidth\":0,\"ticks\":\"\"}}}],\"scattermapbox\":[{\"type\":\"scattermapbox\",\"marker\":{\"colorbar\":{\"outlinewidth\":0,\"ticks\":\"\"}}}],\"scatterternary\":[{\"type\":\"scatterternary\",\"marker\":{\"colorbar\":{\"outlinewidth\":0,\"ticks\":\"\"}}}],\"scattercarpet\":[{\"type\":\"scattercarpet\",\"marker\":{\"colorbar\":{\"outlinewidth\":0,\"ticks\":\"\"}}}],\"carpet\":[{\"aaxis\":{\"endlinecolor\":\"#2a3f5f\",\"gridcolor\":\"white\",\"linecolor\":\"white\",\"minorgridcolor\":\"white\",\"startlinecolor\":\"#2a3f5f\"},\"baxis\":{\"endlinecolor\":\"#2a3f5f\",\"gridcolor\":\"white\",\"linecolor\":\"white\",\"minorgridcolor\":\"white\",\"startlinecolor\":\"#2a3f5f\"},\"type\":\"carpet\"}],\"table\":[{\"cells\":{\"fill\":{\"color\":\"#EBF0F8\"},\"line\":{\"color\":\"white\"}},\"header\":{\"fill\":{\"color\":\"#C8D4E3\"},\"line\":{\"color\":\"white\"}},\"type\":\"table\"}],\"barpolar\":[{\"marker\":{\"line\":{\"color\":\"#E5ECF6\",\"width\":0.5},\"pattern\":{\"fillmode\":\"overlay\",\"size\":10,\"solidity\":0.2}},\"type\":\"barpolar\"}],\"pie\":[{\"automargin\":true,\"type\":\"pie\"}]},\"layout\":{\"autotypenumbers\":\"strict\",\"colorway\":[\"#636efa\",\"#EF553B\",\"#00cc96\",\"#ab63fa\",\"#FFA15A\",\"#19d3f3\",\"#FF6692\",\"#B6E880\",\"#FF97FF\",\"#FECB52\"],\"font\":{\"color\":\"#2a3f5f\"},\"hovermode\":\"closest\",\"hoverlabel\":{\"align\":\"left\"},\"paper_bgcolor\":\"white\",\"plot_bgcolor\":\"#E5ECF6\",\"polar\":{\"bgcolor\":\"#E5ECF6\",\"angularaxis\":{\"gridcolor\":\"white\",\"linecolor\":\"white\",\"ticks\":\"\"},\"radialaxis\":{\"gridcolor\":\"white\",\"linecolor\":\"white\",\"ticks\":\"\"}},\"ternary\":{\"bgcolor\":\"#E5ECF6\",\"aaxis\":{\"gridcolor\":\"white\",\"linecolor\":\"white\",\"ticks\":\"\"},\"baxis\":{\"gridcolor\":\"white\",\"linecolor\":\"white\",\"ticks\":\"\"},\"caxis\":{\"gridcolor\":\"white\",\"linecolor\":\"white\",\"ticks\":\"\"}},\"coloraxis\":{\"colorbar\":{\"outlinewidth\":0,\"ticks\":\"\"}},\"colorscale\":{\"sequential\":[[0.0,\"#0d0887\"],[0.1111111111111111,\"#46039f\"],[0.2222222222222222,\"#7201a8\"],[0.3333333333333333,\"#9c179e\"],[0.4444444444444444,\"#bd3786\"],[0.5555555555555556,\"#d8576b\"],[0.6666666666666666,\"#ed7953\"],[0.7777777777777778,\"#fb9f3a\"],[0.8888888888888888,\"#fdca26\"],[1.0,\"#f0f921\"]],\"sequentialminus\":[[0.0,\"#0d0887\"],[0.1111111111111111,\"#46039f\"],[0.2222222222222222,\"#7201a8\"],[0.3333333333333333,\"#9c179e\"],[0.4444444444444444,\"#bd3786\"],[0.5555555555555556,\"#d8576b\"],[0.6666666666666666,\"#ed7953\"],[0.7777777777777778,\"#fb9f3a\"],[0.8888888888888888,\"#fdca26\"],[1.0,\"#f0f921\"]],\"diverging\":[[0,\"#8e0152\"],[0.1,\"#c51b7d\"],[0.2,\"#de77ae\"],[0.3,\"#f1b6da\"],[0.4,\"#fde0ef\"],[0.5,\"#f7f7f7\"],[0.6,\"#e6f5d0\"],[0.7,\"#b8e186\"],[0.8,\"#7fbc41\"],[0.9,\"#4d9221\"],[1,\"#276419\"]]},\"xaxis\":{\"gridcolor\":\"white\",\"linecolor\":\"white\",\"ticks\":\"\",\"title\":{\"standoff\":15},\"zerolinecolor\":\"white\",\"automargin\":true,\"zerolinewidth\":2},\"yaxis\":{\"gridcolor\":\"white\",\"linecolor\":\"white\",\"ticks\":\"\",\"title\":{\"standoff\":15},\"zerolinecolor\":\"white\",\"automargin\":true,\"zerolinewidth\":2},\"scene\":{\"xaxis\":{\"backgroundcolor\":\"#E5ECF6\",\"gridcolor\":\"white\",\"linecolor\":\"white\",\"showbackground\":true,\"ticks\":\"\",\"zerolinecolor\":\"white\",\"gridwidth\":2},\"yaxis\":{\"backgroundcolor\":\"#E5ECF6\",\"gridcolor\":\"white\",\"linecolor\":\"white\",\"showbackground\":true,\"ticks\":\"\",\"zerolinecolor\":\"white\",\"gridwidth\":2},\"zaxis\":{\"backgroundcolor\":\"#E5ECF6\",\"gridcolor\":\"white\",\"linecolor\":\"white\",\"showbackground\":true,\"ticks\":\"\",\"zerolinecolor\":\"white\",\"gridwidth\":2}},\"shapedefaults\":{\"line\":{\"color\":\"#2a3f5f\"}},\"annotationdefaults\":{\"arrowcolor\":\"#2a3f5f\",\"arrowhead\":0,\"arrowwidth\":1},\"geo\":{\"bgcolor\":\"white\",\"landcolor\":\"#E5ECF6\",\"subunitcolor\":\"white\",\"showland\":true,\"showlakes\":true,\"lakecolor\":\"white\"},\"title\":{\"x\":0.05},\"mapbox\":{\"style\":\"light\"}}},\"xaxis\":{\"anchor\":\"y\",\"domain\":[0.0,1.0],\"scaleanchor\":\"y\",\"constrain\":\"domain\",\"title\":{\"text\":\"Predicted\"}},\"yaxis\":{\"anchor\":\"x\",\"domain\":[0.0,1.0],\"autorange\":\"reversed\",\"constrain\":\"domain\",\"title\":{\"text\":\"Actual\"}},\"coloraxis\":{\"colorbar\":{\"title\":{\"text\":\"Count\"}},\"colorscale\":[[0.0,\"#440154\"],[0.1111111111111111,\"#482878\"],[0.2222222222222222,\"#3e4989\"],[0.3333333333333333,\"#31688e\"],[0.4444444444444444,\"#26828e\"],[0.5555555555555556,\"#1f9e89\"],[0.6666666666666666,\"#35b779\"],[0.7777777777777778,\"#6ece58\"],[0.8888888888888888,\"#b5de2b\"],[1.0,\"#fde725\"]],\"showscale\":false},\"title\":{\"text\":\"Confusion Matrix\"}},                        {\"responsive\": true}                    ).then(function(){\n",
              "                            \n",
              "var gd = document.getElementById('be73a9a3-d064-48cc-848e-67b0a6573b7b');\n",
              "var x = new MutationObserver(function (mutations, observer) {{\n",
              "        var display = window.getComputedStyle(gd).display;\n",
              "        if (!display || display === 'none') {{\n",
              "            console.log([gd, 'removed!']);\n",
              "            Plotly.purge(gd);\n",
              "            observer.disconnect();\n",
              "        }}\n",
              "}});\n",
              "\n",
              "// Listen for the removal of the full notebook cells\n",
              "var notebookContainer = gd.closest('#notebook-container');\n",
              "if (notebookContainer) {{\n",
              "    x.observe(notebookContainer, {childList: true});\n",
              "}}\n",
              "\n",
              "// Listen for the clearing of the current output cell\n",
              "var outputEl = gd.closest('.output');\n",
              "if (outputEl) {{\n",
              "    x.observe(outputEl, {childList: true});\n",
              "}}\n",
              "\n",
              "                        })                };                            </script>        </div>\n",
              "</body>\n",
              "</html>"
            ]
          },
          "metadata": {}
        }
      ]
    },
    {
      "cell_type": "markdown",
      "source": [
        "##### Naive Bayes\n"
      ],
      "metadata": {
        "id": "q3s_FPPTRle8"
      }
    },
    {
      "cell_type": "code",
      "source": [
        "nb_pca_2d = GaussianNB()\n",
        "nb_pca_2d.fit(X_train_pca_2d, y_train)\n",
        "nb_pca_2d_pred = nb_pca_2d.predict(X_test_pca_2d)"
      ],
      "metadata": {
        "id": "r4eS5XepRqGD"
      },
      "execution_count": null,
      "outputs": []
    },
    {
      "cell_type": "code",
      "source": [
        "nb_pca_2d_accuracy = accuracy_score(y_test, nb_pca_2d_pred)\n",
        "nb_pca_2d_precision = precision_score(y_test, nb_pca_2d_pred)\n",
        "nb_pca_2d_recall = recall_score(y_test, nb_pca_2d_pred)\n",
        "nb_pca_2d_f1 = f1_score(y_test, nb_pca_2d_pred)\n",
        "nb_pca_2d_report = classification_report(y_test, nb_pca_2d_pred)\n",
        "print(\"Naive Bayes PCA 2D Classification Report:\")\n",
        "print(nb_pca_2d_report)"
      ],
      "metadata": {
        "colab": {
          "base_uri": "https://localhost:8080/"
        },
        "id": "eKqAd4tyR2Dc",
        "outputId": "b097fb9e-8f39-448b-c231-3bc1a01d1fab"
      },
      "execution_count": null,
      "outputs": [
        {
          "output_type": "stream",
          "name": "stdout",
          "text": [
            "Naive Bayes PCA 2D Classification Report:\n",
            "              precision    recall  f1-score   support\n",
            "\n",
            "           0       0.89      0.80      0.84        40\n",
            "           1       0.90      0.95      0.92        74\n",
            "\n",
            "    accuracy                           0.89       114\n",
            "   macro avg       0.89      0.87      0.88       114\n",
            "weighted avg       0.89      0.89      0.89       114\n",
            "\n"
          ]
        }
      ]
    },
    {
      "cell_type": "code",
      "source": [
        "nb_pca_2d_cm = confusion_matrix(y_test, nb_pca_2d_pred)\n",
        "plot_confusion_matrix(nb_pca_2d_cm, ['Benign', 'Malignant'])"
      ],
      "metadata": {
        "colab": {
          "base_uri": "https://localhost:8080/",
          "height": 542
        },
        "id": "kdwk-QetWm4S",
        "outputId": "28307471-d2c3-49ac-e543-14bb09b04b61"
      },
      "execution_count": null,
      "outputs": [
        {
          "output_type": "display_data",
          "data": {
            "text/html": [
              "<html>\n",
              "<head><meta charset=\"utf-8\" /></head>\n",
              "<body>\n",
              "    <div>            <script src=\"https://cdnjs.cloudflare.com/ajax/libs/mathjax/2.7.5/MathJax.js?config=TeX-AMS-MML_SVG\"></script><script type=\"text/javascript\">if (window.MathJax && window.MathJax.Hub && window.MathJax.Hub.Config) {window.MathJax.Hub.Config({SVG: {font: \"STIX-Web\"}});}</script>                <script type=\"text/javascript\">window.PlotlyConfig = {MathJaxConfig: 'local'};</script>\n",
              "        <script src=\"https://cdn.plot.ly/plotly-2.18.2.min.js\"></script>                <div id=\"05c87d81-1fc2-414d-bbf8-fcad95d10f9d\" class=\"plotly-graph-div\" style=\"height:525px; width:100%;\"></div>            <script type=\"text/javascript\">                                    window.PLOTLYENV=window.PLOTLYENV || {};                                    if (document.getElementById(\"05c87d81-1fc2-414d-bbf8-fcad95d10f9d\")) {                    Plotly.newPlot(                        \"05c87d81-1fc2-414d-bbf8-fcad95d10f9d\",                        [{\"coloraxis\":\"coloraxis\",\"name\":\"0\",\"texttemplate\":\"%{z}\",\"x\":[\"Benign\",\"Malignant\"],\"y\":[\"Benign\",\"Malignant\"],\"z\":[[32,8],[4,70]],\"type\":\"heatmap\",\"xaxis\":\"x\",\"yaxis\":\"y\",\"hovertemplate\":\"Predicted: %{x}<br>Actual: %{y}<br>Count: %{z}<extra></extra>\"}],                        {\"template\":{\"data\":{\"histogram2dcontour\":[{\"type\":\"histogram2dcontour\",\"colorbar\":{\"outlinewidth\":0,\"ticks\":\"\"},\"colorscale\":[[0.0,\"#0d0887\"],[0.1111111111111111,\"#46039f\"],[0.2222222222222222,\"#7201a8\"],[0.3333333333333333,\"#9c179e\"],[0.4444444444444444,\"#bd3786\"],[0.5555555555555556,\"#d8576b\"],[0.6666666666666666,\"#ed7953\"],[0.7777777777777778,\"#fb9f3a\"],[0.8888888888888888,\"#fdca26\"],[1.0,\"#f0f921\"]]}],\"choropleth\":[{\"type\":\"choropleth\",\"colorbar\":{\"outlinewidth\":0,\"ticks\":\"\"}}],\"histogram2d\":[{\"type\":\"histogram2d\",\"colorbar\":{\"outlinewidth\":0,\"ticks\":\"\"},\"colorscale\":[[0.0,\"#0d0887\"],[0.1111111111111111,\"#46039f\"],[0.2222222222222222,\"#7201a8\"],[0.3333333333333333,\"#9c179e\"],[0.4444444444444444,\"#bd3786\"],[0.5555555555555556,\"#d8576b\"],[0.6666666666666666,\"#ed7953\"],[0.7777777777777778,\"#fb9f3a\"],[0.8888888888888888,\"#fdca26\"],[1.0,\"#f0f921\"]]}],\"heatmap\":[{\"type\":\"heatmap\",\"colorbar\":{\"outlinewidth\":0,\"ticks\":\"\"},\"colorscale\":[[0.0,\"#0d0887\"],[0.1111111111111111,\"#46039f\"],[0.2222222222222222,\"#7201a8\"],[0.3333333333333333,\"#9c179e\"],[0.4444444444444444,\"#bd3786\"],[0.5555555555555556,\"#d8576b\"],[0.6666666666666666,\"#ed7953\"],[0.7777777777777778,\"#fb9f3a\"],[0.8888888888888888,\"#fdca26\"],[1.0,\"#f0f921\"]]}],\"heatmapgl\":[{\"type\":\"heatmapgl\",\"colorbar\":{\"outlinewidth\":0,\"ticks\":\"\"},\"colorscale\":[[0.0,\"#0d0887\"],[0.1111111111111111,\"#46039f\"],[0.2222222222222222,\"#7201a8\"],[0.3333333333333333,\"#9c179e\"],[0.4444444444444444,\"#bd3786\"],[0.5555555555555556,\"#d8576b\"],[0.6666666666666666,\"#ed7953\"],[0.7777777777777778,\"#fb9f3a\"],[0.8888888888888888,\"#fdca26\"],[1.0,\"#f0f921\"]]}],\"contourcarpet\":[{\"type\":\"contourcarpet\",\"colorbar\":{\"outlinewidth\":0,\"ticks\":\"\"}}],\"contour\":[{\"type\":\"contour\",\"colorbar\":{\"outlinewidth\":0,\"ticks\":\"\"},\"colorscale\":[[0.0,\"#0d0887\"],[0.1111111111111111,\"#46039f\"],[0.2222222222222222,\"#7201a8\"],[0.3333333333333333,\"#9c179e\"],[0.4444444444444444,\"#bd3786\"],[0.5555555555555556,\"#d8576b\"],[0.6666666666666666,\"#ed7953\"],[0.7777777777777778,\"#fb9f3a\"],[0.8888888888888888,\"#fdca26\"],[1.0,\"#f0f921\"]]}],\"surface\":[{\"type\":\"surface\",\"colorbar\":{\"outlinewidth\":0,\"ticks\":\"\"},\"colorscale\":[[0.0,\"#0d0887\"],[0.1111111111111111,\"#46039f\"],[0.2222222222222222,\"#7201a8\"],[0.3333333333333333,\"#9c179e\"],[0.4444444444444444,\"#bd3786\"],[0.5555555555555556,\"#d8576b\"],[0.6666666666666666,\"#ed7953\"],[0.7777777777777778,\"#fb9f3a\"],[0.8888888888888888,\"#fdca26\"],[1.0,\"#f0f921\"]]}],\"mesh3d\":[{\"type\":\"mesh3d\",\"colorbar\":{\"outlinewidth\":0,\"ticks\":\"\"}}],\"scatter\":[{\"fillpattern\":{\"fillmode\":\"overlay\",\"size\":10,\"solidity\":0.2},\"type\":\"scatter\"}],\"parcoords\":[{\"type\":\"parcoords\",\"line\":{\"colorbar\":{\"outlinewidth\":0,\"ticks\":\"\"}}}],\"scatterpolargl\":[{\"type\":\"scatterpolargl\",\"marker\":{\"colorbar\":{\"outlinewidth\":0,\"ticks\":\"\"}}}],\"bar\":[{\"error_x\":{\"color\":\"#2a3f5f\"},\"error_y\":{\"color\":\"#2a3f5f\"},\"marker\":{\"line\":{\"color\":\"#E5ECF6\",\"width\":0.5},\"pattern\":{\"fillmode\":\"overlay\",\"size\":10,\"solidity\":0.2}},\"type\":\"bar\"}],\"scattergeo\":[{\"type\":\"scattergeo\",\"marker\":{\"colorbar\":{\"outlinewidth\":0,\"ticks\":\"\"}}}],\"scatterpolar\":[{\"type\":\"scatterpolar\",\"marker\":{\"colorbar\":{\"outlinewidth\":0,\"ticks\":\"\"}}}],\"histogram\":[{\"marker\":{\"pattern\":{\"fillmode\":\"overlay\",\"size\":10,\"solidity\":0.2}},\"type\":\"histogram\"}],\"scattergl\":[{\"type\":\"scattergl\",\"marker\":{\"colorbar\":{\"outlinewidth\":0,\"ticks\":\"\"}}}],\"scatter3d\":[{\"type\":\"scatter3d\",\"line\":{\"colorbar\":{\"outlinewidth\":0,\"ticks\":\"\"}},\"marker\":{\"colorbar\":{\"outlinewidth\":0,\"ticks\":\"\"}}}],\"scattermapbox\":[{\"type\":\"scattermapbox\",\"marker\":{\"colorbar\":{\"outlinewidth\":0,\"ticks\":\"\"}}}],\"scatterternary\":[{\"type\":\"scatterternary\",\"marker\":{\"colorbar\":{\"outlinewidth\":0,\"ticks\":\"\"}}}],\"scattercarpet\":[{\"type\":\"scattercarpet\",\"marker\":{\"colorbar\":{\"outlinewidth\":0,\"ticks\":\"\"}}}],\"carpet\":[{\"aaxis\":{\"endlinecolor\":\"#2a3f5f\",\"gridcolor\":\"white\",\"linecolor\":\"white\",\"minorgridcolor\":\"white\",\"startlinecolor\":\"#2a3f5f\"},\"baxis\":{\"endlinecolor\":\"#2a3f5f\",\"gridcolor\":\"white\",\"linecolor\":\"white\",\"minorgridcolor\":\"white\",\"startlinecolor\":\"#2a3f5f\"},\"type\":\"carpet\"}],\"table\":[{\"cells\":{\"fill\":{\"color\":\"#EBF0F8\"},\"line\":{\"color\":\"white\"}},\"header\":{\"fill\":{\"color\":\"#C8D4E3\"},\"line\":{\"color\":\"white\"}},\"type\":\"table\"}],\"barpolar\":[{\"marker\":{\"line\":{\"color\":\"#E5ECF6\",\"width\":0.5},\"pattern\":{\"fillmode\":\"overlay\",\"size\":10,\"solidity\":0.2}},\"type\":\"barpolar\"}],\"pie\":[{\"automargin\":true,\"type\":\"pie\"}]},\"layout\":{\"autotypenumbers\":\"strict\",\"colorway\":[\"#636efa\",\"#EF553B\",\"#00cc96\",\"#ab63fa\",\"#FFA15A\",\"#19d3f3\",\"#FF6692\",\"#B6E880\",\"#FF97FF\",\"#FECB52\"],\"font\":{\"color\":\"#2a3f5f\"},\"hovermode\":\"closest\",\"hoverlabel\":{\"align\":\"left\"},\"paper_bgcolor\":\"white\",\"plot_bgcolor\":\"#E5ECF6\",\"polar\":{\"bgcolor\":\"#E5ECF6\",\"angularaxis\":{\"gridcolor\":\"white\",\"linecolor\":\"white\",\"ticks\":\"\"},\"radialaxis\":{\"gridcolor\":\"white\",\"linecolor\":\"white\",\"ticks\":\"\"}},\"ternary\":{\"bgcolor\":\"#E5ECF6\",\"aaxis\":{\"gridcolor\":\"white\",\"linecolor\":\"white\",\"ticks\":\"\"},\"baxis\":{\"gridcolor\":\"white\",\"linecolor\":\"white\",\"ticks\":\"\"},\"caxis\":{\"gridcolor\":\"white\",\"linecolor\":\"white\",\"ticks\":\"\"}},\"coloraxis\":{\"colorbar\":{\"outlinewidth\":0,\"ticks\":\"\"}},\"colorscale\":{\"sequential\":[[0.0,\"#0d0887\"],[0.1111111111111111,\"#46039f\"],[0.2222222222222222,\"#7201a8\"],[0.3333333333333333,\"#9c179e\"],[0.4444444444444444,\"#bd3786\"],[0.5555555555555556,\"#d8576b\"],[0.6666666666666666,\"#ed7953\"],[0.7777777777777778,\"#fb9f3a\"],[0.8888888888888888,\"#fdca26\"],[1.0,\"#f0f921\"]],\"sequentialminus\":[[0.0,\"#0d0887\"],[0.1111111111111111,\"#46039f\"],[0.2222222222222222,\"#7201a8\"],[0.3333333333333333,\"#9c179e\"],[0.4444444444444444,\"#bd3786\"],[0.5555555555555556,\"#d8576b\"],[0.6666666666666666,\"#ed7953\"],[0.7777777777777778,\"#fb9f3a\"],[0.8888888888888888,\"#fdca26\"],[1.0,\"#f0f921\"]],\"diverging\":[[0,\"#8e0152\"],[0.1,\"#c51b7d\"],[0.2,\"#de77ae\"],[0.3,\"#f1b6da\"],[0.4,\"#fde0ef\"],[0.5,\"#f7f7f7\"],[0.6,\"#e6f5d0\"],[0.7,\"#b8e186\"],[0.8,\"#7fbc41\"],[0.9,\"#4d9221\"],[1,\"#276419\"]]},\"xaxis\":{\"gridcolor\":\"white\",\"linecolor\":\"white\",\"ticks\":\"\",\"title\":{\"standoff\":15},\"zerolinecolor\":\"white\",\"automargin\":true,\"zerolinewidth\":2},\"yaxis\":{\"gridcolor\":\"white\",\"linecolor\":\"white\",\"ticks\":\"\",\"title\":{\"standoff\":15},\"zerolinecolor\":\"white\",\"automargin\":true,\"zerolinewidth\":2},\"scene\":{\"xaxis\":{\"backgroundcolor\":\"#E5ECF6\",\"gridcolor\":\"white\",\"linecolor\":\"white\",\"showbackground\":true,\"ticks\":\"\",\"zerolinecolor\":\"white\",\"gridwidth\":2},\"yaxis\":{\"backgroundcolor\":\"#E5ECF6\",\"gridcolor\":\"white\",\"linecolor\":\"white\",\"showbackground\":true,\"ticks\":\"\",\"zerolinecolor\":\"white\",\"gridwidth\":2},\"zaxis\":{\"backgroundcolor\":\"#E5ECF6\",\"gridcolor\":\"white\",\"linecolor\":\"white\",\"showbackground\":true,\"ticks\":\"\",\"zerolinecolor\":\"white\",\"gridwidth\":2}},\"shapedefaults\":{\"line\":{\"color\":\"#2a3f5f\"}},\"annotationdefaults\":{\"arrowcolor\":\"#2a3f5f\",\"arrowhead\":0,\"arrowwidth\":1},\"geo\":{\"bgcolor\":\"white\",\"landcolor\":\"#E5ECF6\",\"subunitcolor\":\"white\",\"showland\":true,\"showlakes\":true,\"lakecolor\":\"white\"},\"title\":{\"x\":0.05},\"mapbox\":{\"style\":\"light\"}}},\"xaxis\":{\"anchor\":\"y\",\"domain\":[0.0,1.0],\"scaleanchor\":\"y\",\"constrain\":\"domain\",\"title\":{\"text\":\"Predicted\"}},\"yaxis\":{\"anchor\":\"x\",\"domain\":[0.0,1.0],\"autorange\":\"reversed\",\"constrain\":\"domain\",\"title\":{\"text\":\"Actual\"}},\"coloraxis\":{\"colorbar\":{\"title\":{\"text\":\"Count\"}},\"colorscale\":[[0.0,\"#440154\"],[0.1111111111111111,\"#482878\"],[0.2222222222222222,\"#3e4989\"],[0.3333333333333333,\"#31688e\"],[0.4444444444444444,\"#26828e\"],[0.5555555555555556,\"#1f9e89\"],[0.6666666666666666,\"#35b779\"],[0.7777777777777778,\"#6ece58\"],[0.8888888888888888,\"#b5de2b\"],[1.0,\"#fde725\"]],\"showscale\":false},\"title\":{\"text\":\"Confusion Matrix\"}},                        {\"responsive\": true}                    ).then(function(){\n",
              "                            \n",
              "var gd = document.getElementById('05c87d81-1fc2-414d-bbf8-fcad95d10f9d');\n",
              "var x = new MutationObserver(function (mutations, observer) {{\n",
              "        var display = window.getComputedStyle(gd).display;\n",
              "        if (!display || display === 'none') {{\n",
              "            console.log([gd, 'removed!']);\n",
              "            Plotly.purge(gd);\n",
              "            observer.disconnect();\n",
              "        }}\n",
              "}});\n",
              "\n",
              "// Listen for the removal of the full notebook cells\n",
              "var notebookContainer = gd.closest('#notebook-container');\n",
              "if (notebookContainer) {{\n",
              "    x.observe(notebookContainer, {childList: true});\n",
              "}}\n",
              "\n",
              "// Listen for the clearing of the current output cell\n",
              "var outputEl = gd.closest('.output');\n",
              "if (outputEl) {{\n",
              "    x.observe(outputEl, {childList: true});\n",
              "}}\n",
              "\n",
              "                        })                };                            </script>        </div>\n",
              "</body>\n",
              "</html>"
            ]
          },
          "metadata": {}
        }
      ]
    },
    {
      "cell_type": "markdown",
      "source": [
        "### PCA with 3 components"
      ],
      "metadata": {
        "id": "TWNvGaNMeoTf"
      }
    },
    {
      "cell_type": "code",
      "source": [
        "pca_3d = PCA(n_components=3)\n",
        "X_pca_3d = pca_3d.fit_transform(X_scaled)\n",
        "pca_df_3d = pd.DataFrame(data=X_pca_3d, columns=['PC1', 'PC2', 'PC3'])\n",
        "pca_df_3d['diagnosis'] = y\n",
        "pca_df_3d.head()"
      ],
      "metadata": {
        "colab": {
          "base_uri": "https://localhost:8080/",
          "height": 206
        },
        "id": "VEI7-9x8dqgI",
        "outputId": "0cdc01be-25a4-4dc0-9d01-ea6dcf7e662e"
      },
      "execution_count": null,
      "outputs": [
        {
          "output_type": "execute_result",
          "data": {
            "text/plain": [
              "        PC1        PC2       PC3  diagnosis\n",
              "0  9.192837   1.948582 -1.123165          0\n",
              "1  2.387802  -3.768172 -0.529292          0\n",
              "2  5.733896  -1.075174 -0.551748          0\n",
              "3  7.122953  10.275588 -3.232788          0\n",
              "4  3.935302  -1.948073  1.389768          0"
            ],
            "text/html": [
              "\n",
              "  <div id=\"df-4ec3da5a-4ec2-4b37-af81-04341ede8212\">\n",
              "    <div class=\"colab-df-container\">\n",
              "      <div>\n",
              "<style scoped>\n",
              "    .dataframe tbody tr th:only-of-type {\n",
              "        vertical-align: middle;\n",
              "    }\n",
              "\n",
              "    .dataframe tbody tr th {\n",
              "        vertical-align: top;\n",
              "    }\n",
              "\n",
              "    .dataframe thead th {\n",
              "        text-align: right;\n",
              "    }\n",
              "</style>\n",
              "<table border=\"1\" class=\"dataframe\">\n",
              "  <thead>\n",
              "    <tr style=\"text-align: right;\">\n",
              "      <th></th>\n",
              "      <th>PC1</th>\n",
              "      <th>PC2</th>\n",
              "      <th>PC3</th>\n",
              "      <th>diagnosis</th>\n",
              "    </tr>\n",
              "  </thead>\n",
              "  <tbody>\n",
              "    <tr>\n",
              "      <th>0</th>\n",
              "      <td>9.192837</td>\n",
              "      <td>1.948582</td>\n",
              "      <td>-1.123165</td>\n",
              "      <td>0</td>\n",
              "    </tr>\n",
              "    <tr>\n",
              "      <th>1</th>\n",
              "      <td>2.387802</td>\n",
              "      <td>-3.768172</td>\n",
              "      <td>-0.529292</td>\n",
              "      <td>0</td>\n",
              "    </tr>\n",
              "    <tr>\n",
              "      <th>2</th>\n",
              "      <td>5.733896</td>\n",
              "      <td>-1.075174</td>\n",
              "      <td>-0.551748</td>\n",
              "      <td>0</td>\n",
              "    </tr>\n",
              "    <tr>\n",
              "      <th>3</th>\n",
              "      <td>7.122953</td>\n",
              "      <td>10.275588</td>\n",
              "      <td>-3.232788</td>\n",
              "      <td>0</td>\n",
              "    </tr>\n",
              "    <tr>\n",
              "      <th>4</th>\n",
              "      <td>3.935302</td>\n",
              "      <td>-1.948073</td>\n",
              "      <td>1.389768</td>\n",
              "      <td>0</td>\n",
              "    </tr>\n",
              "  </tbody>\n",
              "</table>\n",
              "</div>\n",
              "      <button class=\"colab-df-convert\" onclick=\"convertToInteractive('df-4ec3da5a-4ec2-4b37-af81-04341ede8212')\"\n",
              "              title=\"Convert this dataframe to an interactive table.\"\n",
              "              style=\"display:none;\">\n",
              "        \n",
              "  <svg xmlns=\"http://www.w3.org/2000/svg\" height=\"24px\"viewBox=\"0 0 24 24\"\n",
              "       width=\"24px\">\n",
              "    <path d=\"M0 0h24v24H0V0z\" fill=\"none\"/>\n",
              "    <path d=\"M18.56 5.44l.94 2.06.94-2.06 2.06-.94-2.06-.94-.94-2.06-.94 2.06-2.06.94zm-11 1L8.5 8.5l.94-2.06 2.06-.94-2.06-.94L8.5 2.5l-.94 2.06-2.06.94zm10 10l.94 2.06.94-2.06 2.06-.94-2.06-.94-.94-2.06-.94 2.06-2.06.94z\"/><path d=\"M17.41 7.96l-1.37-1.37c-.4-.4-.92-.59-1.43-.59-.52 0-1.04.2-1.43.59L10.3 9.45l-7.72 7.72c-.78.78-.78 2.05 0 2.83L4 21.41c.39.39.9.59 1.41.59.51 0 1.02-.2 1.41-.59l7.78-7.78 2.81-2.81c.8-.78.8-2.07 0-2.86zM5.41 20L4 18.59l7.72-7.72 1.47 1.35L5.41 20z\"/>\n",
              "  </svg>\n",
              "      </button>\n",
              "      \n",
              "  <style>\n",
              "    .colab-df-container {\n",
              "      display:flex;\n",
              "      flex-wrap:wrap;\n",
              "      gap: 12px;\n",
              "    }\n",
              "\n",
              "    .colab-df-convert {\n",
              "      background-color: #E8F0FE;\n",
              "      border: none;\n",
              "      border-radius: 50%;\n",
              "      cursor: pointer;\n",
              "      display: none;\n",
              "      fill: #1967D2;\n",
              "      height: 32px;\n",
              "      padding: 0 0 0 0;\n",
              "      width: 32px;\n",
              "    }\n",
              "\n",
              "    .colab-df-convert:hover {\n",
              "      background-color: #E2EBFA;\n",
              "      box-shadow: 0px 1px 2px rgba(60, 64, 67, 0.3), 0px 1px 3px 1px rgba(60, 64, 67, 0.15);\n",
              "      fill: #174EA6;\n",
              "    }\n",
              "\n",
              "    [theme=dark] .colab-df-convert {\n",
              "      background-color: #3B4455;\n",
              "      fill: #D2E3FC;\n",
              "    }\n",
              "\n",
              "    [theme=dark] .colab-df-convert:hover {\n",
              "      background-color: #434B5C;\n",
              "      box-shadow: 0px 1px 3px 1px rgba(0, 0, 0, 0.15);\n",
              "      filter: drop-shadow(0px 1px 2px rgba(0, 0, 0, 0.3));\n",
              "      fill: #FFFFFF;\n",
              "    }\n",
              "  </style>\n",
              "\n",
              "      <script>\n",
              "        const buttonEl =\n",
              "          document.querySelector('#df-4ec3da5a-4ec2-4b37-af81-04341ede8212 button.colab-df-convert');\n",
              "        buttonEl.style.display =\n",
              "          google.colab.kernel.accessAllowed ? 'block' : 'none';\n",
              "\n",
              "        async function convertToInteractive(key) {\n",
              "          const element = document.querySelector('#df-4ec3da5a-4ec2-4b37-af81-04341ede8212');\n",
              "          const dataTable =\n",
              "            await google.colab.kernel.invokeFunction('convertToInteractive',\n",
              "                                                     [key], {});\n",
              "          if (!dataTable) return;\n",
              "\n",
              "          const docLinkHtml = 'Like what you see? Visit the ' +\n",
              "            '<a target=\"_blank\" href=https://colab.research.google.com/notebooks/data_table.ipynb>data table notebook</a>'\n",
              "            + ' to learn more about interactive tables.';\n",
              "          element.innerHTML = '';\n",
              "          dataTable['output_type'] = 'display_data';\n",
              "          await google.colab.output.renderOutput(dataTable, element);\n",
              "          const docLink = document.createElement('div');\n",
              "          docLink.innerHTML = docLinkHtml;\n",
              "          element.appendChild(docLink);\n",
              "        }\n",
              "      </script>\n",
              "    </div>\n",
              "  </div>\n",
              "  "
            ]
          },
          "metadata": {},
          "execution_count": 27
        }
      ]
    },
    {
      "cell_type": "code",
      "source": [
        "fig_3d = px.scatter_3d(pca_df_3d, x='PC1', y='PC2', z='PC3', color='diagnosis', template = 'plotly_white', title = 'PCA - 3 Components')\n",
        "fig_3d.show()"
      ],
      "metadata": {
        "colab": {
          "base_uri": "https://localhost:8080/",
          "height": 542
        },
        "id": "Xjn5oEise0Nc",
        "outputId": "78920263-7c98-432e-e962-1da932e1cd33"
      },
      "execution_count": null,
      "outputs": [
        {
          "output_type": "display_data",
          "data": {
            "text/html": [
              "<html>\n",
              "<head><meta charset=\"utf-8\" /></head>\n",
              "<body>\n",
              "    <div>            <script src=\"https://cdnjs.cloudflare.com/ajax/libs/mathjax/2.7.5/MathJax.js?config=TeX-AMS-MML_SVG\"></script><script type=\"text/javascript\">if (window.MathJax && window.MathJax.Hub && window.MathJax.Hub.Config) {window.MathJax.Hub.Config({SVG: {font: \"STIX-Web\"}});}</script>                <script type=\"text/javascript\">window.PlotlyConfig = {MathJaxConfig: 'local'};</script>\n",
              "        <script src=\"https://cdn.plot.ly/plotly-2.18.2.min.js\"></script>                <div id=\"870a8a4b-cf29-43cc-8dec-450503c9b0bc\" class=\"plotly-graph-div\" style=\"height:525px; width:100%;\"></div>            <script type=\"text/javascript\">                                    window.PLOTLYENV=window.PLOTLYENV || {};                                    if (document.getElementById(\"870a8a4b-cf29-43cc-8dec-450503c9b0bc\")) {                    Plotly.newPlot(                        \"870a8a4b-cf29-43cc-8dec-450503c9b0bc\",                        [{\"hovertemplate\":\"PC1=%{x}<br>PC2=%{y}<br>PC3=%{z}<br>diagnosis=%{marker.color}<extra></extra>\",\"legendgroup\":\"\",\"marker\":{\"color\":[0,0,0,0,0,0,0,0,0,0,0,0,0,0,0,0,0,0,0,1,1,1,0,0,0,0,0,0,0,0,0,0,0,0,0,0,0,1,0,0,0,0,0,0,0,0,1,0,1,1,1,1,1,0,0,1,0,0,1,1,1,1,0,1,0,0,1,1,1,1,0,1,0,0,1,0,1,0,0,1,1,1,0,0,1,0,0,0,1,1,1,0,1,1,0,0,1,1,1,0,0,1,1,1,1,0,1,1,0,1,1,1,1,1,1,1,1,0,0,0,1,0,0,1,1,1,0,0,1,0,1,0,0,1,0,0,1,1,0,1,1,0,1,1,1,1,0,1,1,1,1,1,1,1,1,1,0,1,1,1,1,0,0,1,0,1,1,0,0,1,1,0,0,1,1,1,1,0,1,1,0,0,0,1,0,1,0,1,1,1,0,1,1,0,0,1,0,0,0,0,1,0,0,0,1,0,1,0,1,1,0,1,0,0,0,0,1,1,0,0,1,1,1,0,1,1,1,1,1,0,0,1,1,0,1,1,0,0,1,0,1,1,1,1,0,1,1,1,1,1,0,1,0,0,0,0,0,0,0,0,0,0,0,0,0,0,1,1,1,1,1,1,0,1,0,1,1,0,1,1,0,1,0,0,1,1,1,1,1,1,1,1,1,1,1,1,1,0,1,1,0,1,0,1,1,1,1,1,1,1,1,1,1,1,1,1,1,0,1,1,1,0,1,0,1,1,1,1,0,0,0,1,1,1,1,0,1,0,1,0,1,1,1,0,1,1,1,1,1,1,1,0,0,0,1,1,1,1,1,1,1,1,1,1,1,0,0,1,0,0,0,1,0,0,1,1,1,1,1,0,1,1,1,1,1,0,1,1,1,0,1,1,0,0,1,1,1,1,1,1,0,1,1,1,1,1,1,1,0,1,1,1,1,1,0,1,1,0,1,1,1,1,1,1,1,1,1,1,1,1,0,1,0,0,1,0,1,1,1,1,1,0,1,1,0,1,0,1,1,0,1,0,1,1,1,1,1,1,1,1,0,0,1,1,1,1,1,1,0,1,1,1,1,1,1,1,1,1,1,0,1,1,1,1,1,1,1,0,1,0,1,1,0,1,1,1,1,1,0,0,1,0,1,0,1,1,1,1,1,0,1,1,0,1,0,1,0,0,1,1,1,0,1,1,1,1,1,1,1,1,1,1,1,0,1,0,0,1,1,1,1,1,1,1,1,1,1,1,1,1,1,1,1,1,1,1,1,1,1,1,1,1,0,0,0,0,0,0,1],\"coloraxis\":\"coloraxis\",\"symbol\":\"circle\"},\"mode\":\"markers\",\"name\":\"\",\"scene\":\"scene\",\"showlegend\":false,\"x\":[9.19283681996363,2.3878017901749176,5.733896280978674,7.1229531900845675,3.935302066947164,2.380247150015556,2.238883305929656,2.1432985012670036,3.174924293646612,6.351746791267272,-0.8104137719789333,2.6511004857357956,8.185034459046202,0.3421259116032009,4.342379195177962,4.075656179711653,0.23005501475053752,4.418010909718467,4.948703549737532,-1.2370633571772813,-1.5781612301838972,-3.557336379551365,4.733210784984107,4.208524212482335,4.949632076249026,7.098562849047783,3.510262599299457,3.0640538836437607,4.007264145693403,1.715309728335209,6.059445513244668,2.902236103020832,4.55478268933678,4.990602723647726,2.985340789715614,2.7663691610195893,1.2961987668184802,-3.7493134014863037,-0.9980688974721083,0.7652641100409523,-2.1509534701595947,-0.09333138406651409,9.087999691035494,0.9904537636748931,-0.29354655161532955,5.380940410445455,-4.581936675577235,1.7000068855740869,-2.1364452714295616,-1.5674789979635666,-3.5429055604228177,-3.157814054888935,-3.450488549977384,3.3025509563564763,-0.6746192856563987,-2.858158443111311,4.6487388767555915,2.1768628824305143,-3.721458990572694,-4.135962949310483,-2.385835659759124,-2.5788832401970208,4.7591121582642755,-2.314132255615142,1.6916079260665455,1.8123054057030923,-2.7859247570488237,-3.518648345898038,4.330002644580695,-3.2612794736358195,2.704596170810788,-0.30785576298712425,5.503705327302262,-0.3617091946544163,-2.62997663471092,1.4281675940158338,-0.8345178716165405,6.230896518801029,11.668714634025186,-2.0215776528699383,-1.6383849351460782,1.1674616118442407,10.769242812331244,5.0348110872757585,-2.1744643011845453,3.2882353820772754,0.6076079488694208,3.5835636204194605,-0.9341581074717785,1.2596046572102404,-1.5882639703439692,0.25249755588504014,-2.847431588726314,-1.9649501049244729,2.775865567358291,4.3962279589348245,-2.5920828306033976,-3.9043381522210465,-2.818231218623005,0.6162808703882598,-0.4328602222028883,-4.555028841035542,-3.4481835427126253,-2.115960261722494,-2.6913522004468113,3.213916760449644,-0.7492713496737643,-3.159006037947008,13.056121868821782,-2.228679817635919,-2.492831039571795,-0.10335043457699199,3.5912941063669965,-1.348948685446057,-2.510117678670352,-2.0460295649420503,-2.0970691725476187,3.110527694812416,4.956725566182164,0.8510142604977687,-2.965999202748881,3.3341331972266155,12.89461214818225,-0.7707436782254028,-2.202515524391844,-3.143412243152865,-0.6388804988339125,1.9191334299678893,1.4088683674442224,4.643691313713055,-1.8774673569308953,1.4320694278358543,1.3526270328823036,-0.7091148317249967,2.171416018955803,-1.9768403573209339,-2.6007894977724075,-3.2580073557489326,3.7820264509173516,-1.992034711868042,-5.015008689754678,1.3450204370320802,-2.4559688046013326,-1.8372816718801777,-4.3464897106749465,-0.7328129109260683,2.39999783426609,0.39309866708682617,-0.4123278130792505,-3.049924938035398,-1.4425637251201384,0.08318609898777711,7.093306714238273,-3.7434045440037726,-0.9691728162371381,-2.418719909680403,4.100787735084713,-0.7516029980051913,-3.6546465264026,-4.680211578451804,-0.5977817640606091,3.3873307589474093,6.149886186393748,-1.3250313460531715,5.494152793262749,-2.997403204136485,-4.38673272276591,1.2136346139724858,5.069661080219602,-1.9777014321369346,-2.514876417035547,-0.9474878907838579,2.8193683375163654,-3.4839863059108187,-4.658729577041034,-5.351618121448811,1.1708977850690405,2.956301865356271,-4.975702066614843,-4.064025662333354,9.512669838959438,9.007165519566609,0.7588784935812728,-2.6593596141709663,-0.3900189837599262,-3.8890655244092067,0.36487615115751976,-2.835890923715952,-3.310283615509067,-3.3573043982851645,6.523116652234576,-1.7177351809690997,-5.5657359070196675,1.7796614925797614,2.6114848903946015,-2.819038509848328,2.4984388760997818,1.277027184062358,3.473197351346647,1.2566751090500934,-1.4734313658513862,1.649460696235808,9.03658947355802,4.55459007406147,-0.7811899664760468,-0.2230926068782193,-3.45489538223698,0.44654439944241653,0.3144382215905366,-2.0591919433723107,4.808969244350953,-2.9987105263283302,12.285019755059636,3.3721965954289512,2.5087663076845463,1.3180684775739613,-0.3887562920612524,-2.756932988969679,4.943581019933898,4.2980773357605795,-2.3735018007017543,-0.9671903067487125,-2.975798789429707,1.8032470240652725,-2.478359513653268,-0.8260392871526542,-3.8946973256459687,-0.38957808639484653,-1.457321359368314,2.7555679983056183,3.257254669109105,-4.019140240347414,-3.6764132963375102,3.316324109544428,-4.036607371395666,-2.334233347326401,8.403847105602331,2.6475686378699432,-0.6817688687033631,3.3502957868189363,-2.2277205182535633,-4.477584657682812,1.3226214203984852,-1.8500898564028097,3.795565641304542,-2.28131810421751,-3.228770119056366,1.0259007925884016,-2.5825558360089076,-2.485883223917768,7.14384203504764,-3.032481141822422,7.085010646754913,1.3140990029556474,3.7116495162975296,0.46047909739082543,6.392649920119684,5.255544948221422,8.733861488616403,3.69131787897232,3.3782508741321773,-0.8402096482321878,3.2843726346197366,-1.9087689262847458,1.6147819274576172,6.619726350312807,-1.464675932581519,-2.0121524269539974,-2.284340242380925,-0.7397430785620792,-4.506562515555918,-3.158754302584716,7.67614947502466,-3.639135969676227,0.33734549418614856,-1.2765833780356075,-4.346014048438783,0.017430789972390847,-3.4924260366997104,-1.866548849247622,4.960268115124177,-2.470722694429523,3.7850601034148763,2.6372557739545672,-1.37268502551359,-4.138882573416554,-0.6869402900275844,-4.312129587129099,0.40330942709418593,-3.0036057968381193,3.134008226958275,-0.4178368651619637,-1.4202231378783459,-2.8705883451980627,-3.3658457013460112,-3.315000153720377,-4.769710163512489,-2.3858827597261527,-2.7870960113814514,-3.3938417808924877,6.590235942569447,-1.4553305195865271,7.182933093884152,-3.5788354054316587,-3.0570326408647097,-3.0744358330503925,-3.8535397302387038,-5.390256409810662,-4.657682334354135,-4.027542386236229,-3.34782194219302,-3.299842010699139,-2.1364041397969804,-4.038017140354303,-3.765414563879832,-4.8712393848383115,-4.7472485193389415,1.8953162760566682,1.5729311278178342,-4.026620259521156,-1.2948661699366333,1.834840463190786,-1.8103805513967202,7.236485306651959,-3.145650186776311,-2.8872680546671043,-3.1496539796694765,-4.628379488466871,2.250510376919415,2.1078012276606395,1.785949981913249,-0.5276966161873247,-3.2135009776434904,-4.386422965592596,-3.810017871575571,3.31967397074866,-2.393275968945192,4.680166268473676,-3.0676951364229867,7.353218573396183,0.2953131858738451,-1.9389695009595516,-2.0771789265563623,4.9751623565244,-2.1769168788583246,-2.4315514542274856,-3.36796577969597,-1.206597793843495,-3.3260792536568524,-1.9287953903063513,-4.041835095692149,6.18228373492244,10.934298156116316,2.1184969260889828,-3.012194972591273,-0.9826485848374185,0.35789386739982576,-3.193917865394089,-2.993233310163641,-3.193914155799611,-4.591961854326881,-2.485916148806019,-2.3986653428182936,-0.7796151945403326,-3.13998842417029,2.735011770544655,6.227025984998365,-2.2237757432502865,5.307140028684039,7.248001053837053,4.2072206159833785,-2.499636373731732,3.6350149401296314,3.5192482748936573,-2.614948304299694,-0.09610812065756588,2.0448569241561425,-3.066749529986106,-1.6035864379973745,3.7659321582140577,-0.9255666006030066,-3.288349595495609,-1.5548521588433597,-0.3987799093618435,-2.300567817422591,-0.5429013666300377,-2.058819456885279,-3.424518056186722,-0.47240654704394236,4.703500728417915,-3.643380237893076,-3.5946893390673664,4.149097340043305,7.672141548329438,-2.0103794081151585,-2.9208334968110985,-0.5007377971905562,-1.9114985738331824,-3.7850992307259834,-2.7083939615763373,6.289673464706571,-3.4307706837259517,-2.0013884612154538,-2.4732930918214406,-3.6472577521658733,-2.3461868538026645,-1.1429969260618722,-1.350857298441486,2.7633707878746216,-1.969323597616343,-2.931187051357912,-2.92637438227316,-3.9961882825737005,0.15513806118173365,-0.9340908099854739,-1.9296217238648454,-2.622338600091912,6.003616592635228,-2.9218778074773124,-3.341944801499829,-2.0149150329675862,1.9884621054597718,-1.6696039286982154,-0.37117811492458536,-1.8489599297844637,-4.703042208640707,-1.283187147260329,-2.3142468146097,-4.659085184403277,-3.943473383747187,4.949858455554734,-0.9158035178970195,4.549111140550021,4.442342823107213,-2.194984297953097,0.6644409113771896,-2.240876054659928,-2.12518043935955,-2.615317409255924,-3.2109679787029353,-0.3067503982319223,2.472356923524451,-3.4547183709230436,-3.9005268461966276,0.9817275385019952,-1.257251579053828,3.2454136440407724,-1.557219410671007,-1.2492580961996225,4.33165334111779,-1.077451330881603,2.511753100089425,-2.217092304941783,-1.1738306478185283,-2.836301445103291,-1.8570859008627754,-1.3286143715860657,-2.8027713545109054,-3.17456879379387,-4.08707736441138,3.4754937470177105,16.31923324075264,-2.560115019273525,-2.968888796021415,-2.7574304533566454,1.370339885099911,-0.41766449268576183,-3.83839862762338,5.9309648567629525,0.6454786461295084,-2.6838464001297715,-2.041664050053404,-1.3992963504529916,-3.5364152974382055,-1.9905294412200478,-1.9981853655094066,-0.5206581078242807,-3.172370489140802,-2.202710184579083,3.824433041482037,-2.985484688398275,-2.4810551072821343,-1.2721114635048267,-2.235156887537793,-0.05618310487076154,2.3173906101369757,-2.2843312556143283,4.754614869575137,-1.7263109157801002,-0.7417817625767226,-2.8943106607392446,-1.6545218471832102,3.103519703689242,-4.064270606366904,-2.7933306574091072,-1.4749199385422436,-0.22939463861022952,-2.5532584071503166,3.7157050999541794,5.094841840355307,-0.6006161199987384,2.7903998316050376,-1.4087712129445802,7.259178841128469,1.2988665544763733,1.0766932614773372,-1.2497605226604849,-1.2569284126148528,-1.1665352165031682,4.09414255819417,-1.887639247981854,-2.767435701982993,2.2269944794739622,-1.131576885312097,-0.7337724514150588,-2.333670734898214,2.6972237547640354,3.379014666918026,-0.19987057755532694,-1.176025907738362,-1.292636537624122,8.630755849317353,-4.429456374462571,-0.6198387432463272,-3.2523157720346947,-3.3529270553287014,-0.8598029801248348,-3.1566219660121786,0.34652812184182236,-2.4614066507625916,-1.530100722048205,-1.773585059890833,-2.6804416236362933,4.028435263538716,-2.136351223864363,5.165410941258331,0.5359319527120195,0.34312338879481785,-4.197080000513078,-1.1428318643555626,-1.6654751480193752,1.0117125006886187,-1.3009297154157813,-2.3734287266797693,-1.6658710124310834,-1.9276781873142868,-4.2372166158427635,-2.6778707234105252,-3.836497856530511,-2.5514402958842877,-4.694923451633617,-2.0250371605278477,-2.8959482085431056,-3.502201049761921,-2.153903668933222,-2.0550840706792464,-3.8772895771473204,-4.063862118180106,-0.09866733014702085,-1.0893761923040326,-0.4817709641667579,-4.870309518422541,5.917612579613649,8.741338064257944,6.439315479812238,3.7933823703003418,1.2561792786994235,10.37479406075622,-5.475243316743446],\"y\":[1.948582064571569,-3.768172428866602,-1.0751737368298389,10.275587989396268,-1.9480725522098508,3.9499288181125065,-2.6900315649386366,2.3402442282105524,3.3918129121862073,7.72717440764104,-2.6592756559947017,0.06656916185754849,2.700976776970508,-0.9682795855381656,4.861083371646472,2.9770618897006815,-1.5647579124508446,1.4186694139773581,-4.114333591516103,-0.1882150291618927,0.5728089537867265,1.6629490832164224,3.304963252136195,-5.128365909480952,-1.5437519236558597,2.018609361189738,2.1716243778960496,-1.8765526632497729,0.5372424023956229,-1.5237047606763963,-0.7571775869555352,4.005295345895501,0.3375360729425577,-1.1325885903452766,0.758423362263069,-0.35435555730938545,0.9131965165302001,-1.4134738546006635,-3.3512923539227817,0.8862431644176827,-1.9239915524028837,2.2607522875097974,2.018675184569599,0.984929722605289,-0.13709929586232064,-0.13487647061924,1.4842197564328157,2.352271552284658,0.09583044395681548,-1.2084333652105737,-1.2824960106899468,-1.6889592813244694,-0.49821963956951915,-1.1309372235547608,-2.1164097178117642,0.15272265585417663,-2.310331865458899,0.9721160167518318,-1.7876413067909764,2.403791688421345,2.7576587093267233,3.1386737083636693,3.011681150627686,3.267988809305753,1.5406769242304115,0.7227401925505402,2.3106486532709862,-0.6583104659264193,9.202525315965218,-0.9378382635366321,-4.437142020631016,7.387812955017981,0.938327281264176,0.11973884215078198,-0.6973088216958911,-1.967101276772306,1.965606236499356,0.9200704981376024,4.748615225218904,-0.2548990109467929,1.7159495072473239,2.514515915739613,-2.2579839227110674,0.7744091803978058,0.4968792022253586,-1.6682374455998865,0.1622150750894605,-2.2066626721777767,0.927701007702282,1.0155784825292486,-1.619656528647305,-0.5313532500630781,-2.893647957084472,-0.9651558161336228,0.5580002072787765,-2.1235070731330254,0.2136336345192913,1.190066318451857,0.36788314979814457,0.6389117483137771,-1.3920445731724955,3.528785986621056,-1.4246227411025385,1.8493738929869323,1.4200624936989301,4.046755498174132,1.7976394893494854,-1.0357495633623333,0.9815146797427801,0.6674100147091605,2.5986857263252565,2.2801423775946246,3.9263312509335755,3.556224838183769,3.251319099594041,0.30488596150969505,3.6670955173468434,1.5693897030143678,2.3848457086750763,-2.306735741742393,0.3715069920910428,-1.325557438940218,2.31662432667241,-0.06410931378081988,-0.7356053555110229,-1.8774085933379236,-0.9113658670029141,-3.538081208381181,1.3049299660292113,-1.4820176615558565,1.4232316187204515,-1.0496038856164647,-1.1541403796970333,-1.5682323589602452,-2.8262606115100377,-0.4193877685346436,-0.4823345649278416,-0.4183209419366343,0.8603809380372877,1.329356636905655,0.5746999842333358,-1.2747710113536972,0.8984562209731173,-0.09102714078480288,-0.8935721175262784,3.7021832207320005,4.837987438576739,1.0830685184556297,-0.38963137096632766,-2.237784154793816,0.30587155834576346,7.1503593076851395,12.57319419529385,0.25050138980649517,0.9449439760419096,0.005552193929273272,-0.3788026523817522,-3.0706474633204177,-0.6746485123249172,-1.1038577287462354,1.7856512319301265,-2.911037940901281,-2.0176533400720746,1.469294208898579,-4.165829835549794,-2.7388606163737457,0.00687202528229398,-2.0390387094767233,-1.7851526114422833,-1.8427783007788126,0.114252551278245,-1.6847534491375744,1.2651022028214627,1.6196909176700949,-0.22291462566424258,1.0267568805368918,7.014487365614718,0.7064215316264036,-3.3862055646941718,-1.2461666626254517,-5.60348497076765,0.581030149953635,-1.6085313295342805,0.5399359770901347,-0.9892426464165216,0.8160720559575271,-3.5744613484778847,-0.39873054995312784,0.15574194066327074,-1.1037318343814904,8.011174299933021,-0.5431662149348073,-0.47784863476465284,2.776587702700748,1.561421249048056,-0.9701106436566433,2.2784826477836284,-2.4432576906279655,-2.277847573737131,0.3823927380648443,0.11689069636449997,-2.102291103449631,-0.6551738299022433,3.086640428351654,0.6528493076372546,-0.7018214912371439,1.3069392450365835,-2.787707327389092,2.077560087747274,-2.472787887424228,-3.0291029803830387,-0.3967777634872086,-7.543411032923388,2.5878261684289567,2.6146478686448,2.154479694915698,2.276798889921853,1.0868350419521202,-2.848323593139486,-4.66627420786076,-0.7334023194761394,0.43843890059603724,1.810973581543188,0.16646148102496702,-1.4185766628006082,-1.2502467041966354,0.5385711438639907,-0.6144148642472524,-0.20172713860421207,3.4657731902526643,-0.12520121915317117,-1.354247389098971,-1.291629581110132,-3.93915277094736,1.1625446194802918,-1.3489792740897109,-4.153905758383852,-3.9511721306605327,-1.1359915794828328,-2.1545706370925464,-1.2149996287376668,-1.7411296971470347,4.789476917864095,-1.5841276180865607,-1.0262327165497662,2.077685233694955,-1.172073607123935,2.361262691677717,0.7292132506441406,0.46059661292122933,-2.074842851106389,-0.6494689677668833,0.5282230099840972,-1.7754260189221391,-2.8074768370281844,0.394167244370619,-1.823094209164355,3.8945306035032834,3.279875211178902,1.0656458542941984,-3.3712276860202244,-3.5000841152135846,-0.9906711066398036,-3.1219455484557024,-2.474573056927255,-6.003275735793251,1.6866319602519693,-1.1034862969736372,0.009495059991553437,3.1525216350242746,-3.169273299839713,0.41030158193343574,-3.0753057160731396,1.5895866656502282,-3.144373168982782,0.8490530700110486,-0.32197717647446705,-3.4593434854512863,-2.634082302195932,-0.9020635517839031,-1.3411234113499597,-0.13802756927508833,-1.9019073750734037,0.5771545015543302,0.005805221829146552,-1.3765082114892182,1.6950097539584137,-1.9784868108594065,3.72343488269594,0.3541599846071814,4.273462293142054,-0.8085763484260117,1.393977688141733,-0.2686442046662927,-0.8076001704586986,-1.4421760453192793,-0.5429624352415829,-0.8241157621852189,-2.5330342715981424,0.7539627140486971,-1.4848624884492765,0.5919426269951257,0.05514492999858101,0.8915827158238729,-0.17921325656669213,-0.30605867363639144,-1.524725934322448,0.5562531586613737,-3.065387431305833,-2.5429067893157082,-0.0685631303115902,-3.1387092895850754,-0.004392485593365269,-0.24069786837452117,4.398199026926849,-2.3392150037224635,-1.7984023693951467,-2.3922380308916833,6.509097565057063,-1.4022074331364904,3.470808614102152,-4.321523525668724,0.3962084134802489,-0.03570309160249191,-0.7425262800130283,-0.46473107635870975,-1.7712477937749187,-1.8356191521553176,-0.3485355615051699,1.1219738844388674,-0.26922141257623083,1.2658718262253728,1.1034436224694661,-0.7611035932687368,-0.9099187985911835,-1.5770530311455586,0.9900302229907287,-0.9685919010844504,1.1358381526893928,-5.242623370232477,0.226935499561865,2.5449875732085,1.8065187470798891,-1.3325725246072373,0.9589114034024557,3.447204011291391,-0.5629290360336465,-1.317044823882102,0.4751708213341062,1.4614716858165826,-1.356918358757594,5.1080044197664725,-3.703254462449982,0.29662824530047,0.24375960845155553,0.7972518841616838,2.1278393276515506,-1.84915205826839,1.631390881715432,0.5793386765368893,-2.7611272521346297,-1.1889385907691035,-0.25074424412657803,-2.1243426427437737,-1.4880219307844549,-3.945168302665827,-1.390110234000777,-0.35716040288771167,-6.723413902363532,-3.655470313928791,1.1762423606738046,-2.018535508076934,-1.956441897306742,-3.858607126037547,-1.1024740270462645,-0.1298480890004165,6.426818394773415,-2.1820960698963816,0.2925969742259146,5.985295993147891,2.3024817407770457,0.20131109820846402,0.9798563231628297,2.1612139489795372,-0.9320770581774993,-1.3170683641839622,0.3204349620654979,-2.445518512079754,3.7028301107999617,-0.19595612064236378,0.7868599935911231,2.605087841732986,0.7674884906840597,-0.8604848312276645,0.429690376179236,-1.7004727556167665,0.10673188277920331,-0.6513937853994713,-0.3261468164077741,-0.2196647883753519,2.036546686178806,-0.9926090029189554,-0.2933257078565085,-0.3350466644326821,-1.241365942881264,0.6827409022745276,-1.9621713751329952,0.3695745651326868,-1.078633274959407,-0.17584750264723858,-0.49485575796496645,0.37733277712426694,0.9598553068145048,-0.4380079406634343,-2.10594550196217,0.8924676513267296,2.502101882389653,-0.09102900501845626,-0.009213138202233335,-0.022224376883449165,0.7784522542027785,2.316048148037036,0.8623190996963253,0.113612429090539,2.541229731194179,-0.4323033979649754,2.5509098864174993,0.4020321670139577,-0.7822999503677628,-2.0300166061380063,3.006063240136327,2.4790134480521733,-0.8160014539955815,-0.9924381196330522,-1.8053527823254762,0.4368603117825631,-0.4545896466413318,-1.1947972664938127,-1.8320601460628236,-2.235143150715222,2.1849988797333086,-1.4998237539479315,-2.1364613188415964,0.7307762570925912,-2.210430395727831,1.0676903718566029,-1.778359349503473,-1.0379267866340736,-1.588838698833341,-4.049332928512493,1.8036179504565424,-2.5288078713720323,0.02989133612675175,-0.4748397177316926,-1.0181259684097466,-1.5713934481343241,0.7770959098335297,-1.6663013266796622,-2.075733220722383,-0.4847106635585346,-1.6728845003217696,-7.775851400655984,-2.494045609599446,-0.06884725036650803,-1.793919186643921,2.110012843512791,0.11651966917967489,0.8991779213847135,1.228296206264505,3.4260112586444884,1.4435556376241372,-0.9032556669886574,-1.77222625006582,-1.2468543989104077,1.899463429637058,-0.20637090903616143,-0.9733671102860588,-2.0890523979472415,1.286040025877902,2.3052360911890495,-0.6733389433164699,-2.3639587587936055,0.5098334943714251,-1.298704382891318,-0.22738343325392887,4.389134986960689,-2.4668400163862367,-1.4894238095647487,0.9981781231990005,-2.452034318459809,-0.977944326338232,-4.555664276809929,-1.2361531912264205,-0.5609554771316185,-1.0778881032784156,-1.5910943575138865,1.515903180337815,-0.7639004643240366,-1.0586866626593254,-2.019208318238148,-0.8384555571970778,3.3855610913707443,1.5057708835600931,-5.495735538535476,7.729853786433862,8.294773420977828,1.5956842978464043,4.1171857189338095,-1.6656939616982587,2.8029273733653928,1.6721907445931388,-2.1610486446864576,1.9416332977303172,-1.4110011945567187,-1.9436970410843968,0.7901469087939915,-1.943709941628854,-2.333428946020655,1.07636044424824,1.0113710543247363,4.964225107222172,-3.4594532561396454,-0.786036527481948,0.6363489197271761,1.2859246118669732,2.673300319101552,0.09684937484823593,-0.8715423319679878,1.5412266262232268,0.6008480455773609,0.40521770173495714,0.8042109214682455,-1.484708809867473,-2.941429738947365,1.5185813332409464,-2.3822043038261405,0.38071556068937,3.5344819832624204,2.3673901235739194,5.599458579306964,2.389618949822164,1.0923903918118216,-1.8214157703301241,-1.6815765084140566,-0.21396269840350732,-1.137739162088545,0.18427280626671882,2.315792387599557,0.49624918725333966,0.22832998384913733,-0.7674789057869985,1.2612424187833253,-1.4516362050520126,1.8008312026177642,-0.8300690623864461,1.616458839068691,1.0842551367716136,0.12216787089729306,-0.21355941061200526,1.292847521547209,-0.17801959156350394,-2.1311062094248814,3.4826353047385856,-0.5738565902564751,-3.57681815912507,-3.5840478008503824,-1.9022963016848216,1.672010237256411,-0.6706390767029319],\"z\":[-1.1231648741058875,-0.5292919328786053,-0.5517475542974184,-3.232788105259303,1.3897679521840631,-2.934876685371479,-1.6399125856043093,-0.871947636060868,-3.1199857643755227,-4.341916323091494,-0.48882960993268526,-1.5264568687178692,5.73023035666986,1.7171719750045389,-2.8161155746746482,-3.12527510690039,-0.802518895627194,-2.2703178858870423,-0.3147490965903208,-0.5932833595138284,-1.8014477406508596,0.45118841766103185,-1.4665361012493976,-0.752402892597372,-1.7131944601391038,-0.029008336733039885,-3.8945454573018106,2.5817480586453345,-2.7616259237113177,0.1461867568827655,-0.3492391555071349,-3.0014624058849555,-0.7543005727854097,-2.5773847017418836,-3.4937619120495964,-1.896963414138737,-1.5757689588757051,1.7323086630523432,4.305573005560321,-2.704917287790071,-1.1804842276504677,-1.9047267325481543,2.141223615673413,-2.3107332747538543,-3.3019315771041207,-1.678843186761988,0.04207538184223732,-3.0780887266445545,-1.4924129120510783,-0.3691588759677574,1.0182114698121767,-0.4962928551762315,-0.15251681216409316,0.8263920113931247,-1.3962197454958234,0.42893556623940127,-0.728809813915108,-1.9438882686341008,1.2799323677494352,-1.2429573837409875,1.2140848352126334,1.4002778938472045,-0.16624153110567097,2.796225305755955,-1.799845639976999,-1.466249474779266,0.47272538966774375,0.5913762931573984,1.4929630325162357,0.20513021422944103,0.3073456559579264,3.8190852660416934,-2.2101340976194215,-2.040955523793497,-0.5839423130036866,1.1119387019648908,0.7904308676539605,0.08982616036817824,2.005881457479953,-0.6478730517596922,0.43420569920065966,-1.905718798305191,0.038837097505780356,2.6823382441870542,-0.949093325463078,0.14693230978684757,1.6373741659242718,-1.7045345787128607,-0.04016302956417608,-0.08059459831312508,0.3099988139172114,0.5893299712323254,0.5279893251805666,-0.08120957584686195,-0.6057707888423844,0.5795091785849797,1.035611787533047,1.5519815690039156,-1.3514345445842015,-0.19991896152693037,-0.08271909743776996,-0.21526396174524284,-0.088723581369182,-0.5566742708618833,0.9691497478994935,-2.715383531295973,-0.5683670080025457,-1.4906839341573168,0.598810884903785,-1.0915595194909955,1.669726201292384,2.1095641957097055,2.047009199999509,1.7321914848194726,-1.6876239071900878,-0.5338400561888066,3.6322008183758365,-2.613936238628995,-1.9351064885558513,0.5674624381591294,-2.0665337256477634,0.7280137517784199,6.328694888213424,-1.1344086870129708,0.267080295326171,-0.6703696506327957,-2.142724361342781,1.2549229857950803,0.6414281038064897,-1.1706798746320584,-1.070813407289926,-1.2620113297424507,-1.2097946432556879,-0.6699940129008983,-0.5621076569690976,-0.3805747283286466,1.8723715674204213,-0.6918061416162258,3.6710014586944393,1.1352427262147882,-0.8424381286390856,0.5558435536819067,0.35313229059177864,-1.445280367628811,0.6392559042914882,0.6585039139427405,-1.0281552275393684,2.247604955304775,-1.0457703276462018,-0.46945346179901004,0.5515463252397431,-0.060009359096510215,7.358708123796837,-0.09738308641225406,-0.8908108030569967,-0.7983801101987319,1.4463161319105897,1.4491800927299916,-0.9069862305588522,-0.2573074724905031,1.481735517726314,3.007238802334996,-1.566142977210898,0.8484211161277831,-0.6012601946482892,-0.16118431812111972,-0.9481078911830185,0.9806958786289693,1.1736474582572072,-0.27736117998679694,-0.49662306851443316,-0.35118644542311434,-2.1531430502837043,2.675470637753613,1.5593583702584024,0.3249871670039893,4.271861122384165,-1.0423349774830286,0.4398393226115135,0.5744784051717526,-0.6372383894822605,-3.1347141047989586,-1.5150972524762036,1.7070144797191393,-2.5851689638566184,1.0157168676293022,-2.2239783651511695,-0.3474439772264382,0.5414780356136928,0.15208910311479137,-0.3264295287217552,3.2983760923994385,4.127463987323286,-0.94276353086283,-0.21818633796682724,-0.382591302707346,1.3194787807575776,2.4663154144897756,-1.2386858347123029,-3.838319663685215,-0.2146683589682218,-0.9752714812660657,0.22128138819376747,-2.2704058250009704,-0.6436570547265399,-2.27076204445528,-0.029265141293090557,0.44438176938553453,-2.083311076828533,-1.4617187108678262,2.744018660306436,-0.5964662461944713,10.11242515703387,7.092073760661809,0.20638113409068243,-1.7866328536185891,0.6273308274370836,1.7072376834213552,0.913877659453117,-0.00684232993949456,-1.526027840109801,-1.4476971789330788,-0.22343503828286823,-2.628600228621911,-0.3165329426967705,0.2679597521760236,-0.8815592332195129,-1.352870047884748,-1.0988782465926439,-2.474050314177657,-2.896096438266678,-0.36047266217438695,0.4246110132435949,-0.20545309597325032,0.18974978480245394,0.23268642377631846,0.04697015555826585,1.3718801942819443,1.2336670629585473,-1.10894291499959,-0.19241381625253795,-0.8882066232440992,-0.662535633269549,1.2639165780012411,0.8986357344074004,2.430649962560396,0.26466451143929237,-1.616886561746093,-0.5481428986505507,-0.5989205746127415,1.088388140064283,0.3106828828395079,-1.2799869490685643,-1.6726314432173108,-1.756194022254691,-1.0046997397005106,0.4798497520700025,-0.8338528290726624,2.9037021804518632,-3.515588711430475,-1.7667779923690183,0.18248242584358096,2.554383815860814,-1.0630564282724875,-1.9911351236823231,0.9893767194850537,1.1699056753093977,1.3380237183343624,-0.45044131933431886,1.4698565619290627,-0.18806069133587924,-1.1088168920740176,1.4819585628451732,0.7162803275575976,-0.11572188759318637,3.070068075329201,0.38847357291855467,0.30692103735785947,-0.07218777978868762,-0.8711695190007624,-1.4570528920381811,1.7948868852855935,-1.744241932994953,-1.9946992008077753,1.549289483672093,0.8780485229765606,1.0262127463487225,-0.25130560129843643,4.5864678647883315,1.2340153097252025,5.866276496570368,-1.0932917200474643,-0.8369862699830874,-0.46898755723029406,-0.8070800054973785,-0.5836328452288013,0.8938687534791214,1.9839637000378825,-0.8840340813087109,1.771795005276423,0.36133984432096505,1.1463406831341763,2.012919237648789,0.2614877437143903,0.6217732935388022,1.2592539821310382,-1.144510295463678,0.5600730016809745,-0.07600911040219342,0.35321681208270894,-0.270193182960631,0.14889223768596754,-0.055139407330413066,-1.328126976200597,3.9502095912776247,-0.16829453830275054,0.16972066034282002,-1.6764912616115506,2.1671610421439205,3.1865010942770944,1.109528061847263,0.3166860256329057,-1.2303355119987676,-2.8410648966645797,-0.8623518436274695,-0.47574403761536305,-0.035834433544908895,0.06423195977219744,-1.064751322601256,1.7751583432209144,-1.7225156024566726,-0.9204413990634108,1.6119805129233986,-0.4005975962700065,0.443167981000512,1.3607287808338238,-0.7575093546653385,-0.2912737212363419,0.37462184223177075,0.31695610765061555,-1.0894172430869318,-1.001422887808007,-1.167078492996354,0.8709780613445779,-0.23426509631281245,3.456944626753764,-0.19257345959708977,-0.9307402093905283,-0.8982847351607515,-0.10064499523563737,0.5383428374207304,0.5211419395357627,-0.8916935731340734,0.8674864078110944,1.9837335078202132,2.3694217774187614,0.7082081887605637,0.09939832962194431,2.556719552282209,0.48976514096486423,0.9805428426671798,0.3487757848842298,-0.32713851681425427,0.32078789096311977,-1.198878762191525,-0.017169473556055356,2.7342378680639228,-1.1016826892654226,1.4856634119637888,-0.1557004575783919,-1.5900174632924624,-0.7312747806914214,-0.8287738551086371,-1.0225290454070617,-1.240736547948371,-1.6714635442526646,1.2741229968370076,-0.2790621868289984,-1.5862263229997697,-4.880361952405529,-1.5961121840930719,-0.6277559553924582,1.1965616294621733,-0.9456066411438798,-1.129953882138206,0.9957551828153001,-0.12245815867966835,0.045048826088684615,1.953784060556984,3.757033307246222,-1.1621458515480607,1.8520288436309236,-0.887974280033966,-2.153649239588497,-0.10408983067260132,0.29572760133168746,-1.02874844204192,1.4502884293929852,-1.0580796208741623,-0.3145059327445401,-3.1820813616393404,-0.7316958253241506,0.6192029512499732,-1.4823624900205927,1.3866255326491277,1.1327343968270656,-1.240719890006676,2.4866748735665105,-1.1796242350916224,0.42073019403005596,-1.0170713512900418,-0.8867944535895609,0.20440514132304183,-0.46144609611605686,1.4329168945350164,0.042343535478518574,2.434999130907821,1.7112013297890123,-0.9013028667023516,0.5033007554039708,0.12557858352709125,1.236303716162298,-1.0103064458348703,-0.9983632631576151,2.005347416765388,0.0053063166850361825,-0.08386112655529249,0.274622335263071,0.1921234409047795,0.6917361396851784,-1.754070558166357,0.3626061998979423,-0.518753812342642,1.4423180758716587,-0.435109976939857,-2.680781140526101,-0.4655274424920821,0.4903724215133053,0.7643291898906511,-0.16622386328303665,0.03928620418809713,0.5914519793299677,0.19716231696879558,2.136070704699493,-1.6999187047497555,0.25947668224369635,-1.7931527797617948,-1.3012455249779857,-0.3264135808534872,-0.1925048749645047,1.7810419723863955,0.7982026545419626,0.636460112615735,-0.4815705904600971,-1.4866297527914127,0.8264831869712358,1.2567578786631033,-0.19401867322216063,0.07489981307819756,0.6313648152231212,0.8568268871919781,6.235413915342253,0.17031278720140267,-0.7784113232542181,-0.7578135016845183,-0.8537222000147611,-0.5361425489584022,0.7005649020033556,1.721588406231715,0.6082851205021867,0.33940336925044173,2.843241085017136,-1.4795616074722082,3.3854113856577697,-2.0309992524702545,-1.6413253422764158,-0.3241363008512965,-0.9788056316503903,-0.8874001439588873,0.02754649463296267,-0.590490278334394,-0.43261458167399336,-2.238991206254264,-0.9014370624014106,-2.255515616534785,1.7784102349070583,-0.8211893955643532,-1.2537507198682025,-0.08023878820311131,-1.9977107912180831,-0.8056441901920518,0.752323228597967,1.2873550017981823,2.1766863558076133,0.8445420602182219,0.3199916675430827,-2.216282697765654,-1.6094030990800476,0.5219540548526861,-0.7093690988052684,-0.6870409053444891,-0.7530767006816552,-0.3538964414176072,1.9109255035221495,-0.6889160244455189,0.43419496173761135,-1.3564752469148271,-0.41272860247029514,-0.7378777587542166,-0.5074335386206352,0.11979888986302006,-0.02109637046510989,-2.285601640211588,-0.5650540876225516,-0.2752364021523691,-0.3500437880917663,-0.9605644095516914,-1.2019322825270455,-0.6731494525467583,-0.7117694780401101,0.34592636574631097,-0.1790551867456998,-0.47341847264348574,-0.48885084754154684,-0.21847575693180396,-1.7790866903541598,-2.8140457753178776,-2.195715060578594,2.846452211208715,-1.1714652738578926,0.6044648536434947,-2.027919170834843,-1.7416935373732076,1.659484957517832,0.17896437604591664,-0.4222759015304836,-0.44313523411936023,0.0696675763901949,1.3271474975780617,1.3010368475565974,1.502248343380639,-0.6326993111364899,0.3733080559640947,0.384528504763172,-0.14807258590048353,0.47820134895674865,-0.32641879673503654,-0.05384757168325812,0.9232406542248546,1.4141779470895617,1.54396605377765,0.5049254648420541,0.7805465614710356,2.76645819823159,0.5647970589571765,1.8389600442228065,1.8599433534480383,3.238773373890552,0.38892888315117735,1.4293793970917188,1.0321074614769734,3.4141889388226927,-3.2627900454974736,0.8970925081574527,2.4594875459597123,2.088476284332835,0.5627299798935315,-1.8770295053338497,1.4904461122932537],\"type\":\"scatter3d\"}],                        {\"template\":{\"data\":{\"barpolar\":[{\"marker\":{\"line\":{\"color\":\"white\",\"width\":0.5},\"pattern\":{\"fillmode\":\"overlay\",\"size\":10,\"solidity\":0.2}},\"type\":\"barpolar\"}],\"bar\":[{\"error_x\":{\"color\":\"#2a3f5f\"},\"error_y\":{\"color\":\"#2a3f5f\"},\"marker\":{\"line\":{\"color\":\"white\",\"width\":0.5},\"pattern\":{\"fillmode\":\"overlay\",\"size\":10,\"solidity\":0.2}},\"type\":\"bar\"}],\"carpet\":[{\"aaxis\":{\"endlinecolor\":\"#2a3f5f\",\"gridcolor\":\"#C8D4E3\",\"linecolor\":\"#C8D4E3\",\"minorgridcolor\":\"#C8D4E3\",\"startlinecolor\":\"#2a3f5f\"},\"baxis\":{\"endlinecolor\":\"#2a3f5f\",\"gridcolor\":\"#C8D4E3\",\"linecolor\":\"#C8D4E3\",\"minorgridcolor\":\"#C8D4E3\",\"startlinecolor\":\"#2a3f5f\"},\"type\":\"carpet\"}],\"choropleth\":[{\"colorbar\":{\"outlinewidth\":0,\"ticks\":\"\"},\"type\":\"choropleth\"}],\"contourcarpet\":[{\"colorbar\":{\"outlinewidth\":0,\"ticks\":\"\"},\"type\":\"contourcarpet\"}],\"contour\":[{\"colorbar\":{\"outlinewidth\":0,\"ticks\":\"\"},\"colorscale\":[[0.0,\"#0d0887\"],[0.1111111111111111,\"#46039f\"],[0.2222222222222222,\"#7201a8\"],[0.3333333333333333,\"#9c179e\"],[0.4444444444444444,\"#bd3786\"],[0.5555555555555556,\"#d8576b\"],[0.6666666666666666,\"#ed7953\"],[0.7777777777777778,\"#fb9f3a\"],[0.8888888888888888,\"#fdca26\"],[1.0,\"#f0f921\"]],\"type\":\"contour\"}],\"heatmapgl\":[{\"colorbar\":{\"outlinewidth\":0,\"ticks\":\"\"},\"colorscale\":[[0.0,\"#0d0887\"],[0.1111111111111111,\"#46039f\"],[0.2222222222222222,\"#7201a8\"],[0.3333333333333333,\"#9c179e\"],[0.4444444444444444,\"#bd3786\"],[0.5555555555555556,\"#d8576b\"],[0.6666666666666666,\"#ed7953\"],[0.7777777777777778,\"#fb9f3a\"],[0.8888888888888888,\"#fdca26\"],[1.0,\"#f0f921\"]],\"type\":\"heatmapgl\"}],\"heatmap\":[{\"colorbar\":{\"outlinewidth\":0,\"ticks\":\"\"},\"colorscale\":[[0.0,\"#0d0887\"],[0.1111111111111111,\"#46039f\"],[0.2222222222222222,\"#7201a8\"],[0.3333333333333333,\"#9c179e\"],[0.4444444444444444,\"#bd3786\"],[0.5555555555555556,\"#d8576b\"],[0.6666666666666666,\"#ed7953\"],[0.7777777777777778,\"#fb9f3a\"],[0.8888888888888888,\"#fdca26\"],[1.0,\"#f0f921\"]],\"type\":\"heatmap\"}],\"histogram2dcontour\":[{\"colorbar\":{\"outlinewidth\":0,\"ticks\":\"\"},\"colorscale\":[[0.0,\"#0d0887\"],[0.1111111111111111,\"#46039f\"],[0.2222222222222222,\"#7201a8\"],[0.3333333333333333,\"#9c179e\"],[0.4444444444444444,\"#bd3786\"],[0.5555555555555556,\"#d8576b\"],[0.6666666666666666,\"#ed7953\"],[0.7777777777777778,\"#fb9f3a\"],[0.8888888888888888,\"#fdca26\"],[1.0,\"#f0f921\"]],\"type\":\"histogram2dcontour\"}],\"histogram2d\":[{\"colorbar\":{\"outlinewidth\":0,\"ticks\":\"\"},\"colorscale\":[[0.0,\"#0d0887\"],[0.1111111111111111,\"#46039f\"],[0.2222222222222222,\"#7201a8\"],[0.3333333333333333,\"#9c179e\"],[0.4444444444444444,\"#bd3786\"],[0.5555555555555556,\"#d8576b\"],[0.6666666666666666,\"#ed7953\"],[0.7777777777777778,\"#fb9f3a\"],[0.8888888888888888,\"#fdca26\"],[1.0,\"#f0f921\"]],\"type\":\"histogram2d\"}],\"histogram\":[{\"marker\":{\"pattern\":{\"fillmode\":\"overlay\",\"size\":10,\"solidity\":0.2}},\"type\":\"histogram\"}],\"mesh3d\":[{\"colorbar\":{\"outlinewidth\":0,\"ticks\":\"\"},\"type\":\"mesh3d\"}],\"parcoords\":[{\"line\":{\"colorbar\":{\"outlinewidth\":0,\"ticks\":\"\"}},\"type\":\"parcoords\"}],\"pie\":[{\"automargin\":true,\"type\":\"pie\"}],\"scatter3d\":[{\"line\":{\"colorbar\":{\"outlinewidth\":0,\"ticks\":\"\"}},\"marker\":{\"colorbar\":{\"outlinewidth\":0,\"ticks\":\"\"}},\"type\":\"scatter3d\"}],\"scattercarpet\":[{\"marker\":{\"colorbar\":{\"outlinewidth\":0,\"ticks\":\"\"}},\"type\":\"scattercarpet\"}],\"scattergeo\":[{\"marker\":{\"colorbar\":{\"outlinewidth\":0,\"ticks\":\"\"}},\"type\":\"scattergeo\"}],\"scattergl\":[{\"marker\":{\"colorbar\":{\"outlinewidth\":0,\"ticks\":\"\"}},\"type\":\"scattergl\"}],\"scattermapbox\":[{\"marker\":{\"colorbar\":{\"outlinewidth\":0,\"ticks\":\"\"}},\"type\":\"scattermapbox\"}],\"scatterpolargl\":[{\"marker\":{\"colorbar\":{\"outlinewidth\":0,\"ticks\":\"\"}},\"type\":\"scatterpolargl\"}],\"scatterpolar\":[{\"marker\":{\"colorbar\":{\"outlinewidth\":0,\"ticks\":\"\"}},\"type\":\"scatterpolar\"}],\"scatter\":[{\"fillpattern\":{\"fillmode\":\"overlay\",\"size\":10,\"solidity\":0.2},\"type\":\"scatter\"}],\"scatterternary\":[{\"marker\":{\"colorbar\":{\"outlinewidth\":0,\"ticks\":\"\"}},\"type\":\"scatterternary\"}],\"surface\":[{\"colorbar\":{\"outlinewidth\":0,\"ticks\":\"\"},\"colorscale\":[[0.0,\"#0d0887\"],[0.1111111111111111,\"#46039f\"],[0.2222222222222222,\"#7201a8\"],[0.3333333333333333,\"#9c179e\"],[0.4444444444444444,\"#bd3786\"],[0.5555555555555556,\"#d8576b\"],[0.6666666666666666,\"#ed7953\"],[0.7777777777777778,\"#fb9f3a\"],[0.8888888888888888,\"#fdca26\"],[1.0,\"#f0f921\"]],\"type\":\"surface\"}],\"table\":[{\"cells\":{\"fill\":{\"color\":\"#EBF0F8\"},\"line\":{\"color\":\"white\"}},\"header\":{\"fill\":{\"color\":\"#C8D4E3\"},\"line\":{\"color\":\"white\"}},\"type\":\"table\"}]},\"layout\":{\"annotationdefaults\":{\"arrowcolor\":\"#2a3f5f\",\"arrowhead\":0,\"arrowwidth\":1},\"autotypenumbers\":\"strict\",\"coloraxis\":{\"colorbar\":{\"outlinewidth\":0,\"ticks\":\"\"}},\"colorscale\":{\"diverging\":[[0,\"#8e0152\"],[0.1,\"#c51b7d\"],[0.2,\"#de77ae\"],[0.3,\"#f1b6da\"],[0.4,\"#fde0ef\"],[0.5,\"#f7f7f7\"],[0.6,\"#e6f5d0\"],[0.7,\"#b8e186\"],[0.8,\"#7fbc41\"],[0.9,\"#4d9221\"],[1,\"#276419\"]],\"sequential\":[[0.0,\"#0d0887\"],[0.1111111111111111,\"#46039f\"],[0.2222222222222222,\"#7201a8\"],[0.3333333333333333,\"#9c179e\"],[0.4444444444444444,\"#bd3786\"],[0.5555555555555556,\"#d8576b\"],[0.6666666666666666,\"#ed7953\"],[0.7777777777777778,\"#fb9f3a\"],[0.8888888888888888,\"#fdca26\"],[1.0,\"#f0f921\"]],\"sequentialminus\":[[0.0,\"#0d0887\"],[0.1111111111111111,\"#46039f\"],[0.2222222222222222,\"#7201a8\"],[0.3333333333333333,\"#9c179e\"],[0.4444444444444444,\"#bd3786\"],[0.5555555555555556,\"#d8576b\"],[0.6666666666666666,\"#ed7953\"],[0.7777777777777778,\"#fb9f3a\"],[0.8888888888888888,\"#fdca26\"],[1.0,\"#f0f921\"]]},\"colorway\":[\"#636efa\",\"#EF553B\",\"#00cc96\",\"#ab63fa\",\"#FFA15A\",\"#19d3f3\",\"#FF6692\",\"#B6E880\",\"#FF97FF\",\"#FECB52\"],\"font\":{\"color\":\"#2a3f5f\"},\"geo\":{\"bgcolor\":\"white\",\"lakecolor\":\"white\",\"landcolor\":\"white\",\"showlakes\":true,\"showland\":true,\"subunitcolor\":\"#C8D4E3\"},\"hoverlabel\":{\"align\":\"left\"},\"hovermode\":\"closest\",\"mapbox\":{\"style\":\"light\"},\"paper_bgcolor\":\"white\",\"plot_bgcolor\":\"white\",\"polar\":{\"angularaxis\":{\"gridcolor\":\"#EBF0F8\",\"linecolor\":\"#EBF0F8\",\"ticks\":\"\"},\"bgcolor\":\"white\",\"radialaxis\":{\"gridcolor\":\"#EBF0F8\",\"linecolor\":\"#EBF0F8\",\"ticks\":\"\"}},\"scene\":{\"xaxis\":{\"backgroundcolor\":\"white\",\"gridcolor\":\"#DFE8F3\",\"gridwidth\":2,\"linecolor\":\"#EBF0F8\",\"showbackground\":true,\"ticks\":\"\",\"zerolinecolor\":\"#EBF0F8\"},\"yaxis\":{\"backgroundcolor\":\"white\",\"gridcolor\":\"#DFE8F3\",\"gridwidth\":2,\"linecolor\":\"#EBF0F8\",\"showbackground\":true,\"ticks\":\"\",\"zerolinecolor\":\"#EBF0F8\"},\"zaxis\":{\"backgroundcolor\":\"white\",\"gridcolor\":\"#DFE8F3\",\"gridwidth\":2,\"linecolor\":\"#EBF0F8\",\"showbackground\":true,\"ticks\":\"\",\"zerolinecolor\":\"#EBF0F8\"}},\"shapedefaults\":{\"line\":{\"color\":\"#2a3f5f\"}},\"ternary\":{\"aaxis\":{\"gridcolor\":\"#DFE8F3\",\"linecolor\":\"#A2B1C6\",\"ticks\":\"\"},\"baxis\":{\"gridcolor\":\"#DFE8F3\",\"linecolor\":\"#A2B1C6\",\"ticks\":\"\"},\"bgcolor\":\"white\",\"caxis\":{\"gridcolor\":\"#DFE8F3\",\"linecolor\":\"#A2B1C6\",\"ticks\":\"\"}},\"title\":{\"x\":0.05},\"xaxis\":{\"automargin\":true,\"gridcolor\":\"#EBF0F8\",\"linecolor\":\"#EBF0F8\",\"ticks\":\"\",\"title\":{\"standoff\":15},\"zerolinecolor\":\"#EBF0F8\",\"zerolinewidth\":2},\"yaxis\":{\"automargin\":true,\"gridcolor\":\"#EBF0F8\",\"linecolor\":\"#EBF0F8\",\"ticks\":\"\",\"title\":{\"standoff\":15},\"zerolinecolor\":\"#EBF0F8\",\"zerolinewidth\":2}}},\"scene\":{\"domain\":{\"x\":[0.0,1.0],\"y\":[0.0,1.0]},\"xaxis\":{\"title\":{\"text\":\"PC1\"}},\"yaxis\":{\"title\":{\"text\":\"PC2\"}},\"zaxis\":{\"title\":{\"text\":\"PC3\"}}},\"coloraxis\":{\"colorbar\":{\"title\":{\"text\":\"diagnosis\"}},\"colorscale\":[[0.0,\"#0d0887\"],[0.1111111111111111,\"#46039f\"],[0.2222222222222222,\"#7201a8\"],[0.3333333333333333,\"#9c179e\"],[0.4444444444444444,\"#bd3786\"],[0.5555555555555556,\"#d8576b\"],[0.6666666666666666,\"#ed7953\"],[0.7777777777777778,\"#fb9f3a\"],[0.8888888888888888,\"#fdca26\"],[1.0,\"#f0f921\"]]},\"legend\":{\"tracegroupgap\":0},\"title\":{\"text\":\"PCA - 3 Components\"}},                        {\"responsive\": true}                    ).then(function(){\n",
              "                            \n",
              "var gd = document.getElementById('870a8a4b-cf29-43cc-8dec-450503c9b0bc');\n",
              "var x = new MutationObserver(function (mutations, observer) {{\n",
              "        var display = window.getComputedStyle(gd).display;\n",
              "        if (!display || display === 'none') {{\n",
              "            console.log([gd, 'removed!']);\n",
              "            Plotly.purge(gd);\n",
              "            observer.disconnect();\n",
              "        }}\n",
              "}});\n",
              "\n",
              "// Listen for the removal of the full notebook cells\n",
              "var notebookContainer = gd.closest('#notebook-container');\n",
              "if (notebookContainer) {{\n",
              "    x.observe(notebookContainer, {childList: true});\n",
              "}}\n",
              "\n",
              "// Listen for the clearing of the current output cell\n",
              "var outputEl = gd.closest('.output');\n",
              "if (outputEl) {{\n",
              "    x.observe(outputEl, {childList: true});\n",
              "}}\n",
              "\n",
              "                        })                };                            </script>        </div>\n",
              "</body>\n",
              "</html>"
            ]
          },
          "metadata": {}
        }
      ]
    },
    {
      "cell_type": "code",
      "source": [
        "explained_variance_3d = pca_3d.explained_variance_ratio_\n",
        "print(\"Explained Variance Ratio (3D):\", explained_variance_3d)"
      ],
      "metadata": {
        "colab": {
          "base_uri": "https://localhost:8080/"
        },
        "id": "HEfCl01Le7nu",
        "outputId": "037f040a-036b-4742-bfc3-8c3c73c1fa6c"
      },
      "execution_count": null,
      "outputs": [
        {
          "output_type": "stream",
          "name": "stdout",
          "text": [
            "Explained Variance Ratio (3D): [0.44272026 0.18971182 0.09393163]\n"
          ]
        }
      ]
    },
    {
      "cell_type": "code",
      "source": [
        "components = pd.DataFrame(abs(pca_3d.components_), columns=breast_cancer.feature_names)\n",
        "components"
      ],
      "metadata": {
        "colab": {
          "base_uri": "https://localhost:8080/",
          "height": 271
        },
        "id": "eXv4vsbYfOfT",
        "outputId": "2452c28f-229a-4892-b07b-63d9870c29f7"
      },
      "execution_count": null,
      "outputs": [
        {
          "output_type": "execute_result",
          "data": {
            "text/plain": [
              "   mean radius  mean texture  mean perimeter  mean area  mean smoothness  \\\n",
              "0     0.218902      0.103725        0.227537   0.220995         0.142590   \n",
              "1     0.233857      0.059706        0.215181   0.231077         0.186113   \n",
              "2     0.008531      0.064550        0.009314   0.028700         0.104292   \n",
              "\n",
              "   mean compactness  mean concavity  mean concave points  mean symmetry  \\\n",
              "0          0.239285        0.258400             0.260854       0.138167   \n",
              "1          0.151892        0.060165             0.034768       0.190349   \n",
              "2          0.074092        0.002734             0.025563       0.040240   \n",
              "\n",
              "   mean fractal dimension  ...  worst radius  worst texture  worst perimeter  \\\n",
              "0                0.064363  ...      0.227997       0.104469         0.236640   \n",
              "1                0.366575  ...      0.219866       0.045467         0.199878   \n",
              "2                0.022574  ...      0.047507       0.042298         0.048547   \n",
              "\n",
              "   worst area  worst smoothness  worst compactness  worst concavity  \\\n",
              "0    0.224871          0.127953           0.210096         0.228768   \n",
              "1    0.219352          0.172304           0.143593         0.097964   \n",
              "2    0.011902          0.259798           0.236076         0.173057   \n",
              "\n",
              "   worst concave points  worst symmetry  worst fractal dimension  \n",
              "0              0.250886        0.122905                 0.131784  \n",
              "1              0.008257        0.141883                 0.275339  \n",
              "2              0.170344        0.271313                 0.232791  \n",
              "\n",
              "[3 rows x 30 columns]"
            ],
            "text/html": [
              "\n",
              "  <div id=\"df-edc0e779-3ab9-49f1-b443-cf7e240d4bf6\">\n",
              "    <div class=\"colab-df-container\">\n",
              "      <div>\n",
              "<style scoped>\n",
              "    .dataframe tbody tr th:only-of-type {\n",
              "        vertical-align: middle;\n",
              "    }\n",
              "\n",
              "    .dataframe tbody tr th {\n",
              "        vertical-align: top;\n",
              "    }\n",
              "\n",
              "    .dataframe thead th {\n",
              "        text-align: right;\n",
              "    }\n",
              "</style>\n",
              "<table border=\"1\" class=\"dataframe\">\n",
              "  <thead>\n",
              "    <tr style=\"text-align: right;\">\n",
              "      <th></th>\n",
              "      <th>mean radius</th>\n",
              "      <th>mean texture</th>\n",
              "      <th>mean perimeter</th>\n",
              "      <th>mean area</th>\n",
              "      <th>mean smoothness</th>\n",
              "      <th>mean compactness</th>\n",
              "      <th>mean concavity</th>\n",
              "      <th>mean concave points</th>\n",
              "      <th>mean symmetry</th>\n",
              "      <th>mean fractal dimension</th>\n",
              "      <th>...</th>\n",
              "      <th>worst radius</th>\n",
              "      <th>worst texture</th>\n",
              "      <th>worst perimeter</th>\n",
              "      <th>worst area</th>\n",
              "      <th>worst smoothness</th>\n",
              "      <th>worst compactness</th>\n",
              "      <th>worst concavity</th>\n",
              "      <th>worst concave points</th>\n",
              "      <th>worst symmetry</th>\n",
              "      <th>worst fractal dimension</th>\n",
              "    </tr>\n",
              "  </thead>\n",
              "  <tbody>\n",
              "    <tr>\n",
              "      <th>0</th>\n",
              "      <td>0.218902</td>\n",
              "      <td>0.103725</td>\n",
              "      <td>0.227537</td>\n",
              "      <td>0.220995</td>\n",
              "      <td>0.142590</td>\n",
              "      <td>0.239285</td>\n",
              "      <td>0.258400</td>\n",
              "      <td>0.260854</td>\n",
              "      <td>0.138167</td>\n",
              "      <td>0.064363</td>\n",
              "      <td>...</td>\n",
              "      <td>0.227997</td>\n",
              "      <td>0.104469</td>\n",
              "      <td>0.236640</td>\n",
              "      <td>0.224871</td>\n",
              "      <td>0.127953</td>\n",
              "      <td>0.210096</td>\n",
              "      <td>0.228768</td>\n",
              "      <td>0.250886</td>\n",
              "      <td>0.122905</td>\n",
              "      <td>0.131784</td>\n",
              "    </tr>\n",
              "    <tr>\n",
              "      <th>1</th>\n",
              "      <td>0.233857</td>\n",
              "      <td>0.059706</td>\n",
              "      <td>0.215181</td>\n",
              "      <td>0.231077</td>\n",
              "      <td>0.186113</td>\n",
              "      <td>0.151892</td>\n",
              "      <td>0.060165</td>\n",
              "      <td>0.034768</td>\n",
              "      <td>0.190349</td>\n",
              "      <td>0.366575</td>\n",
              "      <td>...</td>\n",
              "      <td>0.219866</td>\n",
              "      <td>0.045467</td>\n",
              "      <td>0.199878</td>\n",
              "      <td>0.219352</td>\n",
              "      <td>0.172304</td>\n",
              "      <td>0.143593</td>\n",
              "      <td>0.097964</td>\n",
              "      <td>0.008257</td>\n",
              "      <td>0.141883</td>\n",
              "      <td>0.275339</td>\n",
              "    </tr>\n",
              "    <tr>\n",
              "      <th>2</th>\n",
              "      <td>0.008531</td>\n",
              "      <td>0.064550</td>\n",
              "      <td>0.009314</td>\n",
              "      <td>0.028700</td>\n",
              "      <td>0.104292</td>\n",
              "      <td>0.074092</td>\n",
              "      <td>0.002734</td>\n",
              "      <td>0.025563</td>\n",
              "      <td>0.040240</td>\n",
              "      <td>0.022574</td>\n",
              "      <td>...</td>\n",
              "      <td>0.047507</td>\n",
              "      <td>0.042298</td>\n",
              "      <td>0.048547</td>\n",
              "      <td>0.011902</td>\n",
              "      <td>0.259798</td>\n",
              "      <td>0.236076</td>\n",
              "      <td>0.173057</td>\n",
              "      <td>0.170344</td>\n",
              "      <td>0.271313</td>\n",
              "      <td>0.232791</td>\n",
              "    </tr>\n",
              "  </tbody>\n",
              "</table>\n",
              "<p>3 rows × 30 columns</p>\n",
              "</div>\n",
              "      <button class=\"colab-df-convert\" onclick=\"convertToInteractive('df-edc0e779-3ab9-49f1-b443-cf7e240d4bf6')\"\n",
              "              title=\"Convert this dataframe to an interactive table.\"\n",
              "              style=\"display:none;\">\n",
              "        \n",
              "  <svg xmlns=\"http://www.w3.org/2000/svg\" height=\"24px\"viewBox=\"0 0 24 24\"\n",
              "       width=\"24px\">\n",
              "    <path d=\"M0 0h24v24H0V0z\" fill=\"none\"/>\n",
              "    <path d=\"M18.56 5.44l.94 2.06.94-2.06 2.06-.94-2.06-.94-.94-2.06-.94 2.06-2.06.94zm-11 1L8.5 8.5l.94-2.06 2.06-.94-2.06-.94L8.5 2.5l-.94 2.06-2.06.94zm10 10l.94 2.06.94-2.06 2.06-.94-2.06-.94-.94-2.06-.94 2.06-2.06.94z\"/><path d=\"M17.41 7.96l-1.37-1.37c-.4-.4-.92-.59-1.43-.59-.52 0-1.04.2-1.43.59L10.3 9.45l-7.72 7.72c-.78.78-.78 2.05 0 2.83L4 21.41c.39.39.9.59 1.41.59.51 0 1.02-.2 1.41-.59l7.78-7.78 2.81-2.81c.8-.78.8-2.07 0-2.86zM5.41 20L4 18.59l7.72-7.72 1.47 1.35L5.41 20z\"/>\n",
              "  </svg>\n",
              "      </button>\n",
              "      \n",
              "  <style>\n",
              "    .colab-df-container {\n",
              "      display:flex;\n",
              "      flex-wrap:wrap;\n",
              "      gap: 12px;\n",
              "    }\n",
              "\n",
              "    .colab-df-convert {\n",
              "      background-color: #E8F0FE;\n",
              "      border: none;\n",
              "      border-radius: 50%;\n",
              "      cursor: pointer;\n",
              "      display: none;\n",
              "      fill: #1967D2;\n",
              "      height: 32px;\n",
              "      padding: 0 0 0 0;\n",
              "      width: 32px;\n",
              "    }\n",
              "\n",
              "    .colab-df-convert:hover {\n",
              "      background-color: #E2EBFA;\n",
              "      box-shadow: 0px 1px 2px rgba(60, 64, 67, 0.3), 0px 1px 3px 1px rgba(60, 64, 67, 0.15);\n",
              "      fill: #174EA6;\n",
              "    }\n",
              "\n",
              "    [theme=dark] .colab-df-convert {\n",
              "      background-color: #3B4455;\n",
              "      fill: #D2E3FC;\n",
              "    }\n",
              "\n",
              "    [theme=dark] .colab-df-convert:hover {\n",
              "      background-color: #434B5C;\n",
              "      box-shadow: 0px 1px 3px 1px rgba(0, 0, 0, 0.15);\n",
              "      filter: drop-shadow(0px 1px 2px rgba(0, 0, 0, 0.3));\n",
              "      fill: #FFFFFF;\n",
              "    }\n",
              "  </style>\n",
              "\n",
              "      <script>\n",
              "        const buttonEl =\n",
              "          document.querySelector('#df-edc0e779-3ab9-49f1-b443-cf7e240d4bf6 button.colab-df-convert');\n",
              "        buttonEl.style.display =\n",
              "          google.colab.kernel.accessAllowed ? 'block' : 'none';\n",
              "\n",
              "        async function convertToInteractive(key) {\n",
              "          const element = document.querySelector('#df-edc0e779-3ab9-49f1-b443-cf7e240d4bf6');\n",
              "          const dataTable =\n",
              "            await google.colab.kernel.invokeFunction('convertToInteractive',\n",
              "                                                     [key], {});\n",
              "          if (!dataTable) return;\n",
              "\n",
              "          const docLinkHtml = 'Like what you see? Visit the ' +\n",
              "            '<a target=\"_blank\" href=https://colab.research.google.com/notebooks/data_table.ipynb>data table notebook</a>'\n",
              "            + ' to learn more about interactive tables.';\n",
              "          element.innerHTML = '';\n",
              "          dataTable['output_type'] = 'display_data';\n",
              "          await google.colab.output.renderOutput(dataTable, element);\n",
              "          const docLink = document.createElement('div');\n",
              "          docLink.innerHTML = docLinkHtml;\n",
              "          element.appendChild(docLink);\n",
              "        }\n",
              "      </script>\n",
              "    </div>\n",
              "  </div>\n",
              "  "
            ]
          },
          "metadata": {},
          "execution_count": 30
        }
      ]
    },
    {
      "cell_type": "code",
      "source": [],
      "metadata": {
        "id": "-YKalInAry23"
      },
      "execution_count": null,
      "outputs": []
    }
  ]
}